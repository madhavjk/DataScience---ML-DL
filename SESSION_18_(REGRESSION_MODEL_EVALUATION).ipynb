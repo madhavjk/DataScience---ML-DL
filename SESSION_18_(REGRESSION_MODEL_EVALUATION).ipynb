{
  "nbformat": 4,
  "nbformat_minor": 0,
  "metadata": {
    "kernelspec": {
      "display_name": "Python 3",
      "language": "python",
      "name": "python3"
    },
    "language_info": {
      "codemirror_mode": {
        "name": "ipython",
        "version": 3
      },
      "file_extension": ".py",
      "mimetype": "text/x-python",
      "name": "python",
      "nbconvert_exporter": "python",
      "pygments_lexer": "ipython3",
      "version": "3.7.3"
    },
    "colab": {
      "name": "SESSION 18 (REGRESSION MODEL EVALUATION).ipynb",
      "provenance": [],
      "include_colab_link": true
    }
  },
  "cells": [
    {
      "cell_type": "markdown",
      "metadata": {
        "id": "view-in-github",
        "colab_type": "text"
      },
      "source": [
        "<a href=\"https://colab.research.google.com/github/madhavjk/DataScience-ML_and_DL/blob/main/SESSION_18_(REGRESSION_MODEL_EVALUATION).ipynb\" target=\"_parent\"><img src=\"https://colab.research.google.com/assets/colab-badge.svg\" alt=\"Open In Colab\"/></a>"
      ]
    },
    {
      "cell_type": "markdown",
      "metadata": {
        "id": "ic_qdJdL2KHV"
      },
      "source": [
        "# Regression Model Evaluation"
      ]
    },
    {
      "cell_type": "code",
      "metadata": {
        "id": "XU26uYZX2KHc"
      },
      "source": [
        "import numpy as np\n",
        "import pandas as pd\n",
        "import matplotlib.pyplot as plt\n",
        "import seaborn as sns"
      ],
      "execution_count": null,
      "outputs": []
    },
    {
      "cell_type": "code",
      "metadata": {
        "id": "WxR8_RYw2KHf"
      },
      "source": [
        "df = pd.read_csv('Salary_Data.csv')\n",
        "X = df.iloc[:, :-1].values\n",
        "Y = df.iloc[:, -1].values"
      ],
      "execution_count": null,
      "outputs": []
    },
    {
      "cell_type": "code",
      "metadata": {
        "id": "YqXVYGZs2KHh"
      },
      "source": [
        "from sklearn.model_selection import train_test_split\n",
        "x1,x2,y1,y2 = train_test_split(X,Y,test_size = 0.3)"
      ],
      "execution_count": null,
      "outputs": []
    },
    {
      "cell_type": "code",
      "metadata": {
        "id": "1PrYvxCO2KHi",
        "outputId": "f1cdd674-d11c-4781-ad7b-93b0297a9d30"
      },
      "source": [
        "from sklearn.linear_model import LinearRegression\n",
        "model = LinearRegression()\n",
        "model.fit(x1,y1)"
      ],
      "execution_count": null,
      "outputs": [
        {
          "output_type": "execute_result",
          "data": {
            "text/plain": [
              "LinearRegression(copy_X=True, fit_intercept=True, n_jobs=None, normalize=False)"
            ]
          },
          "metadata": {
            "tags": []
          },
          "execution_count": 5
        }
      ]
    },
    {
      "cell_type": "code",
      "metadata": {
        "id": "RUWGQShF2KHk"
      },
      "source": [
        "y_pred = model.predict(x2)"
      ],
      "execution_count": null,
      "outputs": []
    },
    {
      "cell_type": "markdown",
      "metadata": {
        "id": "Cxkf73Mn2KHl"
      },
      "source": [
        "## R-Squared Score (Coefficient of Determination)\n",
        "<img align = \"left\" src = \"R_square.png\" style = \"width:400px; hieght:250px\" />"
      ]
    },
    {
      "cell_type": "code",
      "metadata": {
        "id": "HLpWq3S92KHm",
        "outputId": "8d9bf19b-464c-4193-a35e-341b35e01ad0"
      },
      "source": [
        "model.score(x2,y2)"
      ],
      "execution_count": null,
      "outputs": [
        {
          "output_type": "execute_result",
          "data": {
            "text/plain": [
              "0.9624632174108467"
            ]
          },
          "metadata": {
            "tags": []
          },
          "execution_count": 6
        }
      ]
    },
    {
      "cell_type": "markdown",
      "metadata": {
        "id": "UrE6OatU2KHw"
      },
      "source": [
        "## Mean Absolute Error\n",
        "<img align = \"left\" src = \"MAE.png\" style = \"width:300px; hieght:200px\" />"
      ]
    },
    {
      "cell_type": "code",
      "metadata": {
        "id": "ylLODpnT2KHx",
        "outputId": "cf19f1eb-a050-4d00-d1d9-a5aaad05bd31"
      },
      "source": [
        "from sklearn.metrics import mean_absolute_error\n",
        "mean_absolute_error(y_pred,y2 )"
      ],
      "execution_count": null,
      "outputs": [
        {
          "output_type": "execute_result",
          "data": {
            "text/plain": [
              "5257.494561032185"
            ]
          },
          "metadata": {
            "tags": []
          },
          "execution_count": 8
        }
      ]
    },
    {
      "cell_type": "markdown",
      "metadata": {
        "id": "nB0MDVZS2KHz"
      },
      "source": [
        "## Mean Squared Error\n",
        "<img align = \"left\" src = \"MSE.png\" style = \"width:300px; hieght:200px\" />"
      ]
    },
    {
      "cell_type": "code",
      "metadata": {
        "id": "9bNFkhKC2KH0",
        "outputId": "c133f983-6a4a-48d9-f920-0334cc93143d"
      },
      "source": [
        "from sklearn.metrics import mean_squared_error\n",
        "mean_squared_error(y_pred,y2)"
      ],
      "execution_count": null,
      "outputs": [
        {
          "output_type": "execute_result",
          "data": {
            "text/plain": [
              "38152865.05247471"
            ]
          },
          "metadata": {
            "tags": []
          },
          "execution_count": 9
        }
      ]
    },
    {
      "cell_type": "markdown",
      "metadata": {
        "id": "TYjRJDZO2KH2"
      },
      "source": [
        "## Root Mean Squared Error"
      ]
    },
    {
      "cell_type": "code",
      "metadata": {
        "id": "kIpDkdgL2KH2",
        "outputId": "c7d266d6-b317-49eb-edaa-25a03777dfd5"
      },
      "source": [
        "from sklearn.metrics import mean_squared_error\n",
        "mean_squared_error(y_pred,y2, squared = False)"
      ],
      "execution_count": null,
      "outputs": [
        {
          "output_type": "error",
          "ename": "TypeError",
          "evalue": "mean_squared_error() got an unexpected keyword argument 'squared'",
          "traceback": [
            "\u001b[1;31m---------------------------------------------------------------------------\u001b[0m",
            "\u001b[1;31mTypeError\u001b[0m                                 Traceback (most recent call last)",
            "\u001b[1;32m<ipython-input-10-3ca3dd6b3bf7>\u001b[0m in \u001b[0;36m<module>\u001b[1;34m\u001b[0m\n\u001b[0;32m      1\u001b[0m \u001b[1;32mfrom\u001b[0m \u001b[0msklearn\u001b[0m\u001b[1;33m.\u001b[0m\u001b[0mmetrics\u001b[0m \u001b[1;32mimport\u001b[0m \u001b[0mmean_squared_error\u001b[0m\u001b[1;33m\u001b[0m\u001b[1;33m\u001b[0m\u001b[0m\n\u001b[1;32m----> 2\u001b[1;33m \u001b[0mmean_squared_error\u001b[0m\u001b[1;33m(\u001b[0m\u001b[0my_pred\u001b[0m\u001b[1;33m,\u001b[0m\u001b[0my2\u001b[0m\u001b[1;33m,\u001b[0m \u001b[0msquared\u001b[0m \u001b[1;33m=\u001b[0m \u001b[1;32mFalse\u001b[0m\u001b[1;33m)\u001b[0m\u001b[1;33m\u001b[0m\u001b[1;33m\u001b[0m\u001b[0m\n\u001b[0m",
            "\u001b[1;31mTypeError\u001b[0m: mean_squared_error() got an unexpected keyword argument 'squared'"
          ]
        }
      ]
    },
    {
      "cell_type": "markdown",
      "metadata": {
        "id": "6filojdx2KH4"
      },
      "source": [
        "## Mean Squared Log Error"
      ]
    },
    {
      "cell_type": "code",
      "metadata": {
        "id": "xOjlacva2KH4",
        "outputId": "f84cc8fd-1606-4d37-bb8e-da7beab0e4d0"
      },
      "source": [
        "from sklearn.metrics import mean_squared_log_error\n",
        "mean_squared_log_error(y_pred,y2)"
      ],
      "execution_count": null,
      "outputs": [
        {
          "output_type": "execute_result",
          "data": {
            "text/plain": [
              "0.011111811121811588"
            ]
          },
          "metadata": {
            "tags": []
          },
          "execution_count": 12
        }
      ]
    },
    {
      "cell_type": "markdown",
      "metadata": {
        "id": "zbcJK2wn2KJF"
      },
      "source": [
        "## Cross Validation Score\n",
        "<img align = \"left\" src = \"kfolds.png\" style = \"width:500px; hieght:500px\" />"
      ]
    },
    {
      "cell_type": "code",
      "metadata": {
        "id": "-GY37ZUp2KJG",
        "outputId": "8962d115-eceb-4f5f-f5f1-09623e271d9a"
      },
      "source": [
        "from sklearn.model_selection import cross_val_score\n",
        "cross_val_score(model,X,Y,cv = 5)"
      ],
      "execution_count": null,
      "outputs": [
        {
          "output_type": "execute_result",
          "data": {
            "text/plain": [
              "array([ 0.3595933 , -1.24422823,  0.25052696,  0.29699762,  0.07028896])"
            ]
          },
          "metadata": {
            "tags": []
          },
          "execution_count": 15
        }
      ]
    },
    {
      "cell_type": "code",
      "metadata": {
        "id": "rdz431112KJH"
      },
      "source": [
        ""
      ],
      "execution_count": null,
      "outputs": []
    }
  ]
}