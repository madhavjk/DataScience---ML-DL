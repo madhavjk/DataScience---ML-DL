{
  "nbformat": 4,
  "nbformat_minor": 0,
  "metadata": {
    "kernelspec": {
      "display_name": "Python 3",
      "language": "python",
      "name": "python3"
    },
    "language_info": {
      "codemirror_mode": {
        "name": "ipython",
        "version": 3
      },
      "file_extension": ".py",
      "mimetype": "text/x-python",
      "name": "python",
      "nbconvert_exporter": "python",
      "pygments_lexer": "ipython3",
      "version": "3.7.3"
    },
    "colab": {
      "name": "Session-4(Functions).ipynb",
      "provenance": [],
      "include_colab_link": true
    }
  },
  "cells": [
    {
      "cell_type": "markdown",
      "metadata": {
        "id": "view-in-github",
        "colab_type": "text"
      },
      "source": [
        "<a href=\"https://colab.research.google.com/github/madhavjk/DataScience-ML_and_DL/blob/main/Session_4(Functions).ipynb\" target=\"_parent\"><img src=\"https://colab.research.google.com/assets/colab-badge.svg\" alt=\"Open In Colab\"/></a>"
      ]
    },
    {
      "cell_type": "markdown",
      "metadata": {
        "id": "S9dcEMH7ylAN"
      },
      "source": [
        "# Functions"
      ]
    },
    {
      "cell_type": "code",
      "metadata": {
        "id": "EgK5RdxDylAQ"
      },
      "source": [
        "def function_name():\n",
        "    print(\"Hello\")\n",
        "    "
      ],
      "execution_count": null,
      "outputs": []
    },
    {
      "cell_type": "code",
      "metadata": {
        "id": "Lpy1rsk3ylAT",
        "outputId": "ca56e8c7-4796-4cac-c09d-c38b60819537"
      },
      "source": [
        "function_name()"
      ],
      "execution_count": null,
      "outputs": [
        {
          "output_type": "stream",
          "text": [
            "Hello\n"
          ],
          "name": "stdout"
        }
      ]
    },
    {
      "cell_type": "code",
      "metadata": {
        "id": "v60ztsKPylAW"
      },
      "source": [
        "def add(num1, num2):\n",
        "    num3 = num1 +num2\n",
        "    print(num3)"
      ],
      "execution_count": null,
      "outputs": []
    },
    {
      "cell_type": "code",
      "metadata": {
        "id": "i4mqEObCylAX",
        "outputId": "76b3e38e-5ba4-4b31-eaaf-83f909c5e8c0"
      },
      "source": [
        "add(1,2)"
      ],
      "execution_count": null,
      "outputs": [
        {
          "output_type": "stream",
          "text": [
            "3\n"
          ],
          "name": "stdout"
        }
      ]
    },
    {
      "cell_type": "code",
      "metadata": {
        "id": "QnqVRcgKylAY"
      },
      "source": [
        "def add(num1,num2):\n",
        "    return num1+num2"
      ],
      "execution_count": null,
      "outputs": []
    },
    {
      "cell_type": "code",
      "metadata": {
        "id": "34eGiy4oylAZ",
        "outputId": "532fef73-3724-4505-9b6b-d5ee15e56a76"
      },
      "source": [
        "a = add(2,3)\n",
        "a"
      ],
      "execution_count": null,
      "outputs": [
        {
          "output_type": "execute_result",
          "data": {
            "text/plain": [
              "5"
            ]
          },
          "metadata": {
            "tags": []
          },
          "execution_count": 6
        }
      ]
    },
    {
      "cell_type": "code",
      "metadata": {
        "id": "vOD124IZylAb"
      },
      "source": [
        "def division(num1, num2 = 1):\n",
        "    return num1//num2"
      ],
      "execution_count": null,
      "outputs": []
    },
    {
      "cell_type": "code",
      "metadata": {
        "id": "tolKTJBmylAb",
        "outputId": "6363f0f2-0a7e-413e-d921-e2b528f893da"
      },
      "source": [
        "a = division(6,2)\n",
        "a"
      ],
      "execution_count": null,
      "outputs": [
        {
          "output_type": "execute_result",
          "data": {
            "text/plain": [
              "3"
            ]
          },
          "metadata": {
            "tags": []
          },
          "execution_count": 10
        }
      ]
    },
    {
      "cell_type": "code",
      "metadata": {
        "id": "2PqUOuXMylAc",
        "outputId": "5aa1dc89-c51b-4236-c286-da6067b048ad"
      },
      "source": [
        "a = division(6)\n",
        "a"
      ],
      "execution_count": null,
      "outputs": [
        {
          "output_type": "execute_result",
          "data": {
            "text/plain": [
              "6"
            ]
          },
          "metadata": {
            "tags": []
          },
          "execution_count": 11
        }
      ]
    },
    {
      "cell_type": "code",
      "metadata": {
        "id": "3QYDbbSbylAe"
      },
      "source": [
        "def division(num1 = 1, num2 = 1):\n",
        "    return num1//num2"
      ],
      "execution_count": null,
      "outputs": []
    },
    {
      "cell_type": "code",
      "metadata": {
        "id": "lconf6qvylAe",
        "outputId": "04ff13c5-1c06-4ef4-e835-70866426246c"
      },
      "source": [
        "division()"
      ],
      "execution_count": null,
      "outputs": [
        {
          "output_type": "execute_result",
          "data": {
            "text/plain": [
              "1"
            ]
          },
          "metadata": {
            "tags": []
          },
          "execution_count": 13
        }
      ]
    },
    {
      "cell_type": "code",
      "metadata": {
        "id": "hDd5QXcFylAf",
        "outputId": "6748e016-7ea1-440c-da95-81c45b32bbfe"
      },
      "source": [
        "def details(stud_id, name, age):\n",
        "    print(stud_id)\n",
        "    print(name)\n",
        "    print(age)\n",
        "details(102, \"Tom\", 24)"
      ],
      "execution_count": null,
      "outputs": [
        {
          "output_type": "stream",
          "text": [
            "102\n",
            "Tom\n",
            "24\n"
          ],
          "name": "stdout"
        }
      ]
    },
    {
      "cell_type": "code",
      "metadata": {
        "id": "--UCmWofylAh"
      },
      "source": [
        ""
      ],
      "execution_count": null,
      "outputs": []
    },
    {
      "cell_type": "code",
      "metadata": {
        "id": "vxH-gHwIylAi",
        "outputId": "499a5978-fe45-46f1-d1e4-4b2270591304"
      },
      "source": [
        "details(101, name = \"John\", age = 25)"
      ],
      "execution_count": null,
      "outputs": [
        {
          "output_type": "stream",
          "text": [
            "101\n",
            "John\n",
            "25\n"
          ],
          "name": "stdout"
        }
      ]
    },
    {
      "cell_type": "code",
      "metadata": {
        "id": "M9M4ROyGylAk",
        "outputId": "75e80352-5120-4b3c-e67b-50d007688565"
      },
      "source": [
        "details(101, \"John\", 25)"
      ],
      "execution_count": null,
      "outputs": [
        {
          "output_type": "stream",
          "text": [
            "101\n",
            "John\n",
            "25\n"
          ],
          "name": "stdout"
        }
      ]
    },
    {
      "cell_type": "code",
      "metadata": {
        "id": "Y5OVfUdQylAu",
        "outputId": "ca78f5fc-6a37-40b1-af82-e6d46a668616"
      },
      "source": [
        "details(name = \"John\", age = 25, stud_id = 101)"
      ],
      "execution_count": null,
      "outputs": [
        {
          "output_type": "stream",
          "text": [
            "101\n",
            "John\n",
            "25\n"
          ],
          "name": "stdout"
        }
      ]
    },
    {
      "cell_type": "code",
      "metadata": {
        "id": "5ZkkVN8DylAv",
        "outputId": "a7afb7f2-35c3-4487-948c-beee7e5f6968"
      },
      "source": [
        "details(101, age = 25, name = \"John\")"
      ],
      "execution_count": null,
      "outputs": [
        {
          "output_type": "stream",
          "text": [
            "101\n",
            "John\n",
            "25\n"
          ],
          "name": "stdout"
        }
      ]
    },
    {
      "cell_type": "code",
      "metadata": {
        "id": "_5YHOwhPylAv",
        "outputId": "7ef59f43-8bb4-40ca-f674-59df35404969"
      },
      "source": [
        "details( age = 25, \"John\",101)"
      ],
      "execution_count": null,
      "outputs": [
        {
          "output_type": "error",
          "ename": "SyntaxError",
          "evalue": "positional argument follows keyword argument (<ipython-input-26-f0fa130b47be>, line 1)",
          "traceback": [
            "\u001b[1;36m  File \u001b[1;32m\"<ipython-input-26-f0fa130b47be>\"\u001b[1;36m, line \u001b[1;32m1\u001b[0m\n\u001b[1;33m    details( age = 25, \"John\",101)\u001b[0m\n\u001b[1;37m                      ^\u001b[0m\n\u001b[1;31mSyntaxError\u001b[0m\u001b[1;31m:\u001b[0m positional argument follows keyword argument\n"
          ]
        }
      ]
    },
    {
      "cell_type": "code",
      "metadata": {
        "id": "QTvXOQwDylA8",
        "outputId": "b24c4a53-a64d-45bd-bce3-029f4f47e233"
      },
      "source": [
        "details( 101,\"John\",age = 25)"
      ],
      "execution_count": null,
      "outputs": [
        {
          "output_type": "stream",
          "text": [
            "101\n",
            "John\n",
            "25\n"
          ],
          "name": "stdout"
        }
      ]
    },
    {
      "cell_type": "markdown",
      "metadata": {
        "id": "2Wn5SPyOylA9"
      },
      "source": [
        "## *args"
      ]
    },
    {
      "cell_type": "code",
      "metadata": {
        "id": "s2S-hJTZylA9"
      },
      "source": [
        "def add(num1,num2):\n",
        "    return num1+num2"
      ],
      "execution_count": null,
      "outputs": []
    },
    {
      "cell_type": "code",
      "metadata": {
        "id": "mvcYNy94ylA_"
      },
      "source": [
        "def add(num1,num2,num3):\n",
        "    return num1+num2+num3"
      ],
      "execution_count": null,
      "outputs": []
    },
    {
      "cell_type": "code",
      "metadata": {
        "id": "dwusubi2ylA_"
      },
      "source": [
        "def add(num1,num2,num3,num4):\n",
        "    return num1+num2+num3+num4"
      ],
      "execution_count": null,
      "outputs": []
    },
    {
      "cell_type": "code",
      "metadata": {
        "id": "mPWh7bqUylBB"
      },
      "source": [
        "def add(*numbers):\n",
        "    return sum(numbers)"
      ],
      "execution_count": null,
      "outputs": []
    },
    {
      "cell_type": "code",
      "metadata": {
        "id": "7Z3aNRvqylBC",
        "outputId": "dfc7bfce-4aa7-462f-f8d7-cf15a37bb870"
      },
      "source": [
        "\n",
        "\n",
        "\n",
        "\n",
        "add(1,2)\n",
        "\n",
        "\n",
        "\n"
      ],
      "execution_count": null,
      "outputs": [
        {
          "output_type": "execute_result",
          "data": {
            "text/plain": [
              "3"
            ]
          },
          "metadata": {
            "tags": []
          },
          "execution_count": 35
        }
      ]
    },
    {
      "cell_type": "code",
      "metadata": {
        "id": "6M-ExvzuylBF",
        "outputId": "25a1d2e5-124b-4247-aa76-ea7af8a2b405"
      },
      "source": [
        "add(1,2,3,4,5)"
      ],
      "execution_count": null,
      "outputs": [
        {
          "output_type": "execute_result",
          "data": {
            "text/plain": [
              "15"
            ]
          },
          "metadata": {
            "tags": []
          },
          "execution_count": 36
        }
      ]
    },
    {
      "cell_type": "code",
      "metadata": {
        "id": "kZ0xBPTsylBG",
        "outputId": "82d26f6a-3690-402f-dd41-a7e45b42e605"
      },
      "source": [
        "add(1,2,3,4,5,6,7,8,9)"
      ],
      "execution_count": null,
      "outputs": [
        {
          "output_type": "execute_result",
          "data": {
            "text/plain": [
              "45"
            ]
          },
          "metadata": {
            "tags": []
          },
          "execution_count": 37
        }
      ]
    },
    {
      "cell_type": "code",
      "metadata": {
        "id": "Fqh22LFyylBH",
        "outputId": "cf7c6f17-3f86-48eb-a556-e96420100f45"
      },
      "source": [
        "add(1,2,3,4,5)"
      ],
      "execution_count": null,
      "outputs": [
        {
          "output_type": "execute_result",
          "data": {
            "text/plain": [
              "15"
            ]
          },
          "metadata": {
            "tags": []
          },
          "execution_count": 40
        }
      ]
    },
    {
      "cell_type": "markdown",
      "metadata": {
        "id": "CumhChO2ylBI"
      },
      "source": [
        "## **kwargs"
      ]
    },
    {
      "cell_type": "code",
      "metadata": {
        "id": "sfy4zW_oylBJ"
      },
      "source": [
        "def details(**kwargs):\n",
        "    print(kwargs)"
      ],
      "execution_count": null,
      "outputs": []
    },
    {
      "cell_type": "code",
      "metadata": {
        "id": "3rlIB0gVylBL",
        "outputId": "dc56e455-0ca0-4dad-a285-b0df9bf5a2a8"
      },
      "source": [
        "details(first_name = \"John\", last_name= \"wick\",city=\"xyx\")"
      ],
      "execution_count": null,
      "outputs": [
        {
          "output_type": "stream",
          "text": [
            "{'first_name': 'John', 'last_name': 'wick', 'city': 'xyx'}\n"
          ],
          "name": "stdout"
        }
      ]
    },
    {
      "cell_type": "code",
      "metadata": {
        "id": "OdeyjJXlylBM",
        "outputId": "fcfdae7d-974b-425f-fab8-bb11839e23df"
      },
      "source": [
        "details(first_name = \"John\", last_name= \"wick\")"
      ],
      "execution_count": null,
      "outputs": [
        {
          "output_type": "stream",
          "text": [
            "{'first_name': 'John', 'last_name': 'wick'}\n"
          ],
          "name": "stdout"
        }
      ]
    },
    {
      "cell_type": "code",
      "metadata": {
        "id": "-Kh13dAqylBR",
        "outputId": "89a0c23a-772c-4620-f1ba-5a314542cb1d"
      },
      "source": [
        "details(first_name = \"John\")"
      ],
      "execution_count": null,
      "outputs": [
        {
          "output_type": "stream",
          "text": [
            "{'first_name': 'John'}\n"
          ],
          "name": "stdout"
        }
      ]
    },
    {
      "cell_type": "code",
      "metadata": {
        "id": "3sNOrQhZylBf"
      },
      "source": [
        "def marks(*marks, **details):\n",
        "    print(marks)\n",
        "    print(details)"
      ],
      "execution_count": null,
      "outputs": []
    },
    {
      "cell_type": "code",
      "metadata": {
        "id": "qNfPGkaSylBg",
        "outputId": "f53357bb-403f-4145-f2d1-6181ff90b2af"
      },
      "source": [
        "marks(90,90,90, name = \"John\", roll_no = 24)"
      ],
      "execution_count": null,
      "outputs": [
        {
          "output_type": "stream",
          "text": [
            "(90, 90, 90)\n",
            "{'name': 'John', 'roll_no': 24}\n"
          ],
          "name": "stdout"
        }
      ]
    },
    {
      "cell_type": "code",
      "metadata": {
        "id": "8_4OsNgoylBi",
        "outputId": "63eddd49-e695-453e-f799-809ec0345496"
      },
      "source": [
        "def marks(**details, *marks):\n",
        "    print(marks)\n",
        "    print(details)"
      ],
      "execution_count": null,
      "outputs": [
        {
          "output_type": "error",
          "ename": "SyntaxError",
          "evalue": "invalid syntax (<ipython-input-55-9493a036ce80>, line 1)",
          "traceback": [
            "\u001b[1;36m  File \u001b[1;32m\"<ipython-input-55-9493a036ce80>\"\u001b[1;36m, line \u001b[1;32m1\u001b[0m\n\u001b[1;33m    def marks(**details, *marks):\u001b[0m\n\u001b[1;37m                         ^\u001b[0m\n\u001b[1;31mSyntaxError\u001b[0m\u001b[1;31m:\u001b[0m invalid syntax\n"
          ]
        }
      ]
    },
    {
      "cell_type": "code",
      "metadata": {
        "id": "YYVSkd-CylBj"
      },
      "source": [
        ""
      ],
      "execution_count": null,
      "outputs": []
    }
  ]
}