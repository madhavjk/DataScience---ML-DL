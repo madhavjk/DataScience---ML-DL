{
  "nbformat": 4,
  "nbformat_minor": 0,
  "metadata": {
    "kernelspec": {
      "display_name": "Python 3",
      "language": "python",
      "name": "python3"
    },
    "language_info": {
      "codemirror_mode": {
        "name": "ipython",
        "version": 3
      },
      "file_extension": ".py",
      "mimetype": "text/x-python",
      "name": "python",
      "nbconvert_exporter": "python",
      "pygments_lexer": "ipython3",
      "version": "3.7.3"
    },
    "colab": {
      "name": "Session-7 (NumPy).ipynb",
      "provenance": [],
      "include_colab_link": true
    }
  },
  "cells": [
    {
      "cell_type": "markdown",
      "metadata": {
        "id": "view-in-github",
        "colab_type": "text"
      },
      "source": [
        "<a href=\"https://colab.research.google.com/github/madhavjk/DataScience-ML_and_DL/blob/main/Session_7_(NumPy).ipynb\" target=\"_parent\"><img src=\"https://colab.research.google.com/assets/colab-badge.svg\" alt=\"Open In Colab\"/></a>"
      ]
    },
    {
      "cell_type": "markdown",
      "metadata": {
        "id": "PBOmI8DtyqJK"
      },
      "source": [
        "# NumPy\n",
        "Short for Numerical Python, NumPy is a foundational package for numerical computing in Python, ndarray is an efficient multidimensional array provinding fast array oriented operations"
      ]
    },
    {
      "cell_type": "code",
      "metadata": {
        "id": "ftyzSVajyqJR"
      },
      "source": [
        "import numpy as np"
      ],
      "execution_count": null,
      "outputs": []
    },
    {
      "cell_type": "code",
      "metadata": {
        "id": "8cb1D1ATyqJV"
      },
      "source": [
        "a = np.arange(1000000)\n",
        "l = list(range(1000000))"
      ],
      "execution_count": null,
      "outputs": []
    },
    {
      "cell_type": "code",
      "metadata": {
        "id": "P6K-ijhYyqJY",
        "outputId": "25115bd8-b94b-4446-f32d-20224035a982"
      },
      "source": [
        "%timeit for _ in range(100): a2 = a * 2"
      ],
      "execution_count": null,
      "outputs": [
        {
          "output_type": "stream",
          "text": [
            "254 ms ± 2.73 ms per loop (mean ± std. dev. of 7 runs, 1 loop each)\n"
          ],
          "name": "stdout"
        }
      ]
    },
    {
      "cell_type": "code",
      "metadata": {
        "id": "Bhr_L51uyqJc",
        "outputId": "92af999e-69f4-4c87-bbee-57d6b57466f6"
      },
      "source": [
        "%timeit for _ in range(100): l2 = l * 2"
      ],
      "execution_count": null,
      "outputs": [
        {
          "output_type": "stream",
          "text": [
            "2.14 s ± 22.9 ms per loop (mean ± std. dev. of 7 runs, 1 loop each)\n"
          ],
          "name": "stdout"
        }
      ]
    },
    {
      "cell_type": "markdown",
      "metadata": {
        "id": "wY7jimF9yqJd"
      },
      "source": [
        "## Creating ndarrays in numpy"
      ]
    },
    {
      "cell_type": "markdown",
      "metadata": {
        "id": "OW8v1X7MyqJe"
      },
      "source": [
        " np.array(), np.arange(), np.ones(), np.zeros(), np.full(), np.empty(), np.eye() / identity()"
      ]
    },
    {
      "cell_type": "code",
      "metadata": {
        "id": "p2n3qxJIyqJf",
        "outputId": "2f6de0d2-ef9a-4f66-a1b4-6b7a023f9569"
      },
      "source": [
        "data = [1,2,3,4,5]\n",
        "a1 = np.array(data)\n",
        "a1"
      ],
      "execution_count": null,
      "outputs": [
        {
          "output_type": "execute_result",
          "data": {
            "text/plain": [
              "array([1, 2, 3, 4, 5])"
            ]
          },
          "metadata": {
            "tags": []
          },
          "execution_count": 5
        }
      ]
    },
    {
      "cell_type": "code",
      "metadata": {
        "id": "XlxhDuZuyqJh",
        "outputId": "d225dc5d-259b-45d2-bd6f-40d7c805f496"
      },
      "source": [
        "type(a1)"
      ],
      "execution_count": null,
      "outputs": [
        {
          "output_type": "execute_result",
          "data": {
            "text/plain": [
              "numpy.ndarray"
            ]
          },
          "metadata": {
            "tags": []
          },
          "execution_count": 6
        }
      ]
    },
    {
      "cell_type": "code",
      "metadata": {
        "id": "_XE_7AwFyqJl",
        "outputId": "f38891ee-aa83-49d7-cae1-60ffca82f54a"
      },
      "source": [
        "data = [[1,2,3],[4,5,6]]\n",
        "a1 = np.array(data)\n",
        "a1"
      ],
      "execution_count": null,
      "outputs": [
        {
          "output_type": "execute_result",
          "data": {
            "text/plain": [
              "array([[1, 2, 3],\n",
              "       [4, 5, 6]])"
            ]
          },
          "metadata": {
            "tags": []
          },
          "execution_count": 7
        }
      ]
    },
    {
      "cell_type": "code",
      "metadata": {
        "id": "YgsNToFVyqJm",
        "outputId": "a2b0a060-c445-442a-b175-6698f447eb93"
      },
      "source": [
        "data = [[1,2,3],[4,5,6]]\n",
        "a1 = np.array(data, dtype = np.float64)\n",
        "a1"
      ],
      "execution_count": null,
      "outputs": [
        {
          "output_type": "execute_result",
          "data": {
            "text/plain": [
              "array([[1., 2., 3.],\n",
              "       [4., 5., 6.]])"
            ]
          },
          "metadata": {
            "tags": []
          },
          "execution_count": 8
        }
      ]
    },
    {
      "cell_type": "code",
      "metadata": {
        "id": "dMCgKXWmyqJo",
        "outputId": "93e8d98b-4196-47e4-8d09-7d9b1ea41886"
      },
      "source": [
        "a1.shape"
      ],
      "execution_count": null,
      "outputs": [
        {
          "output_type": "execute_result",
          "data": {
            "text/plain": [
              "(2, 3)"
            ]
          },
          "metadata": {
            "tags": []
          },
          "execution_count": 9
        }
      ]
    },
    {
      "cell_type": "code",
      "metadata": {
        "id": "ZHcXlSBayqJp",
        "outputId": "28e90e09-f3c9-4ef2-aa9e-ab7fbd862fc7"
      },
      "source": [
        "a1.dtype"
      ],
      "execution_count": null,
      "outputs": [
        {
          "output_type": "execute_result",
          "data": {
            "text/plain": [
              "dtype('float64')"
            ]
          },
          "metadata": {
            "tags": []
          },
          "execution_count": 10
        }
      ]
    },
    {
      "cell_type": "code",
      "metadata": {
        "id": "kTczZElxyqJq",
        "outputId": "3fbc8946-0a5d-4e97-8196-dd7f7b5561e6"
      },
      "source": [
        "a1.ndim"
      ],
      "execution_count": null,
      "outputs": [
        {
          "output_type": "execute_result",
          "data": {
            "text/plain": [
              "2"
            ]
          },
          "metadata": {
            "tags": []
          },
          "execution_count": 12
        }
      ]
    },
    {
      "cell_type": "code",
      "metadata": {
        "id": "POnvZcYqyqJr"
      },
      "source": [
        "a1 = np.arange(10)"
      ],
      "execution_count": null,
      "outputs": []
    },
    {
      "cell_type": "code",
      "metadata": {
        "id": "lHJgS0E7yqJr",
        "outputId": "4db48c06-0215-4231-922b-6a0598194765"
      },
      "source": [
        "type(a1)"
      ],
      "execution_count": null,
      "outputs": [
        {
          "output_type": "execute_result",
          "data": {
            "text/plain": [
              "numpy.ndarray"
            ]
          },
          "metadata": {
            "tags": []
          },
          "execution_count": 15
        }
      ]
    },
    {
      "cell_type": "code",
      "metadata": {
        "id": "Iz02QcwUyqJs",
        "outputId": "a204dde5-f589-4bd2-9f34-d5a864f66771"
      },
      "source": [
        "np.ones((2,3))"
      ],
      "execution_count": null,
      "outputs": [
        {
          "output_type": "execute_result",
          "data": {
            "text/plain": [
              "array([[1., 1., 1.],\n",
              "       [1., 1., 1.]])"
            ]
          },
          "metadata": {
            "tags": []
          },
          "execution_count": 16
        }
      ]
    },
    {
      "cell_type": "code",
      "metadata": {
        "id": "N3yyFE3EyqJu",
        "outputId": "67603887-9471-4fdb-d244-cc9a3ec2e3cf"
      },
      "source": [
        "np.zeros((3,3))"
      ],
      "execution_count": null,
      "outputs": [
        {
          "output_type": "execute_result",
          "data": {
            "text/plain": [
              "array([[0., 0., 0.],\n",
              "       [0., 0., 0.],\n",
              "       [0., 0., 0.]])"
            ]
          },
          "metadata": {
            "tags": []
          },
          "execution_count": 17
        }
      ]
    },
    {
      "cell_type": "code",
      "metadata": {
        "id": "_g1GaCR5yqJv",
        "outputId": "3224fe51-6ee5-46a6-e1db-cae975b8942e"
      },
      "source": [
        "np.full((2,3), fill_value = 5)"
      ],
      "execution_count": null,
      "outputs": [
        {
          "output_type": "execute_result",
          "data": {
            "text/plain": [
              "array([[5, 5, 5],\n",
              "       [5, 5, 5]])"
            ]
          },
          "metadata": {
            "tags": []
          },
          "execution_count": 18
        }
      ]
    },
    {
      "cell_type": "code",
      "metadata": {
        "id": "zjbGMeR3yqJ0",
        "outputId": "2ff7d82b-4c0a-4bee-b7db-d8e9527cfcb4"
      },
      "source": [
        "np.empty(10)"
      ],
      "execution_count": null,
      "outputs": [
        {
          "output_type": "execute_result",
          "data": {
            "text/plain": [
              "array([1.38686588e-311, 2.12448228e-322, 0.00000000e+000, 0.00000000e+000,\n",
              "       1.06811354e-306, 1.16095484e-028, 7.52736939e+252, 1.47278596e+179,\n",
              "       9.08367237e+223, 1.16466228e-028])"
            ]
          },
          "metadata": {
            "tags": []
          },
          "execution_count": 20
        }
      ]
    },
    {
      "cell_type": "code",
      "metadata": {
        "id": "ePy_EuH4yqJ3",
        "outputId": "8e51b2f0-5558-4f26-8a26-8711942e319d"
      },
      "source": [
        "np.eye(5)"
      ],
      "execution_count": null,
      "outputs": [
        {
          "output_type": "execute_result",
          "data": {
            "text/plain": [
              "array([[1., 0., 0., 0., 0.],\n",
              "       [0., 1., 0., 0., 0.],\n",
              "       [0., 0., 1., 0., 0.],\n",
              "       [0., 0., 0., 1., 0.],\n",
              "       [0., 0., 0., 0., 1.]])"
            ]
          },
          "metadata": {
            "tags": []
          },
          "execution_count": 21
        }
      ]
    },
    {
      "cell_type": "markdown",
      "metadata": {
        "id": "xkIF5jIjyqJ5"
      },
      "source": [
        "## Data Types in numpy"
      ]
    },
    {
      "cell_type": "markdown",
      "metadata": {
        "id": "ZtAUpORFyqJ7"
      },
      "source": [
        "int(8,16,32,64),uint(8,16,32,64), float(16,32,64,128), complex(64,128,256), bool, object, string_, unicode_"
      ]
    },
    {
      "cell_type": "code",
      "metadata": {
        "id": "UWu9YnHCyqJ-",
        "outputId": "1298a70c-6dca-4b62-faec-a3ff77628901"
      },
      "source": [
        "np.arange(5, dtype = np.int32)"
      ],
      "execution_count": null,
      "outputs": [
        {
          "output_type": "execute_result",
          "data": {
            "text/plain": [
              "array([0, 1, 2, 3, 4])"
            ]
          },
          "metadata": {
            "tags": []
          },
          "execution_count": 22
        }
      ]
    },
    {
      "cell_type": "code",
      "metadata": {
        "id": "TQfD4dnUyqKB",
        "outputId": "676ef6f8-d514-4827-987f-230728b44c2c"
      },
      "source": [
        "np.arange(5, dtype = np.float64)"
      ],
      "execution_count": null,
      "outputs": [
        {
          "output_type": "execute_result",
          "data": {
            "text/plain": [
              "array([0., 1., 2., 3., 4.])"
            ]
          },
          "metadata": {
            "tags": []
          },
          "execution_count": 23
        }
      ]
    },
    {
      "cell_type": "code",
      "metadata": {
        "id": "m0zg0PRmyqKD",
        "outputId": "09e4a761-186e-4300-e80b-bc290ece16e9"
      },
      "source": [
        "a = np.array([1, 2.5,3.8])\n",
        "b = a.astype(np.int32)\n",
        "b"
      ],
      "execution_count": null,
      "outputs": [
        {
          "output_type": "execute_result",
          "data": {
            "text/plain": [
              "array([1, 2, 3])"
            ]
          },
          "metadata": {
            "tags": []
          },
          "execution_count": 24
        }
      ]
    },
    {
      "cell_type": "markdown",
      "metadata": {
        "id": "NPXyQESAyqKE"
      },
      "source": [
        "## Arithmatic using numpy ndarrays"
      ]
    },
    {
      "cell_type": "code",
      "metadata": {
        "id": "ypYDpwVCyqKF",
        "outputId": "5682a9bc-f720-460d-98b4-29c2e16f0efb"
      },
      "source": [
        "a1 = np.array([1,2,3,4,5])\n",
        "a1 + 2"
      ],
      "execution_count": null,
      "outputs": [
        {
          "output_type": "execute_result",
          "data": {
            "text/plain": [
              "array([3, 4, 5, 6, 7])"
            ]
          },
          "metadata": {
            "tags": []
          },
          "execution_count": 25
        }
      ]
    },
    {
      "cell_type": "code",
      "metadata": {
        "id": "IyszBm8CyqKG",
        "outputId": "d2981086-96f8-448d-aff4-1ccd0dbfbb08"
      },
      "source": [
        "a1"
      ],
      "execution_count": null,
      "outputs": [
        {
          "output_type": "execute_result",
          "data": {
            "text/plain": [
              "array([1, 2, 3, 4, 5])"
            ]
          },
          "metadata": {
            "tags": []
          },
          "execution_count": 26
        }
      ]
    },
    {
      "cell_type": "code",
      "metadata": {
        "id": "Lq9gJ0d6yqKG",
        "outputId": "58d6962b-1803-4aea-cd74-d0ff50810dd4"
      },
      "source": [
        "a1 + a1"
      ],
      "execution_count": null,
      "outputs": [
        {
          "output_type": "execute_result",
          "data": {
            "text/plain": [
              "array([ 2,  4,  6,  8, 10])"
            ]
          },
          "metadata": {
            "tags": []
          },
          "execution_count": 27
        }
      ]
    },
    {
      "cell_type": "code",
      "metadata": {
        "id": "ZNC_ERCAyqKH",
        "outputId": "fc07c92e-0e1d-4f11-cdd3-50933c7596b6"
      },
      "source": [
        "a1"
      ],
      "execution_count": null,
      "outputs": [
        {
          "output_type": "execute_result",
          "data": {
            "text/plain": [
              "array([1, 2, 3, 4, 5])"
            ]
          },
          "metadata": {
            "tags": []
          },
          "execution_count": 28
        }
      ]
    },
    {
      "cell_type": "code",
      "metadata": {
        "id": "wJBjHVMjyqKI",
        "outputId": "373e6efb-7aa0-4ec4-9be7-b5342847fe86"
      },
      "source": [
        "a1 * 2"
      ],
      "execution_count": null,
      "outputs": [
        {
          "output_type": "execute_result",
          "data": {
            "text/plain": [
              "array([ 2,  4,  6,  8, 10])"
            ]
          },
          "metadata": {
            "tags": []
          },
          "execution_count": 29
        }
      ]
    },
    {
      "cell_type": "code",
      "metadata": {
        "id": "0Edg74dQyqKK"
      },
      "source": [
        "a2 = a1 * 2"
      ],
      "execution_count": null,
      "outputs": []
    },
    {
      "cell_type": "code",
      "metadata": {
        "id": "0RUzyec3yqKL",
        "outputId": "2cd85c64-a232-4931-d3c1-cba4795f5fd6"
      },
      "source": [
        "a2"
      ],
      "execution_count": null,
      "outputs": [
        {
          "output_type": "execute_result",
          "data": {
            "text/plain": [
              "array([ 2,  4,  6,  8, 10])"
            ]
          },
          "metadata": {
            "tags": []
          },
          "execution_count": 31
        }
      ]
    },
    {
      "cell_type": "code",
      "metadata": {
        "id": "RmBCJg_5yqKM",
        "outputId": "fd800344-8457-42b7-e12b-10f171834b34"
      },
      "source": [
        "a2 // 2"
      ],
      "execution_count": null,
      "outputs": [
        {
          "output_type": "execute_result",
          "data": {
            "text/plain": [
              "array([1, 2, 3, 4, 5], dtype=int32)"
            ]
          },
          "metadata": {
            "tags": []
          },
          "execution_count": 34
        }
      ]
    },
    {
      "cell_type": "code",
      "metadata": {
        "id": "j2Al4qhTyqKN",
        "outputId": "eb197f9f-c179-4810-f602-427e68b16dc6"
      },
      "source": [
        "6 // a1"
      ],
      "execution_count": null,
      "outputs": [
        {
          "output_type": "execute_result",
          "data": {
            "text/plain": [
              "array([6, 3, 2, 1, 1], dtype=int32)"
            ]
          },
          "metadata": {
            "tags": []
          },
          "execution_count": 36
        }
      ]
    },
    {
      "cell_type": "code",
      "metadata": {
        "id": "TB-zeiEcyqKN",
        "outputId": "210aff1a-8025-43f7-fc82-10fbeb783e69"
      },
      "source": [
        "a1 ** 2"
      ],
      "execution_count": null,
      "outputs": [
        {
          "output_type": "execute_result",
          "data": {
            "text/plain": [
              "array([ 1,  4,  9, 16, 25], dtype=int32)"
            ]
          },
          "metadata": {
            "tags": []
          },
          "execution_count": 37
        }
      ]
    },
    {
      "cell_type": "code",
      "metadata": {
        "id": "_wSpC-fmyqKP"
      },
      "source": [
        "a2 = np.array([2,1,4,3,5])"
      ],
      "execution_count": null,
      "outputs": []
    },
    {
      "cell_type": "code",
      "metadata": {
        "id": "jygoBgrPyqKQ",
        "outputId": "3bb8eb90-307e-4202-e3fd-65c7ca2475dc"
      },
      "source": [
        "a1 > a2"
      ],
      "execution_count": null,
      "outputs": [
        {
          "output_type": "execute_result",
          "data": {
            "text/plain": [
              "array([False,  True, False,  True, False])"
            ]
          },
          "metadata": {
            "tags": []
          },
          "execution_count": 39
        }
      ]
    },
    {
      "cell_type": "code",
      "metadata": {
        "id": "-JQ5_d9MyqKS",
        "outputId": "d8c61cc2-6746-46e6-f9fb-24da8ffe9270"
      },
      "source": [
        "a1 < a2"
      ],
      "execution_count": null,
      "outputs": [
        {
          "output_type": "execute_result",
          "data": {
            "text/plain": [
              "array([ True, False,  True, False, False])"
            ]
          },
          "metadata": {
            "tags": []
          },
          "execution_count": 40
        }
      ]
    },
    {
      "cell_type": "markdown",
      "metadata": {
        "id": "FG-VXvA8yqKU"
      },
      "source": [
        "## Indexing and Slicing"
      ]
    },
    {
      "cell_type": "code",
      "metadata": {
        "id": "Kd_CgfHayqKU"
      },
      "source": [
        "a = np.arange(10)"
      ],
      "execution_count": null,
      "outputs": []
    },
    {
      "cell_type": "code",
      "metadata": {
        "id": "0BRH59GjyqKV",
        "outputId": "0bf44501-b9d3-424b-c968-2a3765332bdb"
      },
      "source": [
        "a[5]"
      ],
      "execution_count": null,
      "outputs": [
        {
          "output_type": "execute_result",
          "data": {
            "text/plain": [
              "5"
            ]
          },
          "metadata": {
            "tags": []
          },
          "execution_count": 42
        }
      ]
    },
    {
      "cell_type": "code",
      "metadata": {
        "id": "NoetAoYfyqKV",
        "outputId": "fd3e55b6-d04d-4114-dba3-801657799079"
      },
      "source": [
        "a[0]"
      ],
      "execution_count": null,
      "outputs": [
        {
          "output_type": "execute_result",
          "data": {
            "text/plain": [
              "0"
            ]
          },
          "metadata": {
            "tags": []
          },
          "execution_count": 43
        }
      ]
    },
    {
      "cell_type": "code",
      "metadata": {
        "id": "wbEdDQQMyqKX",
        "outputId": "f954af73-806c-4a7e-8cb9-17d0a6324448"
      },
      "source": [
        "a[1:8]"
      ],
      "execution_count": null,
      "outputs": [
        {
          "output_type": "execute_result",
          "data": {
            "text/plain": [
              "array([1, 2, 3, 4, 5, 6, 7])"
            ]
          },
          "metadata": {
            "tags": []
          },
          "execution_count": 44
        }
      ]
    },
    {
      "cell_type": "code",
      "metadata": {
        "id": "YF9GQmGhyqKZ",
        "outputId": "1d457c6d-b17b-4775-9b89-5d6ca569e063"
      },
      "source": [
        "a[:]"
      ],
      "execution_count": null,
      "outputs": [
        {
          "output_type": "execute_result",
          "data": {
            "text/plain": [
              "array([0, 1, 2, 3, 4, 5, 6, 7, 8, 9])"
            ]
          },
          "metadata": {
            "tags": []
          },
          "execution_count": 45
        }
      ]
    },
    {
      "cell_type": "code",
      "metadata": {
        "id": "Ky0SMmqDyqKa",
        "outputId": "585dd3b2-e6cf-4d3d-811b-3d0432bc20d5"
      },
      "source": [
        "a[::2]"
      ],
      "execution_count": null,
      "outputs": [
        {
          "output_type": "execute_result",
          "data": {
            "text/plain": [
              "array([0, 2, 4, 6, 8])"
            ]
          },
          "metadata": {
            "tags": []
          },
          "execution_count": 46
        }
      ]
    },
    {
      "cell_type": "code",
      "metadata": {
        "id": "rhngpYzDyqKb",
        "outputId": "1ff4f62c-3684-4a41-ed32-80f246fe071f"
      },
      "source": [
        "a2 = np.arange(11)\n",
        "a2"
      ],
      "execution_count": null,
      "outputs": [
        {
          "output_type": "execute_result",
          "data": {
            "text/plain": [
              "array([ 0,  1,  2,  3,  4,  5,  6,  7,  8,  9, 10])"
            ]
          },
          "metadata": {
            "tags": []
          },
          "execution_count": 51
        }
      ]
    },
    {
      "cell_type": "code",
      "metadata": {
        "id": "r4FkxmORyqKc"
      },
      "source": [
        "a2[:3]=11"
      ],
      "execution_count": null,
      "outputs": []
    },
    {
      "cell_type": "code",
      "metadata": {
        "id": "ZOtmSoBmyqKd",
        "outputId": "c38dcf32-53e4-47d6-a451-4959a6ee7bee"
      },
      "source": [
        "a2"
      ],
      "execution_count": null,
      "outputs": [
        {
          "output_type": "execute_result",
          "data": {
            "text/plain": [
              "array([11, 11, 11,  3,  4,  5,  6,  7,  8,  9, 10])"
            ]
          },
          "metadata": {
            "tags": []
          },
          "execution_count": 53
        }
      ]
    },
    {
      "cell_type": "code",
      "metadata": {
        "id": "SMSXpBliyqKe"
      },
      "source": [
        "a2[:] = 22"
      ],
      "execution_count": null,
      "outputs": []
    },
    {
      "cell_type": "code",
      "metadata": {
        "id": "PZ4DgFZ2yqKe",
        "outputId": "a2a93b91-2a62-40e9-9293-e4ada25e7137"
      },
      "source": [
        "a2"
      ],
      "execution_count": null,
      "outputs": [
        {
          "output_type": "execute_result",
          "data": {
            "text/plain": [
              "array([22, 22, 22, 22, 22, 22, 22, 22, 22, 22, 22])"
            ]
          },
          "metadata": {
            "tags": []
          },
          "execution_count": 55
        }
      ]
    },
    {
      "cell_type": "code",
      "metadata": {
        "id": "Gb8fj5e-yqKg",
        "outputId": "76635bc3-d3e1-47b2-f83c-44421bb92287"
      },
      "source": [
        "a1 = np.arange(10)\n",
        "a1"
      ],
      "execution_count": null,
      "outputs": [
        {
          "output_type": "execute_result",
          "data": {
            "text/plain": [
              "array([0, 1, 2, 3, 4, 5, 6, 7, 8, 9])"
            ]
          },
          "metadata": {
            "tags": []
          },
          "execution_count": 56
        }
      ]
    },
    {
      "cell_type": "code",
      "metadata": {
        "id": "j0ekHxTsyqKj"
      },
      "source": [
        "c = a1.copy()"
      ],
      "execution_count": null,
      "outputs": []
    },
    {
      "cell_type": "code",
      "metadata": {
        "id": "mJLrCMpMyqKo",
        "outputId": "78a8c67f-d3e3-4ca1-e19b-2ac8f294be81"
      },
      "source": [
        "c"
      ],
      "execution_count": null,
      "outputs": [
        {
          "output_type": "execute_result",
          "data": {
            "text/plain": [
              "array([0, 1, 2, 3, 4, 5, 6, 7, 8, 9])"
            ]
          },
          "metadata": {
            "tags": []
          },
          "execution_count": 58
        }
      ]
    },
    {
      "cell_type": "code",
      "metadata": {
        "id": "u8GhzvKjyqKq",
        "outputId": "6be260fd-fcba-4ab9-a6d8-e24b68fffce4"
      },
      "source": [
        "c[:3] = 33\n",
        "c"
      ],
      "execution_count": null,
      "outputs": [
        {
          "output_type": "execute_result",
          "data": {
            "text/plain": [
              "array([33, 33, 33,  3,  4,  5,  6,  7,  8,  9])"
            ]
          },
          "metadata": {
            "tags": []
          },
          "execution_count": 59
        }
      ]
    },
    {
      "cell_type": "code",
      "metadata": {
        "id": "ByfaOAyZyqKs",
        "outputId": "8d14c63b-4bae-4db8-80a5-8d340ca68979"
      },
      "source": [
        "a1"
      ],
      "execution_count": null,
      "outputs": [
        {
          "output_type": "execute_result",
          "data": {
            "text/plain": [
              "array([0, 1, 2, 3, 4, 5, 6, 7, 8, 9])"
            ]
          },
          "metadata": {
            "tags": []
          },
          "execution_count": 60
        }
      ]
    },
    {
      "cell_type": "code",
      "metadata": {
        "id": "ehpvdlrFyqK2",
        "outputId": "96001ca3-768a-4f13-ef60-4f1b15f7d95f"
      },
      "source": [
        "d = a1\n",
        "d"
      ],
      "execution_count": null,
      "outputs": [
        {
          "output_type": "execute_result",
          "data": {
            "text/plain": [
              "array([0, 1, 2, 3, 4, 5, 6, 7, 8, 9])"
            ]
          },
          "metadata": {
            "tags": []
          },
          "execution_count": 61
        }
      ]
    },
    {
      "cell_type": "code",
      "metadata": {
        "id": "t0xcjNucyqK3",
        "outputId": "2eca83fa-7eb6-4cc2-f60d-c3961c6d289d"
      },
      "source": [
        "d[:3] = 44\n",
        "d"
      ],
      "execution_count": null,
      "outputs": [
        {
          "output_type": "execute_result",
          "data": {
            "text/plain": [
              "array([44, 44, 44,  3,  4,  5,  6,  7,  8,  9])"
            ]
          },
          "metadata": {
            "tags": []
          },
          "execution_count": 62
        }
      ]
    },
    {
      "cell_type": "code",
      "metadata": {
        "id": "OTTeNiGbyqK6",
        "outputId": "37bc12fe-a2f4-4cb6-c8bd-2f2162583fb3"
      },
      "source": [
        "a1"
      ],
      "execution_count": null,
      "outputs": [
        {
          "output_type": "execute_result",
          "data": {
            "text/plain": [
              "array([44, 44, 44,  3,  4,  5,  6,  7,  8,  9])"
            ]
          },
          "metadata": {
            "tags": []
          },
          "execution_count": 63
        }
      ]
    },
    {
      "cell_type": "code",
      "metadata": {
        "id": "-s7t4VBkyqK9"
      },
      "source": [
        "a = np.array([[1,2,3,4,5],[6,7,8,9,10]])"
      ],
      "execution_count": null,
      "outputs": []
    },
    {
      "cell_type": "code",
      "metadata": {
        "id": "m_AtaT90yqK9",
        "outputId": "c5f4d33a-c3b5-4f52-e533-cc34c3c740a1"
      },
      "source": [
        "a[0]"
      ],
      "execution_count": null,
      "outputs": [
        {
          "output_type": "execute_result",
          "data": {
            "text/plain": [
              "array([1, 2, 3, 4, 5])"
            ]
          },
          "metadata": {
            "tags": []
          },
          "execution_count": 68
        }
      ]
    },
    {
      "cell_type": "markdown",
      "metadata": {
        "id": "NPCMS4djyqLH"
      },
      "source": [
        "## Reshaping and transposing"
      ]
    },
    {
      "cell_type": "code",
      "metadata": {
        "id": "4ieYDd-UyqLK",
        "outputId": "30752113-de0c-4277-8822-f260fd5b7624"
      },
      "source": [
        "a = np.arange(16)\n",
        "a"
      ],
      "execution_count": null,
      "outputs": [
        {
          "output_type": "execute_result",
          "data": {
            "text/plain": [
              "array([ 0,  1,  2,  3,  4,  5,  6,  7,  8,  9, 10, 11, 12, 13, 14, 15])"
            ]
          },
          "metadata": {
            "tags": []
          },
          "execution_count": 164
        }
      ]
    },
    {
      "cell_type": "code",
      "metadata": {
        "id": "jLYyJ0cqyqLL"
      },
      "source": [
        "a1 = a.reshape((4,4))"
      ],
      "execution_count": null,
      "outputs": []
    },
    {
      "cell_type": "code",
      "metadata": {
        "id": "opK1RdDRyqLM",
        "outputId": "2a444413-10c7-4461-d9c6-bba952e0d7be"
      },
      "source": [
        "a1"
      ],
      "execution_count": null,
      "outputs": [
        {
          "output_type": "execute_result",
          "data": {
            "text/plain": [
              "array([[ 0,  1,  2,  3],\n",
              "       [ 4,  5,  6,  7],\n",
              "       [ 8,  9, 10, 11],\n",
              "       [12, 13, 14, 15]])"
            ]
          },
          "metadata": {
            "tags": []
          },
          "execution_count": 166
        }
      ]
    },
    {
      "cell_type": "code",
      "metadata": {
        "id": "ba6ZqEDuyqLN",
        "outputId": "84b6af31-abf3-4325-c511-b5ad682714e7"
      },
      "source": [
        "a2 = a.reshape((2,8))\n",
        "a2"
      ],
      "execution_count": null,
      "outputs": [
        {
          "output_type": "execute_result",
          "data": {
            "text/plain": [
              "array([[ 0,  1,  2,  3,  4,  5,  6,  7],\n",
              "       [ 8,  9, 10, 11, 12, 13, 14, 15]])"
            ]
          },
          "metadata": {
            "tags": []
          },
          "execution_count": 72
        }
      ]
    },
    {
      "cell_type": "code",
      "metadata": {
        "id": "X5edcQrNyqLR",
        "outputId": "d94377fb-8f0f-4999-8d46-e8b5e08ff462"
      },
      "source": [
        "a3 = a.reshape((3,8))"
      ],
      "execution_count": null,
      "outputs": [
        {
          "output_type": "error",
          "ename": "ValueError",
          "evalue": "cannot reshape array of size 16 into shape (3,8)",
          "traceback": [
            "\u001b[1;31m---------------------------------------------------------------------------\u001b[0m",
            "\u001b[1;31mValueError\u001b[0m                                Traceback (most recent call last)",
            "\u001b[1;32m<ipython-input-73-7d44823ddadd>\u001b[0m in \u001b[0;36m<module>\u001b[1;34m\u001b[0m\n\u001b[1;32m----> 1\u001b[1;33m \u001b[0ma3\u001b[0m \u001b[1;33m=\u001b[0m \u001b[0ma\u001b[0m\u001b[1;33m.\u001b[0m\u001b[0mreshape\u001b[0m\u001b[1;33m(\u001b[0m\u001b[1;33m(\u001b[0m\u001b[1;36m3\u001b[0m\u001b[1;33m,\u001b[0m\u001b[1;36m8\u001b[0m\u001b[1;33m)\u001b[0m\u001b[1;33m)\u001b[0m\u001b[1;33m\u001b[0m\u001b[1;33m\u001b[0m\u001b[0m\n\u001b[0m",
            "\u001b[1;31mValueError\u001b[0m: cannot reshape array of size 16 into shape (3,8)"
          ]
        }
      ]
    },
    {
      "cell_type": "code",
      "metadata": {
        "id": "u6pIUKfUyqLS",
        "outputId": "3358b264-025b-4b41-a079-b44f53616d93"
      },
      "source": [
        "a1.T"
      ],
      "execution_count": null,
      "outputs": [
        {
          "output_type": "execute_result",
          "data": {
            "text/plain": [
              "array([[ 0,  4,  8, 12],\n",
              "       [ 1,  5,  9, 13],\n",
              "       [ 2,  6, 10, 14],\n",
              "       [ 3,  7, 11, 15]])"
            ]
          },
          "metadata": {
            "tags": []
          },
          "execution_count": 167
        }
      ]
    },
    {
      "cell_type": "code",
      "metadata": {
        "id": "Ghga6rKqyqLT",
        "outputId": "a613e824-6564-4c29-8dff-dd9b2ab8d320"
      },
      "source": [
        "a1"
      ],
      "execution_count": null,
      "outputs": [
        {
          "output_type": "execute_result",
          "data": {
            "text/plain": [
              "array([[ 0,  1,  2,  3],\n",
              "       [ 4,  5,  6,  7],\n",
              "       [ 8,  9, 10, 11],\n",
              "       [12, 13, 14, 15]])"
            ]
          },
          "metadata": {
            "tags": []
          },
          "execution_count": 168
        }
      ]
    },
    {
      "cell_type": "code",
      "metadata": {
        "id": "X8HuYMC-yqLs"
      },
      "source": [
        "a1 = a1.T"
      ],
      "execution_count": null,
      "outputs": []
    },
    {
      "cell_type": "code",
      "metadata": {
        "id": "3oUqk4CEyqLt",
        "outputId": "cd67567c-f038-4a97-dfd2-d70df42921d7"
      },
      "source": [
        "a1"
      ],
      "execution_count": null,
      "outputs": [
        {
          "output_type": "execute_result",
          "data": {
            "text/plain": [
              "array([[ 0,  4,  8, 12],\n",
              "       [ 1,  5,  9, 13],\n",
              "       [ 2,  6, 10, 14],\n",
              "       [ 3,  7, 11, 15]])"
            ]
          },
          "metadata": {
            "tags": []
          },
          "execution_count": 170
        }
      ]
    },
    {
      "cell_type": "code",
      "metadata": {
        "id": "OLPxlY4nyqLw",
        "outputId": "acf0eaee-7fbe-4c67-8bec-8a9a59fc6093"
      },
      "source": [
        "np.dot(a1,a1.T)"
      ],
      "execution_count": null,
      "outputs": [
        {
          "output_type": "execute_result",
          "data": {
            "text/plain": [
              "array([[224, 248, 272, 296],\n",
              "       [248, 276, 304, 332],\n",
              "       [272, 304, 336, 368],\n",
              "       [296, 332, 368, 404]])"
            ]
          },
          "metadata": {
            "tags": []
          },
          "execution_count": 78
        }
      ]
    },
    {
      "cell_type": "code",
      "metadata": {
        "id": "RgjIwsADyqLy",
        "outputId": "3085ff4d-8477-40ab-f855-5e8e74c066af"
      },
      "source": [
        "a1"
      ],
      "execution_count": null,
      "outputs": [
        {
          "output_type": "execute_result",
          "data": {
            "text/plain": [
              "array([[ 0,  4,  8, 12],\n",
              "       [ 1,  5,  9, 13],\n",
              "       [ 2,  6, 10, 14],\n",
              "       [ 3,  7, 11, 15]])"
            ]
          },
          "metadata": {
            "tags": []
          },
          "execution_count": 171
        }
      ]
    },
    {
      "cell_type": "code",
      "metadata": {
        "id": "-j0UMThRyqLz",
        "outputId": "e53191c9-aa5b-4e3e-dc97-6e61f8f16c92"
      },
      "source": [
        "a1.swapaxes(0,1)"
      ],
      "execution_count": null,
      "outputs": [
        {
          "output_type": "execute_result",
          "data": {
            "text/plain": [
              "array([[ 0,  1,  2,  3],\n",
              "       [ 4,  5,  6,  7],\n",
              "       [ 8,  9, 10, 11],\n",
              "       [12, 13, 14, 15]])"
            ]
          },
          "metadata": {
            "tags": []
          },
          "execution_count": 174
        }
      ]
    },
    {
      "cell_type": "code",
      "metadata": {
        "id": "jMOb92KuyqL2"
      },
      "source": [
        "a1 = a1.T"
      ],
      "execution_count": null,
      "outputs": []
    },
    {
      "cell_type": "code",
      "metadata": {
        "id": "hGQZUcd6yqL5",
        "outputId": "2c657608-afae-4adb-fe74-0820dd86915b"
      },
      "source": [
        "a1"
      ],
      "execution_count": null,
      "outputs": [
        {
          "output_type": "execute_result",
          "data": {
            "text/plain": [
              "array([[ 0,  1,  2,  3],\n",
              "       [ 4,  5,  6,  7],\n",
              "       [ 8,  9, 10, 11],\n",
              "       [12, 13, 14, 15]])"
            ]
          },
          "metadata": {
            "tags": []
          },
          "execution_count": 84
        }
      ]
    },
    {
      "cell_type": "code",
      "metadata": {
        "id": "1-JNYUUhyqL8",
        "outputId": "b8c1aa8b-ead5-4ab5-aad9-3c0169b8beee"
      },
      "source": [
        "a1.swapaxes(0,1)"
      ],
      "execution_count": null,
      "outputs": [
        {
          "output_type": "execute_result",
          "data": {
            "text/plain": [
              "array([[1, 4, 7],\n",
              "       [2, 5, 8],\n",
              "       [3, 6, 9]])"
            ]
          },
          "metadata": {
            "tags": []
          },
          "execution_count": 159
        }
      ]
    },
    {
      "cell_type": "code",
      "metadata": {
        "id": "o4mn4iWayqL_",
        "outputId": "e2c9c63b-3bfb-4f9e-b44c-713450923faf"
      },
      "source": [
        "a1.swapaxes(0,1)"
      ],
      "execution_count": null,
      "outputs": [
        {
          "output_type": "execute_result",
          "data": {
            "text/plain": [
              "array([[1, 4, 7],\n",
              "       [2, 5, 8],\n",
              "       [3, 6, 9]])"
            ]
          },
          "metadata": {
            "tags": []
          },
          "execution_count": 163
        }
      ]
    },
    {
      "cell_type": "markdown",
      "metadata": {
        "id": "EKG3L0AZyqMA"
      },
      "source": [
        "## Functions for ndarrays"
      ]
    },
    {
      "cell_type": "code",
      "metadata": {
        "id": "dQTTAa8lyqMB",
        "outputId": "e72ff9b2-29f5-45a4-f02d-d3c29d2b246f"
      },
      "source": [
        "a = np.array([3,2,5,8,7,3,4,9])\n",
        "a"
      ],
      "execution_count": null,
      "outputs": [
        {
          "output_type": "execute_result",
          "data": {
            "text/plain": [
              "array([3, 2, 5, 8, 7, 3, 4, 9])"
            ]
          },
          "metadata": {
            "tags": []
          },
          "execution_count": 87
        }
      ]
    },
    {
      "cell_type": "code",
      "metadata": {
        "id": "A_0tqW-jyqMJ"
      },
      "source": [
        "a.sort()"
      ],
      "execution_count": null,
      "outputs": []
    },
    {
      "cell_type": "code",
      "metadata": {
        "id": "TmLIGzjjyqMK",
        "outputId": "2884f864-bcba-45bb-ecad-ab2a1e9dd3d0"
      },
      "source": [
        "a"
      ],
      "execution_count": null,
      "outputs": [
        {
          "output_type": "execute_result",
          "data": {
            "text/plain": [
              "array([2, 3, 3, 4, 5, 7, 8, 9])"
            ]
          },
          "metadata": {
            "tags": []
          },
          "execution_count": 89
        }
      ]
    },
    {
      "cell_type": "code",
      "metadata": {
        "id": "A0vRUKRIyqML",
        "outputId": "071578c2-5ff0-4c40-ad09-9d0d88d9ce32"
      },
      "source": [
        "np.square(a)"
      ],
      "execution_count": null,
      "outputs": [
        {
          "output_type": "execute_result",
          "data": {
            "text/plain": [
              "array([ 4,  9,  9, 16, 25, 49, 64, 81], dtype=int32)"
            ]
          },
          "metadata": {
            "tags": []
          },
          "execution_count": 90
        }
      ]
    },
    {
      "cell_type": "code",
      "metadata": {
        "id": "toLn3o58yqMN"
      },
      "source": [
        "a2 = np.square(a)"
      ],
      "execution_count": null,
      "outputs": []
    },
    {
      "cell_type": "code",
      "metadata": {
        "id": "HhRgNWxAyqMN",
        "outputId": "81467895-10c4-4d77-f15f-b11658044e15"
      },
      "source": [
        "np.sqrt(a2)"
      ],
      "execution_count": null,
      "outputs": [
        {
          "output_type": "execute_result",
          "data": {
            "text/plain": [
              "array([2., 3., 3., 4., 5., 7., 8., 9.])"
            ]
          },
          "metadata": {
            "tags": []
          },
          "execution_count": 94
        }
      ]
    },
    {
      "cell_type": "code",
      "metadata": {
        "id": "mK0qjXSuyqMc",
        "outputId": "5a18fde4-a0f6-4303-aaac-7678c034436c"
      },
      "source": [
        "np.abs([-1,-2,-3])"
      ],
      "execution_count": null,
      "outputs": [
        {
          "output_type": "execute_result",
          "data": {
            "text/plain": [
              "array([1, 2, 3])"
            ]
          },
          "metadata": {
            "tags": []
          },
          "execution_count": 95
        }
      ]
    },
    {
      "cell_type": "code",
      "metadata": {
        "id": "R0oFFGW8yqMf",
        "outputId": "afb34dcc-8a06-4a1a-8401-9e617fc9dc53"
      },
      "source": [
        "a1 = np.array([1,2,3,4])\n",
        "a2 = np.array([5,6,7,8])\n",
        "np.add(a1,a2)"
      ],
      "execution_count": null,
      "outputs": [
        {
          "output_type": "execute_result",
          "data": {
            "text/plain": [
              "array([ 6,  8, 10, 12])"
            ]
          },
          "metadata": {
            "tags": []
          },
          "execution_count": 96
        }
      ]
    },
    {
      "cell_type": "code",
      "metadata": {
        "id": "FuJ_lpTryqMg",
        "outputId": "36a85b51-6d07-4a30-b9bb-67baa03fa672"
      },
      "source": [
        "a1 + a2"
      ],
      "execution_count": null,
      "outputs": [
        {
          "output_type": "execute_result",
          "data": {
            "text/plain": [
              "array([ 6,  8, 10, 12])"
            ]
          },
          "metadata": {
            "tags": []
          },
          "execution_count": 97
        }
      ]
    },
    {
      "cell_type": "code",
      "metadata": {
        "id": "k1jVpnvayqMh",
        "outputId": "208ec38a-16ab-40b4-9a6b-7cc00b2becfa"
      },
      "source": [
        "np.subtract(a2,a1)"
      ],
      "execution_count": null,
      "outputs": [
        {
          "output_type": "execute_result",
          "data": {
            "text/plain": [
              "array([4, 4, 4, 4])"
            ]
          },
          "metadata": {
            "tags": []
          },
          "execution_count": 98
        }
      ]
    },
    {
      "cell_type": "code",
      "metadata": {
        "id": "vP1UZwUyyqMi",
        "outputId": "098fb4f4-5e54-4c72-8d87-6b6462983e4b"
      },
      "source": [
        "np.maximum(a1,a2)"
      ],
      "execution_count": null,
      "outputs": [
        {
          "output_type": "execute_result",
          "data": {
            "text/plain": [
              "array([5, 6, 7, 8])"
            ]
          },
          "metadata": {
            "tags": []
          },
          "execution_count": 99
        }
      ]
    },
    {
      "cell_type": "code",
      "metadata": {
        "id": "RhSq-8mIyqMn"
      },
      "source": [
        "a3 = np.array([9,2,3,9])\n",
        "a4 = np.array([5,6,7,8])"
      ],
      "execution_count": null,
      "outputs": []
    },
    {
      "cell_type": "code",
      "metadata": {
        "id": "5Y7clTISyqMz",
        "outputId": "3fc30d14-954e-401a-a772-344aff34572d"
      },
      "source": [
        "np.maximum(a3,a4)"
      ],
      "execution_count": null,
      "outputs": [
        {
          "output_type": "execute_result",
          "data": {
            "text/plain": [
              "array([9, 6, 7, 9])"
            ]
          },
          "metadata": {
            "tags": []
          },
          "execution_count": 101
        }
      ]
    },
    {
      "cell_type": "code",
      "metadata": {
        "id": "A6KxrFYNyqM1",
        "outputId": "63b27193-ed55-4d8e-e238-f0e0f8931fda"
      },
      "source": [
        "np.minimum(a3,a4)"
      ],
      "execution_count": null,
      "outputs": [
        {
          "output_type": "execute_result",
          "data": {
            "text/plain": [
              "array([5, 2, 3, 8])"
            ]
          },
          "metadata": {
            "tags": []
          },
          "execution_count": 102
        }
      ]
    },
    {
      "cell_type": "code",
      "metadata": {
        "id": "kU_nLk9ZyqM2",
        "outputId": "d268e344-adfe-4c0a-8bbb-6ecfa4623628"
      },
      "source": [
        "np.power(a1,a2)"
      ],
      "execution_count": null,
      "outputs": [
        {
          "output_type": "execute_result",
          "data": {
            "text/plain": [
              "array([    1,    64,  2187, 65536], dtype=int32)"
            ]
          },
          "metadata": {
            "tags": []
          },
          "execution_count": 103
        }
      ]
    },
    {
      "cell_type": "code",
      "metadata": {
        "id": "zEz_92A_yqM2",
        "outputId": "327cc52d-ad9d-4caf-a183-751ca509dc3c"
      },
      "source": [
        "np.greater(a1,a2)"
      ],
      "execution_count": null,
      "outputs": [
        {
          "output_type": "execute_result",
          "data": {
            "text/plain": [
              "array([False, False, False, False])"
            ]
          },
          "metadata": {
            "tags": []
          },
          "execution_count": 104
        }
      ]
    },
    {
      "cell_type": "code",
      "metadata": {
        "id": "zqh6I2CgyqM4",
        "outputId": "c131de84-ed93-48dc-b60c-29399b5d47f8"
      },
      "source": [
        "np.greater(a3,a4)"
      ],
      "execution_count": null,
      "outputs": [
        {
          "output_type": "execute_result",
          "data": {
            "text/plain": [
              "array([ True, False, False,  True])"
            ]
          },
          "metadata": {
            "tags": []
          },
          "execution_count": 105
        }
      ]
    },
    {
      "cell_type": "code",
      "metadata": {
        "id": "yVaZ_SHSyqNB",
        "outputId": "a2e3305b-2d3e-4fde-d0e9-bce300809316"
      },
      "source": [
        "np.less(a3,a4)"
      ],
      "execution_count": null,
      "outputs": [
        {
          "output_type": "execute_result",
          "data": {
            "text/plain": [
              "array([False,  True,  True, False])"
            ]
          },
          "metadata": {
            "tags": []
          },
          "execution_count": 106
        }
      ]
    },
    {
      "cell_type": "markdown",
      "metadata": {
        "id": "gUKYaYOyyqND"
      },
      "source": [
        "## Mathematical and Statistical Functions"
      ]
    },
    {
      "cell_type": "code",
      "metadata": {
        "id": "WTBPX6CCyqND",
        "outputId": "82bf7fb0-8fab-40aa-e8be-294aab5fec99"
      },
      "source": [
        "a = np.array([1,2,3,4,5,6,7,8,9])\n",
        "a.mean()"
      ],
      "execution_count": null,
      "outputs": [
        {
          "output_type": "execute_result",
          "data": {
            "text/plain": [
              "5.0"
            ]
          },
          "metadata": {
            "tags": []
          },
          "execution_count": 107
        }
      ]
    },
    {
      "cell_type": "code",
      "metadata": {
        "id": "D9zn8qr1yqNF",
        "outputId": "91e889ab-2f83-410f-c8bc-262854b24855"
      },
      "source": [
        "np.mean(a)"
      ],
      "execution_count": null,
      "outputs": [
        {
          "output_type": "execute_result",
          "data": {
            "text/plain": [
              "5.0"
            ]
          },
          "metadata": {
            "tags": []
          },
          "execution_count": 108
        }
      ]
    },
    {
      "cell_type": "code",
      "metadata": {
        "id": "Qp66TB54yqNH",
        "outputId": "184c4077-b42e-4975-a51c-9a265f7286ef"
      },
      "source": [
        "a.sum()"
      ],
      "execution_count": null,
      "outputs": [
        {
          "output_type": "execute_result",
          "data": {
            "text/plain": [
              "45"
            ]
          },
          "metadata": {
            "tags": []
          },
          "execution_count": 109
        }
      ]
    },
    {
      "cell_type": "code",
      "metadata": {
        "id": "5I_vcXCeyqNK",
        "outputId": "a0f6edf7-a0f5-4941-d2ee-d24fbd85b317"
      },
      "source": [
        "a.min()"
      ],
      "execution_count": null,
      "outputs": [
        {
          "output_type": "execute_result",
          "data": {
            "text/plain": [
              "1"
            ]
          },
          "metadata": {
            "tags": []
          },
          "execution_count": 110
        }
      ]
    },
    {
      "cell_type": "code",
      "metadata": {
        "id": "vVnjq9xByqNN",
        "outputId": "e9813e58-6ce4-433b-d38e-f0418339affd"
      },
      "source": [
        "a.max()"
      ],
      "execution_count": null,
      "outputs": [
        {
          "output_type": "execute_result",
          "data": {
            "text/plain": [
              "9"
            ]
          },
          "metadata": {
            "tags": []
          },
          "execution_count": 111
        }
      ]
    },
    {
      "cell_type": "code",
      "metadata": {
        "id": "hr3yqMYXyqNO",
        "outputId": "95c66ebf-53b2-4701-8414-3b5dd5488b70"
      },
      "source": [
        "a.var()"
      ],
      "execution_count": null,
      "outputs": [
        {
          "output_type": "execute_result",
          "data": {
            "text/plain": [
              "6.666666666666667"
            ]
          },
          "metadata": {
            "tags": []
          },
          "execution_count": 112
        }
      ]
    },
    {
      "cell_type": "code",
      "metadata": {
        "id": "T3woer8AyqNR",
        "outputId": "07c98740-277c-4573-8bf4-10cb7ef1de49"
      },
      "source": [
        "a.std()"
      ],
      "execution_count": null,
      "outputs": [
        {
          "output_type": "execute_result",
          "data": {
            "text/plain": [
              "2.581988897471611"
            ]
          },
          "metadata": {
            "tags": []
          },
          "execution_count": 113
        }
      ]
    },
    {
      "cell_type": "code",
      "metadata": {
        "id": "1Dp9taA2yqNS",
        "outputId": "7a3007a5-60b6-445f-a8ed-34302e56aae6"
      },
      "source": [
        "a.cumsum()"
      ],
      "execution_count": null,
      "outputs": [
        {
          "output_type": "execute_result",
          "data": {
            "text/plain": [
              "array([ 1,  3,  6, 10, 15, 21, 28, 36, 45], dtype=int32)"
            ]
          },
          "metadata": {
            "tags": []
          },
          "execution_count": 114
        }
      ]
    },
    {
      "cell_type": "code",
      "metadata": {
        "id": "Ei5P3BtAyqNS",
        "outputId": "09886e09-e235-4995-bd34-1e9b6c8c7d28"
      },
      "source": [
        "a.cumprod()"
      ],
      "execution_count": null,
      "outputs": [
        {
          "output_type": "execute_result",
          "data": {
            "text/plain": [
              "array([     1,      2,      6,     24,    120,    720,   5040,  40320,\n",
              "       362880], dtype=int32)"
            ]
          },
          "metadata": {
            "tags": []
          },
          "execution_count": 115
        }
      ]
    },
    {
      "cell_type": "code",
      "metadata": {
        "id": "hAEgatecyqNT",
        "outputId": "2415651f-d0ec-4d63-971e-f6e98ef266af"
      },
      "source": [
        "a = np.arange(25)\n",
        "a = a.reshape((5,5))\n",
        "a"
      ],
      "execution_count": null,
      "outputs": [
        {
          "output_type": "execute_result",
          "data": {
            "text/plain": [
              "array([[ 0,  1,  2,  3,  4],\n",
              "       [ 5,  6,  7,  8,  9],\n",
              "       [10, 11, 12, 13, 14],\n",
              "       [15, 16, 17, 18, 19],\n",
              "       [20, 21, 22, 23, 24]])"
            ]
          },
          "metadata": {
            "tags": []
          },
          "execution_count": 125
        }
      ]
    },
    {
      "cell_type": "code",
      "metadata": {
        "id": "4Rzo1j9zyqNU",
        "outputId": "3b4c477e-1ca6-45cd-cfde-6569a27ba616"
      },
      "source": [
        "a.mean(axis=1)"
      ],
      "execution_count": null,
      "outputs": [
        {
          "output_type": "execute_result",
          "data": {
            "text/plain": [
              "array([ 2.,  7., 12., 17., 22.])"
            ]
          },
          "metadata": {
            "tags": []
          },
          "execution_count": 124
        }
      ]
    },
    {
      "cell_type": "code",
      "metadata": {
        "id": "bxaA8N2NyqNV",
        "outputId": "a26e4902-e938-4440-fabc-2a116f954b08"
      },
      "source": [
        "a.mean(axis=0)"
      ],
      "execution_count": null,
      "outputs": [
        {
          "output_type": "execute_result",
          "data": {
            "text/plain": [
              "array([10., 11., 12., 13., 14.])"
            ]
          },
          "metadata": {
            "tags": []
          },
          "execution_count": 127
        }
      ]
    },
    {
      "cell_type": "code",
      "metadata": {
        "id": "FeKXF0BsyqNZ",
        "outputId": "4dcbbebe-b702-49a1-deec-b28f963237d6"
      },
      "source": [
        "a1 = np.array([[1,2,3],[4,5,6],[7,8,9]])\n",
        "a2 = np.array([[1,2,3],[4,5,6],[7,8,9]])\n",
        "a1"
      ],
      "execution_count": null,
      "outputs": [
        {
          "output_type": "execute_result",
          "data": {
            "text/plain": [
              "array([[1, 2, 3],\n",
              "       [4, 5, 6],\n",
              "       [7, 8, 9]])"
            ]
          },
          "metadata": {
            "tags": []
          },
          "execution_count": 128
        }
      ]
    },
    {
      "cell_type": "code",
      "metadata": {
        "id": "EBIJjZnYyqNd",
        "outputId": "a6ddb0a3-5491-4346-b8e9-cefefe3a2d31"
      },
      "source": [
        "a2"
      ],
      "execution_count": null,
      "outputs": [
        {
          "output_type": "execute_result",
          "data": {
            "text/plain": [
              "array([[1, 2, 3],\n",
              "       [4, 5, 6],\n",
              "       [7, 8, 9]])"
            ]
          },
          "metadata": {
            "tags": []
          },
          "execution_count": 129
        }
      ]
    },
    {
      "cell_type": "code",
      "metadata": {
        "id": "SrIA9Yw1yqNe",
        "outputId": "d04787b6-f32e-485c-af13-62f495dc810d"
      },
      "source": [
        "a1.dot(a2)"
      ],
      "execution_count": null,
      "outputs": [
        {
          "output_type": "execute_result",
          "data": {
            "text/plain": [
              "array([[ 30,  36,  42],\n",
              "       [ 66,  81,  96],\n",
              "       [102, 126, 150]])"
            ]
          },
          "metadata": {
            "tags": []
          },
          "execution_count": 130
        }
      ]
    },
    {
      "cell_type": "code",
      "metadata": {
        "id": "KD09kWbfyqNf",
        "outputId": "d57e4b2a-c8c7-48bd-c303-28e249972a46"
      },
      "source": [
        "np.dot(a1,a2)"
      ],
      "execution_count": null,
      "outputs": [
        {
          "output_type": "execute_result",
          "data": {
            "text/plain": [
              "array([[ 30,  36,  42],\n",
              "       [ 66,  81,  96],\n",
              "       [102, 126, 150]])"
            ]
          },
          "metadata": {
            "tags": []
          },
          "execution_count": 131
        }
      ]
    },
    {
      "cell_type": "code",
      "metadata": {
        "id": "Qd43gRQayqNg"
      },
      "source": [
        "from numpy.linalg import det, inv, eig"
      ],
      "execution_count": null,
      "outputs": []
    },
    {
      "cell_type": "code",
      "metadata": {
        "id": "W0PtnVWRyqNh"
      },
      "source": [
        "a = np.arange(16).reshape((4,4))"
      ],
      "execution_count": null,
      "outputs": []
    },
    {
      "cell_type": "code",
      "metadata": {
        "id": "-q1pqdXsyqNh",
        "outputId": "071ff4e1-9d2c-42eb-e0b3-a7bc30212d10"
      },
      "source": [
        "a"
      ],
      "execution_count": null,
      "outputs": [
        {
          "output_type": "execute_result",
          "data": {
            "text/plain": [
              "array([0.93630626, 0.6135402 , 0.01281697, 0.8602    , 0.96403898,\n",
              "       0.32855974, 0.71510097, 0.68370657, 0.14614182, 0.63336049])"
            ]
          },
          "metadata": {
            "tags": []
          },
          "execution_count": 157
        }
      ]
    },
    {
      "cell_type": "code",
      "metadata": {
        "id": "nrcvVj4QyqN5",
        "outputId": "36e872ac-49a4-4447-9510-59a1735d6072"
      },
      "source": [
        "a * 2"
      ],
      "execution_count": null,
      "outputs": [
        {
          "output_type": "execute_result",
          "data": {
            "text/plain": [
              "array([1.87261251, 1.22708039, 0.02563393, 1.72040001, 1.92807796,\n",
              "       0.65711947, 1.43020195, 1.36741315, 0.29228365, 1.26672097])"
            ]
          },
          "metadata": {
            "tags": []
          },
          "execution_count": 158
        }
      ]
    },
    {
      "cell_type": "code",
      "metadata": {
        "id": "giIja0zMyqN7",
        "outputId": "68003d64-4116-475e-eae4-2afdaac0b12d"
      },
      "source": [
        "det(a)"
      ],
      "execution_count": null,
      "outputs": [
        {
          "output_type": "execute_result",
          "data": {
            "text/plain": [
              "-2.9582283945787796e-30"
            ]
          },
          "metadata": {
            "tags": []
          },
          "execution_count": 135
        }
      ]
    },
    {
      "cell_type": "code",
      "metadata": {
        "id": "o4XTSNq8yqN8",
        "outputId": "10d6d39f-531c-4a02-ebe8-d06c0aea8ebc"
      },
      "source": [
        "inv(a)"
      ],
      "execution_count": null,
      "outputs": [
        {
          "output_type": "execute_result",
          "data": {
            "text/plain": [
              "array([[ 9.00719925e+14, -4.50359963e+14, -1.80143985e+15,\n",
              "         1.35107989e+15],\n",
              "       [-2.40191980e+15,  2.70215978e+15,  1.80143985e+15,\n",
              "        -2.10167983e+15],\n",
              "       [ 2.10167983e+15, -4.05323966e+15,  1.80143985e+15,\n",
              "         1.50119988e+14],\n",
              "       [-6.00479950e+14,  1.80143985e+15, -1.80143985e+15,\n",
              "         6.00479950e+14]])"
            ]
          },
          "metadata": {
            "tags": []
          },
          "execution_count": 136
        }
      ]
    },
    {
      "cell_type": "code",
      "metadata": {
        "id": "j1RYIofeyqN9",
        "outputId": "5f285b52-958b-428e-d6d6-5a3f0b573ca9"
      },
      "source": [
        "eig(a)"
      ],
      "execution_count": null,
      "outputs": [
        {
          "output_type": "execute_result",
          "data": {
            "text/plain": [
              "(array([ 3.24642492e+01, -2.46424920e+00,  1.92979794e-15, -4.09576009e-16]),\n",
              " array([[-0.11417645, -0.7327781 ,  0.54500164,  0.00135151],\n",
              "        [-0.3300046 , -0.28974835, -0.68602671,  0.40644504],\n",
              "        [-0.54583275,  0.15328139, -0.2629515 , -0.8169446 ],\n",
              "        [-0.76166089,  0.59631113,  0.40397657,  0.40914805]]))"
            ]
          },
          "metadata": {
            "tags": []
          },
          "execution_count": 137
        }
      ]
    },
    {
      "cell_type": "code",
      "metadata": {
        "id": "5znGQ2fCyqOA"
      },
      "source": [
        "a = np.random.randint(100)"
      ],
      "execution_count": null,
      "outputs": []
    },
    {
      "cell_type": "code",
      "metadata": {
        "id": "BBs-Jc5IyqOA",
        "outputId": "554ad804-4c26-400f-a41a-38aaed4adb01"
      },
      "source": [
        "a"
      ],
      "execution_count": null,
      "outputs": [
        {
          "output_type": "execute_result",
          "data": {
            "text/plain": [
              "88"
            ]
          },
          "metadata": {
            "tags": []
          },
          "execution_count": 153
        }
      ]
    },
    {
      "cell_type": "code",
      "metadata": {
        "id": "GfQy7mNmyqOB"
      },
      "source": [
        "a = np.random.rand(10)"
      ],
      "execution_count": null,
      "outputs": []
    },
    {
      "cell_type": "code",
      "metadata": {
        "id": "_V-LYpYTyqOC",
        "outputId": "b7f8b8b7-64fc-4c7a-d5b5-179d5d6a8454"
      },
      "source": [
        "a"
      ],
      "execution_count": null,
      "outputs": [
        {
          "output_type": "execute_result",
          "data": {
            "text/plain": [
              "array([0.93630626, 0.6135402 , 0.01281697, 0.8602    , 0.96403898,\n",
              "       0.32855974, 0.71510097, 0.68370657, 0.14614182, 0.63336049])"
            ]
          },
          "metadata": {
            "tags": []
          },
          "execution_count": 156
        }
      ]
    },
    {
      "cell_type": "code",
      "metadata": {
        "id": "tD_5V6zMyqOD"
      },
      "source": [
        ""
      ],
      "execution_count": null,
      "outputs": []
    }
  ]
}