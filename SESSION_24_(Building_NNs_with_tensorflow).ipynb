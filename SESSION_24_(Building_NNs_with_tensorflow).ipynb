{
  "nbformat": 4,
  "nbformat_minor": 0,
  "metadata": {
    "kernelspec": {
      "display_name": "Python 3",
      "language": "python",
      "name": "python3"
    },
    "language_info": {
      "codemirror_mode": {
        "name": "ipython",
        "version": 3
      },
      "file_extension": ".py",
      "mimetype": "text/x-python",
      "name": "python",
      "nbconvert_exporter": "python",
      "pygments_lexer": "ipython3",
      "version": "3.7.3"
    },
    "colab": {
      "name": "SESSION 24 (Building NNs with tensorflow).ipynb",
      "provenance": [],
      "include_colab_link": true
    }
  },
  "cells": [
    {
      "cell_type": "markdown",
      "metadata": {
        "id": "view-in-github",
        "colab_type": "text"
      },
      "source": [
        "<a href=\"https://colab.research.google.com/github/madhavjk/DataScience-ML_and_DL/blob/main/SESSION_24_(Building_NNs_with_tensorflow).ipynb\" target=\"_parent\"><img src=\"https://colab.research.google.com/assets/colab-badge.svg\" alt=\"Open In Colab\"/></a>"
      ]
    },
    {
      "cell_type": "code",
      "metadata": {
        "id": "taPvCXSRdxHJ"
      },
      "source": [
        "import tensorflow as tf\n",
        "import numpy as np\n",
        "from tensorflow import keras"
      ],
      "execution_count": null,
      "outputs": []
    },
    {
      "cell_type": "code",
      "metadata": {
        "id": "wbZducZedxHL",
        "outputId": "08cd0cd5-0962-4597-b292-b798d9f92aad"
      },
      "source": [
        "print(tf.__version__)"
      ],
      "execution_count": null,
      "outputs": [
        {
          "output_type": "stream",
          "text": [
            "2.4.1\n"
          ],
          "name": "stdout"
        }
      ]
    },
    {
      "cell_type": "code",
      "metadata": {
        "id": "IzbZN_dHdxHO"
      },
      "source": [
        "model = tf.keras.Sequential([keras.layers.Dense(units = 1,input_shape=[1])])"
      ],
      "execution_count": null,
      "outputs": []
    },
    {
      "cell_type": "code",
      "metadata": {
        "id": "c5pI96TPdxHP"
      },
      "source": [
        "model.compile(optimizer = 'sgd', loss = \"mean_squared_error\", metrics = ['accuracy'])"
      ],
      "execution_count": null,
      "outputs": []
    },
    {
      "cell_type": "code",
      "metadata": {
        "id": "c9p2IEXadxHP"
      },
      "source": [
        "xs = np.array([-1.0,  0.0, 1.0, 2.0, 3.0, 4.0], dtype=float)\n",
        "ys = np.array([-3.0, -1.0, 1.0, 3.0, 5.0, 7.0], dtype=float)"
      ],
      "execution_count": null,
      "outputs": []
    },
    {
      "cell_type": "code",
      "metadata": {
        "id": "VGuOI-lwdxHQ",
        "outputId": "99475c74-012f-4356-ccf9-25b22c6a372f"
      },
      "source": [
        "model.fit(xs,ys,epochs = 100)"
      ],
      "execution_count": null,
      "outputs": [
        {
          "output_type": "stream",
          "text": [
            "Epoch 1/100\n",
            "1/1 [==============================] - 0s 283ms/step - loss: 0.0024 - accuracy: 0.1667\n",
            "Epoch 2/100\n",
            "1/1 [==============================] - 0s 3ms/step - loss: 0.0023 - accuracy: 0.1667\n",
            "Epoch 3/100\n",
            "1/1 [==============================] - 0s 4ms/step - loss: 0.0023 - accuracy: 0.1667\n",
            "Epoch 4/100\n",
            "1/1 [==============================] - 0s 4ms/step - loss: 0.0022 - accuracy: 0.1667\n",
            "Epoch 5/100\n",
            "1/1 [==============================] - 0s 5ms/step - loss: 0.0022 - accuracy: 0.1667\n",
            "Epoch 6/100\n",
            "1/1 [==============================] - 0s 5ms/step - loss: 0.0022 - accuracy: 0.1667\n",
            "Epoch 7/100\n",
            "1/1 [==============================] - 0s 3ms/step - loss: 0.0021 - accuracy: 0.1667\n",
            "Epoch 8/100\n",
            "1/1 [==============================] - 0s 5ms/step - loss: 0.0021 - accuracy: 0.1667\n",
            "Epoch 9/100\n",
            "1/1 [==============================] - 0s 4ms/step - loss: 0.0020 - accuracy: 0.1667\n",
            "Epoch 10/100\n",
            "1/1 [==============================] - 0s 8ms/step - loss: 0.0020 - accuracy: 0.1667\n",
            "Epoch 11/100\n",
            "1/1 [==============================] - 0s 7ms/step - loss: 0.0019 - accuracy: 0.1667\n",
            "Epoch 12/100\n",
            "1/1 [==============================] - 0s 8ms/step - loss: 0.0019 - accuracy: 0.1667\n",
            "Epoch 13/100\n",
            "1/1 [==============================] - 0s 3ms/step - loss: 0.0019 - accuracy: 0.1667\n",
            "Epoch 14/100\n",
            "1/1 [==============================] - 0s 7ms/step - loss: 0.0018 - accuracy: 0.1667\n",
            "Epoch 15/100\n",
            "1/1 [==============================] - 0s 7ms/step - loss: 0.0018 - accuracy: 0.1667\n",
            "Epoch 16/100\n",
            "1/1 [==============================] - 0s 4ms/step - loss: 0.0018 - accuracy: 0.1667\n",
            "Epoch 17/100\n",
            "1/1 [==============================] - 0s 7ms/step - loss: 0.0017 - accuracy: 0.1667\n",
            "Epoch 18/100\n",
            "1/1 [==============================] - 0s 3ms/step - loss: 0.0017 - accuracy: 0.1667\n",
            "Epoch 19/100\n",
            "1/1 [==============================] - 0s 7ms/step - loss: 0.0016 - accuracy: 0.1667\n",
            "Epoch 20/100\n",
            "1/1 [==============================] - 0s 7ms/step - loss: 0.0016 - accuracy: 0.1667\n",
            "Epoch 21/100\n",
            "1/1 [==============================] - 0s 4ms/step - loss: 0.0016 - accuracy: 0.1667\n",
            "Epoch 22/100\n",
            "1/1 [==============================] - 0s 5ms/step - loss: 0.0015 - accuracy: 0.1667\n",
            "Epoch 23/100\n",
            "1/1 [==============================] - 0s 3ms/step - loss: 0.0015 - accuracy: 0.1667\n",
            "Epoch 24/100\n",
            "1/1 [==============================] - 0s 9ms/step - loss: 0.0015 - accuracy: 0.1667\n",
            "Epoch 25/100\n",
            "1/1 [==============================] - 0s 7ms/step - loss: 0.0015 - accuracy: 0.1667\n",
            "Epoch 26/100\n",
            "1/1 [==============================] - 0s 5ms/step - loss: 0.0014 - accuracy: 0.1667\n",
            "Epoch 27/100\n",
            "1/1 [==============================] - 0s 6ms/step - loss: 0.0014 - accuracy: 0.1667\n",
            "Epoch 28/100\n",
            "1/1 [==============================] - 0s 4ms/step - loss: 0.0014 - accuracy: 0.1667\n",
            "Epoch 29/100\n",
            "1/1 [==============================] - 0s 4ms/step - loss: 0.0013 - accuracy: 0.1667\n",
            "Epoch 30/100\n",
            "1/1 [==============================] - 0s 7ms/step - loss: 0.0013 - accuracy: 0.1667\n",
            "Epoch 31/100\n",
            "1/1 [==============================] - 0s 9ms/step - loss: 0.0013 - accuracy: 0.1667\n",
            "Epoch 32/100\n",
            "1/1 [==============================] - 0s 5ms/step - loss: 0.0013 - accuracy: 0.1667\n",
            "Epoch 33/100\n",
            "1/1 [==============================] - 0s 3ms/step - loss: 0.0012 - accuracy: 0.1667\n",
            "Epoch 34/100\n",
            "1/1 [==============================] - 0s 5ms/step - loss: 0.0012 - accuracy: 0.1667\n",
            "Epoch 35/100\n",
            "1/1 [==============================] - 0s 4ms/step - loss: 0.0012 - accuracy: 0.1667\n",
            "Epoch 36/100\n",
            "1/1 [==============================] - 0s 7ms/step - loss: 0.0012 - accuracy: 0.1667\n",
            "Epoch 37/100\n",
            "1/1 [==============================] - 0s 2ms/step - loss: 0.0011 - accuracy: 0.1667\n",
            "Epoch 38/100\n",
            "1/1 [==============================] - 0s 9ms/step - loss: 0.0011 - accuracy: 0.1667\n",
            "Epoch 39/100\n",
            "1/1 [==============================] - 0s 4ms/step - loss: 0.0011 - accuracy: 0.1667\n",
            "Epoch 40/100\n",
            "1/1 [==============================] - 0s 3ms/step - loss: 0.0011 - accuracy: 0.1667\n",
            "Epoch 41/100\n",
            "1/1 [==============================] - 0s 5ms/step - loss: 0.0010 - accuracy: 0.1667\n",
            "Epoch 42/100\n",
            "1/1 [==============================] - 0s 4ms/step - loss: 0.0010 - accuracy: 0.1667\n",
            "Epoch 43/100\n",
            "1/1 [==============================] - 0s 3ms/step - loss: 0.0010 - accuracy: 0.1667\n",
            "Epoch 44/100\n",
            "1/1 [==============================] - 0s 6ms/step - loss: 9.8080e-04 - accuracy: 0.1667\n",
            "Epoch 45/100\n",
            "1/1 [==============================] - 0s 9ms/step - loss: 9.6065e-04 - accuracy: 0.1667\n",
            "Epoch 46/100\n",
            "1/1 [==============================] - 0s 9ms/step - loss: 9.4092e-04 - accuracy: 0.1667\n",
            "Epoch 47/100\n",
            "1/1 [==============================] - 0s 998us/step - loss: 9.2160e-04 - accuracy: 0.1667\n",
            "Epoch 48/100\n",
            "1/1 [==============================] - 0s 11ms/step - loss: 9.0267e-04 - accuracy: 0.1667\n",
            "Epoch 49/100\n",
            "1/1 [==============================] - 0s 7ms/step - loss: 8.8412e-04 - accuracy: 0.1667\n",
            "Epoch 50/100\n",
            "1/1 [==============================] - 0s 2ms/step - loss: 8.6596e-04 - accuracy: 0.1667\n",
            "Epoch 51/100\n",
            "1/1 [==============================] - 0s 11ms/step - loss: 8.4818e-04 - accuracy: 0.1667\n",
            "Epoch 52/100\n",
            "1/1 [==============================] - 0s 10ms/step - loss: 8.3075e-04 - accuracy: 0.1667\n",
            "Epoch 53/100\n",
            "1/1 [==============================] - 0s 3ms/step - loss: 8.1369e-04 - accuracy: 0.1667\n",
            "Epoch 54/100\n",
            "1/1 [==============================] - 0s 6ms/step - loss: 7.9697e-04 - accuracy: 0.1667\n",
            "Epoch 55/100\n",
            "1/1 [==============================] - 0s 3ms/step - loss: 7.8060e-04 - accuracy: 0.1667\n",
            "Epoch 56/100\n",
            "1/1 [==============================] - 0s 4ms/step - loss: 7.6457e-04 - accuracy: 0.1667\n",
            "Epoch 57/100\n",
            "1/1 [==============================] - 0s 7ms/step - loss: 7.4886e-04 - accuracy: 0.1667\n",
            "Epoch 58/100\n",
            "1/1 [==============================] - 0s 4ms/step - loss: 7.3348e-04 - accuracy: 0.1667\n",
            "Epoch 59/100\n",
            "1/1 [==============================] - 0s 8ms/step - loss: 7.1841e-04 - accuracy: 0.1667\n",
            "Epoch 60/100\n",
            "1/1 [==============================] - 0s 6ms/step - loss: 7.0366e-04 - accuracy: 0.1667\n",
            "Epoch 61/100\n",
            "1/1 [==============================] - 0s 4ms/step - loss: 6.8920e-04 - accuracy: 0.1667\n",
            "Epoch 62/100\n",
            "1/1 [==============================] - 0s 8ms/step - loss: 6.7505e-04 - accuracy: 0.1667\n",
            "Epoch 63/100\n",
            "1/1 [==============================] - 0s 5ms/step - loss: 6.6118e-04 - accuracy: 0.1667\n",
            "Epoch 64/100\n",
            "1/1 [==============================] - 0s 6ms/step - loss: 6.4760e-04 - accuracy: 0.1667\n",
            "Epoch 65/100\n",
            "1/1 [==============================] - 0s 7ms/step - loss: 6.3430e-04 - accuracy: 0.1667\n",
            "Epoch 66/100\n",
            "1/1 [==============================] - ETA: 0s - loss: 6.2127e-04 - accuracy: 0.16 - 0s 8ms/step - loss: 6.2127e-04 - accuracy: 0.1667\n",
            "Epoch 67/100\n",
            "1/1 [==============================] - 0s 6ms/step - loss: 6.0851e-04 - accuracy: 0.1667\n",
            "Epoch 68/100\n",
            "1/1 [==============================] - 0s 4ms/step - loss: 5.9601e-04 - accuracy: 0.1667\n",
            "Epoch 69/100\n",
            "1/1 [==============================] - 0s 4ms/step - loss: 5.8377e-04 - accuracy: 0.1667\n",
            "Epoch 70/100\n",
            "1/1 [==============================] - 0s 11ms/step - loss: 5.7178e-04 - accuracy: 0.1667\n",
            "Epoch 71/100\n",
            "1/1 [==============================] - 0s 6ms/step - loss: 5.6003e-04 - accuracy: 0.1667\n",
            "Epoch 72/100\n",
            "1/1 [==============================] - 0s 6ms/step - loss: 5.4853e-04 - accuracy: 0.1667\n",
            "Epoch 73/100\n",
            "1/1 [==============================] - 0s 5ms/step - loss: 5.3726e-04 - accuracy: 0.1667\n",
            "Epoch 74/100\n",
            "1/1 [==============================] - 0s 7ms/step - loss: 5.2623e-04 - accuracy: 0.1667\n",
            "Epoch 75/100\n",
            "1/1 [==============================] - 0s 3ms/step - loss: 5.1541e-04 - accuracy: 0.1667\n",
            "Epoch 76/100\n",
            "1/1 [==============================] - 0s 3ms/step - loss: 5.0483e-04 - accuracy: 0.1667\n",
            "Epoch 77/100\n",
            "1/1 [==============================] - ETA: 0s - loss: 4.9446e-04 - accuracy: 0.16 - 0s 5ms/step - loss: 4.9446e-04 - accuracy: 0.1667\n",
            "Epoch 78/100\n",
            "1/1 [==============================] - 0s 4ms/step - loss: 4.8430e-04 - accuracy: 0.1667\n",
            "Epoch 79/100\n",
            "1/1 [==============================] - 0s 2ms/step - loss: 4.7435e-04 - accuracy: 0.1667\n",
            "Epoch 80/100\n",
            "1/1 [==============================] - 0s 11ms/step - loss: 4.6461e-04 - accuracy: 0.1667\n",
            "Epoch 81/100\n",
            "1/1 [==============================] - 0s 10ms/step - loss: 4.5507e-04 - accuracy: 0.1667\n",
            "Epoch 82/100\n"
          ],
          "name": "stdout"
        },
        {
          "output_type": "stream",
          "text": [
            "1/1 [==============================] - 0s 3ms/step - loss: 4.4572e-04 - accuracy: 0.1667\n",
            "Epoch 83/100\n",
            "1/1 [==============================] - 0s 7ms/step - loss: 4.3657e-04 - accuracy: 0.1667\n",
            "Epoch 84/100\n",
            "1/1 [==============================] - 0s 4ms/step - loss: 4.2760e-04 - accuracy: 0.1667\n",
            "Epoch 85/100\n",
            "1/1 [==============================] - 0s 5ms/step - loss: 4.1882e-04 - accuracy: 0.1667\n",
            "Epoch 86/100\n",
            "1/1 [==============================] - 0s 8ms/step - loss: 4.1021e-04 - accuracy: 0.1667\n",
            "Epoch 87/100\n",
            "1/1 [==============================] - 0s 13ms/step - loss: 4.0179e-04 - accuracy: 0.1667\n",
            "Epoch 88/100\n",
            "1/1 [==============================] - 0s 12ms/step - loss: 3.9354e-04 - accuracy: 0.1667\n",
            "Epoch 89/100\n",
            "1/1 [==============================] - 0s 11ms/step - loss: 3.8545e-04 - accuracy: 0.1667\n",
            "Epoch 90/100\n",
            "1/1 [==============================] - 0s 5ms/step - loss: 3.7754e-04 - accuracy: 0.1667\n",
            "Epoch 91/100\n",
            "1/1 [==============================] - 0s 6ms/step - loss: 3.6978e-04 - accuracy: 0.1667\n",
            "Epoch 92/100\n",
            "1/1 [==============================] - 0s 4ms/step - loss: 3.6219e-04 - accuracy: 0.1667\n",
            "Epoch 93/100\n",
            "1/1 [==============================] - 0s 7ms/step - loss: 3.5475e-04 - accuracy: 0.1667\n",
            "Epoch 94/100\n",
            "1/1 [==============================] - 0s 2ms/step - loss: 3.4746e-04 - accuracy: 0.1667\n",
            "Epoch 95/100\n",
            "1/1 [==============================] - 0s 2ms/step - loss: 3.4032e-04 - accuracy: 0.1667\n",
            "Epoch 96/100\n",
            "1/1 [==============================] - 0s 4ms/step - loss: 3.3333e-04 - accuracy: 0.1667\n",
            "Epoch 97/100\n",
            "1/1 [==============================] - 0s 5ms/step - loss: 3.2648e-04 - accuracy: 0.1667\n",
            "Epoch 98/100\n",
            "1/1 [==============================] - 0s 3ms/step - loss: 3.1978e-04 - accuracy: 0.1667\n",
            "Epoch 99/100\n",
            "1/1 [==============================] - 0s 4ms/step - loss: 3.1321e-04 - accuracy: 0.1667\n",
            "Epoch 100/100\n",
            "1/1 [==============================] - 0s 2ms/step - loss: 3.0677e-04 - accuracy: 0.1667\n"
          ],
          "name": "stdout"
        },
        {
          "output_type": "execute_result",
          "data": {
            "text/plain": [
              "<tensorflow.python.keras.callbacks.History at 0x1728af0dac8>"
            ]
          },
          "metadata": {
            "tags": []
          },
          "execution_count": 17
        }
      ]
    },
    {
      "cell_type": "code",
      "metadata": {
        "id": "R3p-TC1RdxHR",
        "outputId": "6b0d5d14-457c-4e7b-9f8f-59b72766415d"
      },
      "source": [
        "print(model.predict([10.0]))"
      ],
      "execution_count": null,
      "outputs": [
        {
          "output_type": "stream",
          "text": [
            "[[18.592817]]\n"
          ],
          "name": "stdout"
        }
      ]
    },
    {
      "cell_type": "code",
      "metadata": {
        "id": "dPw0BReTdxHR"
      },
      "source": [
        "mnist = tf.keras.datasets.fashion_mnist"
      ],
      "execution_count": null,
      "outputs": []
    },
    {
      "cell_type": "code",
      "metadata": {
        "id": "imbzUN28dxHS"
      },
      "source": [
        "(training_images, training_labels),(test_images, test_labels) = mnist.load_data()"
      ],
      "execution_count": null,
      "outputs": []
    },
    {
      "cell_type": "code",
      "metadata": {
        "id": "sjDaOR4kdxHS",
        "outputId": "a0af2327-e885-4a1a-a28e-b95d3649a744"
      },
      "source": [
        "print(training_images.shape)\n",
        "print(test_images.shape)\n",
        "print(training_labels.shape)\n",
        "print(test_labels.shape)"
      ],
      "execution_count": null,
      "outputs": [
        {
          "output_type": "stream",
          "text": [
            "(60000, 28, 28)\n",
            "(10000, 28, 28)\n",
            "(60000,)\n",
            "(10000,)\n"
          ],
          "name": "stdout"
        }
      ]
    },
    {
      "cell_type": "code",
      "metadata": {
        "id": "i_97_PYVdxHT",
        "outputId": "b93010f6-f9f0-47f2-da30-7c7eb27529a2"
      },
      "source": [
        "np.set_printoptions(linewidth = 300)\n",
        "import matplotlib.pyplot as plt\n",
        "plt.imshow(training_images[0])\n",
        "print(training_labels[0])\n",
        "print(training_images[0])\n"
      ],
      "execution_count": null,
      "outputs": [
        {
          "output_type": "stream",
          "text": [
            "9\n",
            "[[  0   0   0   0   0   0   0   0   0   0   0   0   0   0   0   0   0   0   0   0   0   0   0   0   0   0   0   0]\n",
            " [  0   0   0   0   0   0   0   0   0   0   0   0   0   0   0   0   0   0   0   0   0   0   0   0   0   0   0   0]\n",
            " [  0   0   0   0   0   0   0   0   0   0   0   0   0   0   0   0   0   0   0   0   0   0   0   0   0   0   0   0]\n",
            " [  0   0   0   0   0   0   0   0   0   0   0   0   1   0   0  13  73   0   0   1   4   0   0   0   0   1   1   0]\n",
            " [  0   0   0   0   0   0   0   0   0   0   0   0   3   0  36 136 127  62  54   0   0   0   1   3   4   0   0   3]\n",
            " [  0   0   0   0   0   0   0   0   0   0   0   0   6   0 102 204 176 134 144 123  23   0   0   0   0  12  10   0]\n",
            " [  0   0   0   0   0   0   0   0   0   0   0   0   0   0 155 236 207 178 107 156 161 109  64  23  77 130  72  15]\n",
            " [  0   0   0   0   0   0   0   0   0   0   0   1   0  69 207 223 218 216 216 163 127 121 122 146 141  88 172  66]\n",
            " [  0   0   0   0   0   0   0   0   0   1   1   1   0 200 232 232 233 229 223 223 215 213 164 127 123 196 229   0]\n",
            " [  0   0   0   0   0   0   0   0   0   0   0   0   0 183 225 216 223 228 235 227 224 222 224 221 223 245 173   0]\n",
            " [  0   0   0   0   0   0   0   0   0   0   0   0   0 193 228 218 213 198 180 212 210 211 213 223 220 243 202   0]\n",
            " [  0   0   0   0   0   0   0   0   0   1   3   0  12 219 220 212 218 192 169 227 208 218 224 212 226 197 209  52]\n",
            " [  0   0   0   0   0   0   0   0   0   0   6   0  99 244 222 220 218 203 198 221 215 213 222 220 245 119 167  56]\n",
            " [  0   0   0   0   0   0   0   0   0   4   0   0  55 236 228 230 228 240 232 213 218 223 234 217 217 209  92   0]\n",
            " [  0   0   1   4   6   7   2   0   0   0   0   0 237 226 217 223 222 219 222 221 216 223 229 215 218 255  77   0]\n",
            " [  0   3   0   0   0   0   0   0   0  62 145 204 228 207 213 221 218 208 211 218 224 223 219 215 224 244 159   0]\n",
            " [  0   0   0   0  18  44  82 107 189 228 220 222 217 226 200 205 211 230 224 234 176 188 250 248 233 238 215   0]\n",
            " [  0  57 187 208 224 221 224 208 204 214 208 209 200 159 245 193 206 223 255 255 221 234 221 211 220 232 246   0]\n",
            " [  3 202 228 224 221 211 211 214 205 205 205 220 240  80 150 255 229 221 188 154 191 210 204 209 222 228 225   0]\n",
            " [ 98 233 198 210 222 229 229 234 249 220 194 215 217 241  65  73 106 117 168 219 221 215 217 223 223 224 229  29]\n",
            " [ 75 204 212 204 193 205 211 225 216 185 197 206 198 213 240 195 227 245 239 223 218 212 209 222 220 221 230  67]\n",
            " [ 48 203 183 194 213 197 185 190 194 192 202 214 219 221 220 236 225 216 199 206 186 181 177 172 181 205 206 115]\n",
            " [  0 122 219 193 179 171 183 196 204 210 213 207 211 210 200 196 194 191 195 191 198 192 176 156 167 177 210  92]\n",
            " [  0   0  74 189 212 191 175 172 175 181 185 188 189 188 193 198 204 209 210 210 211 188 188 194 192 216 170   0]\n",
            " [  2   0   0   0  66 200 222 237 239 242 246 243 244 221 220 193 191 179 182 182 181 176 166 168  99  58   0   0]\n",
            " [  0   0   0   0   0   0   0  40  61  44  72  41  35   0   0   0   0   0   0   0   0   0   0   0   0   0   0   0]\n",
            " [  0   0   0   0   0   0   0   0   0   0   0   0   0   0   0   0   0   0   0   0   0   0   0   0   0   0   0   0]\n",
            " [  0   0   0   0   0   0   0   0   0   0   0   0   0   0   0   0   0   0   0   0   0   0   0   0   0   0   0   0]]\n"
          ],
          "name": "stdout"
        },
        {
          "output_type": "display_data",
          "data": {
            "image/png": "[encoded data removed]",
            "text/plain": [
              "<Figure size 432x288 with 1 Axes>"
            ]
          },
          "metadata": {
            "tags": [],
            "needs_background": "light"
          }
        }
      ]
    },
    {
      "cell_type": "code",
      "metadata": {
        "id": "lpfjOCk2dxHU"
      },
      "source": [
        "training_images = training_images/255\n",
        "test_images = test_images/255"
      ],
      "execution_count": null,
      "outputs": []
    },
    {
      "cell_type": "code",
      "metadata": {
        "id": "yIfrXXb4dxHU"
      },
      "source": [
        "model = tf.keras.Sequential([tf.keras.layers.Flatten(),\n",
        "                            tf.keras.layers.Dense(128,activation = tf.nn.relu),\n",
        "                            tf.keras.layers.Dense(10,activation = tf.nn.softmax)])"
      ],
      "execution_count": null,
      "outputs": []
    },
    {
      "cell_type": "code",
      "metadata": {
        "id": "GdE5HQJadxHV"
      },
      "source": [
        "model.compile(optimizer = tf.optimizers.Adam(),\n",
        "              loss = 'sparse_categorical_crossentropy',\n",
        "              metrics = ['accuracy'])"
      ],
      "execution_count": null,
      "outputs": []
    },
    {
      "cell_type": "code",
      "metadata": {
        "id": "hWJLSwhfdxHW",
        "outputId": "a82f2b7e-83b4-4b43-af13-666018dd2e9d"
      },
      "source": [
        "model.fit(training_images,training_labels,epochs = 10)"
      ],
      "execution_count": null,
      "outputs": [
        {
          "output_type": "stream",
          "text": [
            "Epoch 1/10\n",
            "1875/1875 [==============================] - 4s 2ms/step - loss: 0.6398 - accuracy: 0.7761\n",
            "Epoch 2/10\n",
            "1875/1875 [==============================] - 3s 2ms/step - loss: 0.3785 - accuracy: 0.8619\n",
            "Epoch 3/10\n",
            "1875/1875 [==============================] - 3s 2ms/step - loss: 0.3422 - accuracy: 0.8730\n",
            "Epoch 4/10\n",
            "1875/1875 [==============================] - 3s 2ms/step - loss: 0.3128 - accuracy: 0.8854\n",
            "Epoch 5/10\n",
            "1875/1875 [==============================] - 3s 2ms/step - loss: 0.2934 - accuracy: 0.8912\n",
            "Epoch 6/10\n",
            "1875/1875 [==============================] - 3s 2ms/step - loss: 0.2766 - accuracy: 0.8971\n",
            "Epoch 7/10\n",
            "1875/1875 [==============================] - 3s 2ms/step - loss: 0.2676 - accuracy: 0.9009\n",
            "Epoch 8/10\n",
            "1875/1875 [==============================] - 3s 2ms/step - loss: 0.2477 - accuracy: 0.9076\n",
            "Epoch 9/10\n",
            "1875/1875 [==============================] - 3s 2ms/step - loss: 0.2423 - accuracy: 0.9099\n",
            "Epoch 10/10\n",
            "1875/1875 [==============================] - 3s 2ms/step - loss: 0.2341 - accuracy: 0.9134\n"
          ],
          "name": "stdout"
        },
        {
          "output_type": "execute_result",
          "data": {
            "text/plain": [
              "<tensorflow.python.keras.callbacks.History at 0x17291f53358>"
            ]
          },
          "metadata": {
            "tags": []
          },
          "execution_count": 44
        }
      ]
    },
    {
      "cell_type": "code",
      "metadata": {
        "id": "9TpEycb_dxHW",
        "outputId": "7101e109-a162-46df-9b16-bcbe29dc76a6"
      },
      "source": [
        "model.evaluate(test_images,test_labels)"
      ],
      "execution_count": null,
      "outputs": [
        {
          "output_type": "stream",
          "text": [
            "313/313 [==============================] - 1s 1ms/step - loss: 0.3334 - accuracy: 0.8837\n"
          ],
          "name": "stdout"
        },
        {
          "output_type": "execute_result",
          "data": {
            "text/plain": [
              "[0.33335545659065247, 0.8837000131607056]"
            ]
          },
          "metadata": {
            "tags": []
          },
          "execution_count": 45
        }
      ]
    },
    {
      "cell_type": "markdown",
      "metadata": {
        "id": "7CMr5bwddxHX"
      },
      "source": [
        "# callbacks"
      ]
    },
    {
      "cell_type": "code",
      "metadata": {
        "id": "SPS3KC5TdxHX",
        "outputId": "5d2615bf-a872-471f-86ab-4505ada9e8e1"
      },
      "source": [
        "class myCallback(tf.keras.callbacks.Callback):\n",
        "    def on_epoch_end(self,epoch,logs={}):\n",
        "        if(logs.get('accuracy')>0.9):\n",
        "            print(\"\\n Reached desired accuracy(90%) so cancelling training\")\n",
        "            self.model.stop_training = True\n",
        "            \n",
        "callbacks = myCallback()\n",
        "\n",
        "model = tf.keras.models.Sequential([\n",
        "  tf.keras.layers.Flatten(),\n",
        "  tf.keras.layers.Dense(512, activation=tf.nn.relu),\n",
        "  tf.keras.layers.Dense(10, activation=tf.nn.softmax)\n",
        "])\n",
        "model.compile(optimizer='adam', \n",
        "              loss='sparse_categorical_crossentropy',\n",
        "              metrics=['accuracy'])\n",
        "model.fit(training_images, training_labels, epochs=10, callbacks=[callbacks])"
      ],
      "execution_count": null,
      "outputs": [
        {
          "output_type": "stream",
          "text": [
            "Epoch 1/10\n",
            "1875/1875 [==============================] - 8s 4ms/step - loss: 0.5882 - accuracy: 0.7934\n",
            "Epoch 2/10\n",
            "1875/1875 [==============================] - 8s 4ms/step - loss: 0.3712 - accuracy: 0.8614\n",
            "Epoch 3/10\n",
            "1875/1875 [==============================] - 7s 4ms/step - loss: 0.3299 - accuracy: 0.8803\n",
            "Epoch 4/10\n",
            "1875/1875 [==============================] - 7s 4ms/step - loss: 0.3014 - accuracy: 0.8889\n",
            "Epoch 5/10\n",
            "1875/1875 [==============================] - 7s 4ms/step - loss: 0.2791 - accuracy: 0.8964\n",
            "Epoch 6/10\n",
            "1875/1875 [==============================] - 7s 4ms/step - loss: 0.2609 - accuracy: 0.9026\n",
            "\n",
            " Reached desired accuracy(90%) so cancelling training\n"
          ],
          "name": "stdout"
        },
        {
          "output_type": "execute_result",
          "data": {
            "text/plain": [
              "<tensorflow.python.keras.callbacks.History at 0x172920802e8>"
            ]
          },
          "metadata": {
            "tags": []
          },
          "execution_count": 46
        }
      ]
    },
    {
      "cell_type": "markdown",
      "metadata": {
        "id": "b5hv8qFKdxHY"
      },
      "source": [
        "# Building a convolutional neural network"
      ]
    },
    {
      "cell_type": "code",
      "metadata": {
        "id": "rK6DrzK6dxHY"
      },
      "source": [
        "mnist = tf.keras.datasets.fashion_mnist\n",
        "(training_images, training_labels), (test_images, test_labels) = mnist.load_data()"
      ],
      "execution_count": null,
      "outputs": []
    },
    {
      "cell_type": "code",
      "metadata": {
        "id": "bqVvaS22dxHY"
      },
      "source": [
        "training_images = training_images.reshape(60000,28,28,1)\n",
        "test_images.reshape(10000,28,28,1)\n",
        "training_images = training_images/255\n",
        "test_images = test_images/255"
      ],
      "execution_count": null,
      "outputs": []
    },
    {
      "cell_type": "code",
      "metadata": {
        "id": "tBWPk2_fdxHZ"
      },
      "source": [
        "model = tf.keras.models.Sequential([\n",
        "    tf.keras.layers.Conv2D(64,(3,3),activation = 'relu',input_shape = (28,28,1)),\n",
        "    tf.keras.layers.MaxPooling2D(2,2),\n",
        "    tf.keras.layers.Conv2D(64,(3,3),activation ='relu'),\n",
        "    tf.keras.layers.MaxPooling2D(2,2),\n",
        "    tf.keras.layers.Flatten(),\n",
        "    tf.keras.layers.Dense(128,activation = 'relu'),\n",
        "    tf.keras.layers.Dense(10,activation = 'softmax')\n",
        "])"
      ],
      "execution_count": null,
      "outputs": []
    },
    {
      "cell_type": "code",
      "metadata": {
        "id": "4FaodX1AdxHZ"
      },
      "source": [
        "model.compile(optimizer='adam', \n",
        "              loss='sparse_categorical_crossentropy',\n",
        "              metrics=['accuracy'])"
      ],
      "execution_count": null,
      "outputs": []
    },
    {
      "cell_type": "code",
      "metadata": {
        "id": "3bGwxWTQdxHa",
        "outputId": "f7d3eb38-e9f2-4e22-cd86-0327e6e196ae"
      },
      "source": [
        "model.fit(training_images, training_labels, epochs=5)"
      ],
      "execution_count": null,
      "outputs": [
        {
          "output_type": "stream",
          "text": [
            "Epoch 1/5\n",
            "1875/1875 [==============================] - 70s 37ms/step - loss: 0.6025 - accuracy: 0.7810\n",
            "Epoch 2/5\n",
            "1875/1875 [==============================] - 70s 37ms/step - loss: 0.2933 - accuracy: 0.8920\n",
            "Epoch 3/5\n",
            "1875/1875 [==============================] - 74s 40ms/step - loss: 0.2462 - accuracy: 0.9097\n",
            "Epoch 4/5\n",
            "1875/1875 [==============================] - 78s 42ms/step - loss: 0.2097 - accuracy: 0.9214\n",
            "Epoch 5/5\n",
            "1875/1875 [==============================] - 71s 38ms/step - loss: 0.1889 - accuracy: 0.9289\n"
          ],
          "name": "stdout"
        },
        {
          "output_type": "execute_result",
          "data": {
            "text/plain": [
              "<tensorflow.python.keras.callbacks.History at 0x1729206b5c0>"
            ]
          },
          "metadata": {
            "tags": []
          },
          "execution_count": 52
        }
      ]
    },
    {
      "cell_type": "code",
      "metadata": {
        "id": "WHbrXs94dxHa",
        "outputId": "f6ab4be6-3914-4f2a-bfdf-194ae6f73bab"
      },
      "source": [
        "model.evaluate(test_images,test_labels)"
      ],
      "execution_count": null,
      "outputs": [
        {
          "output_type": "stream",
          "text": [
            "313/313 [==============================] - 3s 9ms/step - loss: 0.2582 - accuracy: 0.9103\n"
          ],
          "name": "stdout"
        },
        {
          "output_type": "execute_result",
          "data": {
            "text/plain": [
              "[0.2582230567932129, 0.9103000164031982]"
            ]
          },
          "metadata": {
            "tags": []
          },
          "execution_count": 61
        }
      ]
    },
    {
      "cell_type": "code",
      "metadata": {
        "id": "BpSXF61FdxHb",
        "outputId": "b33f3041-0fa8-4037-c209-cde9766af724"
      },
      "source": [
        "test_images = test_images.reshape(10000,28,28,1)\n",
        "test_images.shape"
      ],
      "execution_count": null,
      "outputs": [
        {
          "output_type": "execute_result",
          "data": {
            "text/plain": [
              "(10000, 28, 28, 1)"
            ]
          },
          "metadata": {
            "tags": []
          },
          "execution_count": 60
        }
      ]
    },
    {
      "cell_type": "code",
      "metadata": {
        "id": "oVCDPxwsdxHc",
        "outputId": "54d8095f-cbfd-4dbd-ea23-1c1219e4a85e"
      },
      "source": [
        "model.summary()"
      ],
      "execution_count": null,
      "outputs": [
        {
          "output_type": "stream",
          "text": [
            "Model: \"sequential_5\"\n",
            "_________________________________________________________________\n",
            "Layer (type)                 Output Shape              Param #   \n",
            "=================================================================\n",
            "conv2d (Conv2D)              (None, 26, 26, 64)        640       \n",
            "_________________________________________________________________\n",
            "max_pooling2d (MaxPooling2D) (None, 13, 13, 64)        0         \n",
            "_________________________________________________________________\n",
            "conv2d_1 (Conv2D)            (None, 11, 11, 64)        36928     \n",
            "_________________________________________________________________\n",
            "max_pooling2d_1 (MaxPooling2 (None, 5, 5, 64)          0         \n",
            "_________________________________________________________________\n",
            "flatten_5 (Flatten)          (None, 1600)              0         \n",
            "_________________________________________________________________\n",
            "dense_11 (Dense)             (None, 128)               204928    \n",
            "_________________________________________________________________\n",
            "dense_12 (Dense)             (None, 10)                1290      \n",
            "=================================================================\n",
            "Total params: 243,786\n",
            "Trainable params: 243,786\n",
            "Non-trainable params: 0\n",
            "_________________________________________________________________\n"
          ],
          "name": "stdout"
        }
      ]
    },
    {
      "cell_type": "code",
      "metadata": {
        "id": "xLKXlOCIdxHc",
        "outputId": "34d06c60-f8c6-47ca-baf3-d64db4a038c6"
      },
      "source": [
        "import matplotlib.pyplot as plt\n",
        "f, axarr = plt.subplots(3,4)\n",
        "FIRST_IMAGE=0\n",
        "SECOND_IMAGE=7\n",
        "THIRD_IMAGE=26\n",
        "CONVOLUTION_NUMBER = 1\n",
        "from tensorflow.keras import models\n",
        "layer_outputs = [layer.output for layer in model.layers]\n",
        "activation_model = tf.keras.models.Model(inputs = model.input, outputs = layer_outputs)\n",
        "for x in range(0,4):\n",
        "  f1 = activation_model.predict(test_images[FIRST_IMAGE].reshape(1, 28, 28, 1))[x]\n",
        "  axarr[0,x].imshow(f1[0, : , :, CONVOLUTION_NUMBER], cmap='inferno')\n",
        "  axarr[0,x].grid(False)\n",
        "  f2 = activation_model.predict(test_images[SECOND_IMAGE].reshape(1, 28, 28, 1))[x]\n",
        "  axarr[1,x].imshow(f2[0, : , :, CONVOLUTION_NUMBER], cmap='inferno')\n",
        "  axarr[1,x].grid(False)\n",
        "  f3 = activation_model.predict(test_images[THIRD_IMAGE].reshape(1, 28, 28, 1))[x]\n",
        "  axarr[2,x].imshow(f3[0, : , :, CONVOLUTION_NUMBER], cmap='inferno')\n",
        "  axarr[2,x].grid(False)"
      ],
      "execution_count": null,
      "outputs": [
        {
          "output_type": "display_data",
          "data": {
            "image/png": "[encoded data removed]",
            "text/plain": [
              "<Figure size 432x288 with 12 Axes>"
            ]
          },
          "metadata": {
            "tags": [],
            "needs_background": "light"
          }
        }
      ]
    },
    {
      "cell_type": "code",
      "metadata": {
        "id": "URAcH4IUdxHe"
      },
      "source": [
        ""
      ],
      "execution_count": null,
      "outputs": []
    }
  ]
}