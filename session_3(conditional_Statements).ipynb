{
  "nbformat": 4,
  "nbformat_minor": 0,
  "metadata": {
    "kernelspec": {
      "display_name": "Python 3",
      "language": "python",
      "name": "python3"
    },
    "language_info": {
      "codemirror_mode": {
        "name": "ipython",
        "version": 3
      },
      "file_extension": ".py",
      "mimetype": "text/x-python",
      "name": "python",
      "nbconvert_exporter": "python",
      "pygments_lexer": "ipython3",
      "version": "3.7.3"
    },
    "colab": {
      "name": "session-3(conditional Statements).ipynb",
      "provenance": [],
      "include_colab_link": true
    }
  },
  "cells": [
    {
      "cell_type": "markdown",
      "metadata": {
        "id": "view-in-github",
        "colab_type": "text"
      },
      "source": [
        "<a href=\"https://colab.research.google.com/github/madhavjk/DataScience-ML_and_DL/blob/main/session_3(conditional_Statements).ipynb\" target=\"_parent\"><img src=\"https://colab.research.google.com/assets/colab-badge.svg\" alt=\"Open In Colab\"/></a>"
      ]
    },
    {
      "cell_type": "markdown",
      "metadata": {
        "id": "uIEJg7R1yjJP"
      },
      "source": [
        "# If Else"
      ]
    },
    {
      "cell_type": "code",
      "metadata": {
        "id": "iQU9fHicyjJQ",
        "outputId": "6a0ae4bf-2dd9-473e-8c9c-8ce2f9e3fa10"
      },
      "source": [
        "if True:\n",
        "    print(\"Hello\")"
      ],
      "execution_count": null,
      "outputs": [
        {
          "output_type": "stream",
          "text": [
            "Hello\n"
          ],
          "name": "stdout"
        }
      ]
    },
    {
      "cell_type": "code",
      "metadata": {
        "id": "WOKZe6mxyjJS"
      },
      "source": [
        "if False:\n",
        "    print(\"Hello\")"
      ],
      "execution_count": null,
      "outputs": []
    },
    {
      "cell_type": "code",
      "metadata": {
        "id": "j9viDRHPyjJT",
        "outputId": "6e8449d7-bfd6-4d61-b3db-315299ce5e5e"
      },
      "source": [
        "a = 3\n",
        "b = 5\n",
        "if a < b:\n",
        "    print(a)"
      ],
      "execution_count": null,
      "outputs": [
        {
          "output_type": "stream",
          "text": [
            "3\n"
          ],
          "name": "stdout"
        }
      ]
    },
    {
      "cell_type": "code",
      "metadata": {
        "id": "Pf63HlHayjJU"
      },
      "source": [
        "if a > b:\n",
        "    print(a)"
      ],
      "execution_count": null,
      "outputs": []
    },
    {
      "cell_type": "code",
      "metadata": {
        "id": "pWLnQ2wYyjJU",
        "outputId": "45afe495-fb1a-4248-90ae-8cedcc01a67a"
      },
      "source": [
        "if a > b:\n",
        "    print(a)\n",
        "else:\n",
        "    print(b)"
      ],
      "execution_count": null,
      "outputs": [
        {
          "output_type": "stream",
          "text": [
            "5\n"
          ],
          "name": "stdout"
        }
      ]
    },
    {
      "cell_type": "code",
      "metadata": {
        "id": "laQmSTVXyjJV",
        "outputId": "93ae2e81-bdb5-4201-a83d-fd3dcf3e04bc"
      },
      "source": [
        "name = \"Tom\"\n",
        "if name == \"John\":\n",
        "    print(\"Hello John\")\n",
        "else:\n",
        "    print(\"Hello Whoever it is\")"
      ],
      "execution_count": null,
      "outputs": [
        {
          "output_type": "stream",
          "text": [
            "Hello Whoever it is\n"
          ],
          "name": "stdout"
        }
      ]
    },
    {
      "cell_type": "code",
      "metadata": {
        "id": "gDdADMw4yjJW",
        "outputId": "7f5bed03-f972-43ba-fca1-6ebf6a381e61"
      },
      "source": [
        "name = \"Tom\"\n",
        "if name == \"John\":\n",
        "    print(\"Hello John\")\n",
        "elif name == \"Tom\":\n",
        "    print(\"Hello Tom\")\n",
        "elif name == \"Eric\":\n",
        "    print(\"Hello Eric\")\n",
        "else:\n",
        "    print(\"Hello Whoever it is\")"
      ],
      "execution_count": null,
      "outputs": [
        {
          "output_type": "stream",
          "text": [
            "Hello Tom\n"
          ],
          "name": "stdout"
        }
      ]
    },
    {
      "cell_type": "code",
      "metadata": {
        "id": "6KH98BApyjJZ"
      },
      "source": [
        "name = \"\"\n",
        "roll_no = 25\n",
        "if name == \"Tom\" and roll_no == 23:\n",
        "    print(\"Hi tom\")"
      ],
      "execution_count": null,
      "outputs": []
    },
    {
      "cell_type": "code",
      "metadata": {
        "id": "TbPJ-BOKyjJa",
        "outputId": "77b471d9-254f-4c68-80c2-2c94a3a4c120"
      },
      "source": [
        "if name == \"Tom\" or name == \"John\":\n",
        "    print(\"Welcome\")"
      ],
      "execution_count": null,
      "outputs": [
        {
          "output_type": "stream",
          "text": [
            "Welcome\n"
          ],
          "name": "stdout"
        }
      ]
    },
    {
      "cell_type": "code",
      "metadata": {
        "id": "kQNfYcuCyjJb",
        "outputId": "fd91f873-8541-4d22-c27e-843255b703c4"
      },
      "source": [
        "name = \"Tom\"\n",
        "password = 123\n",
        "if name == \"Tom\" and password == 123:\n",
        "    print(\"Access granted\")\n",
        "else:\n",
        "    print(\"Access denied\")"
      ],
      "execution_count": null,
      "outputs": [
        {
          "output_type": "stream",
          "text": [
            "Access granted\n"
          ],
          "name": "stdout"
        }
      ]
    },
    {
      "cell_type": "code",
      "metadata": {
        "id": "AAtO5kTfyjJc"
      },
      "source": [
        "if not True:\n",
        "    print(\"Hello\")"
      ],
      "execution_count": null,
      "outputs": []
    },
    {
      "cell_type": "code",
      "metadata": {
        "id": "bQAmkFKzyjJd",
        "outputId": "98eed0af-334b-423e-805d-2560cf85811c"
      },
      "source": [
        "username = \"ABC\"\n",
        "password = 123\n",
        "if username == \"ABC\" or username == \"XYZ\" and password == 123:\n",
        "    print(\"Access granted\")\n",
        "else:\n",
        "    print(\"Access denied\")"
      ],
      "execution_count": null,
      "outputs": [
        {
          "output_type": "stream",
          "text": [
            "Access granted\n"
          ],
          "name": "stdout"
        }
      ]
    },
    {
      "cell_type": "code",
      "metadata": {
        "id": "lIqoD8p1yjJd"
      },
      "source": [
        ""
      ],
      "execution_count": null,
      "outputs": []
    }
  ]
}