{
  "nbformat": 4,
  "nbformat_minor": 0,
  "metadata": {
    "kernelspec": {
      "display_name": "Python 3",
      "language": "python",
      "name": "python3"
    },
    "language_info": {
      "codemirror_mode": {
        "name": "ipython",
        "version": 3
      },
      "file_extension": ".py",
      "mimetype": "text/x-python",
      "name": "python",
      "nbconvert_exporter": "python",
      "pygments_lexer": "ipython3",
      "version": "3.7.3"
    },
    "colab": {
      "name": "SESSION 2 ( Python Data Types).ipynb",
      "provenance": [],
      "include_colab_link": true
    }
  },
  "cells": [
    {
      "cell_type": "markdown",
      "metadata": {
        "id": "view-in-github",
        "colab_type": "text"
      },
      "source": [
        "<a href=\"https://colab.research.google.com/github/madhavjk/DataScience-ML_and_DL/blob/main/SESSION_2_(_Python_Data_Types).ipynb\" target=\"_parent\"><img src=\"https://colab.research.google.com/assets/colab-badge.svg\" alt=\"Open In Colab\"/></a>"
      ]
    },
    {
      "cell_type": "markdown",
      "metadata": {
        "id": "xancW3Ozyg94"
      },
      "source": [
        "# Data Types In Python\n",
        "* **int** (for integer)\n",
        "* **float**\n",
        "* **str** (for string)\n",
        "* **list**\n",
        "* **tuple**\n",
        "* **dict** (for dictionary)\n",
        "* **set**\n",
        "* **bool** (for Boolean True/False)"
      ]
    },
    {
      "cell_type": "markdown",
      "metadata": {
        "id": "_YOChd2nyg95"
      },
      "source": [
        "## Dynamic Typing\n",
        "\n",
        "Python uses *dynamic typing*, meaning you can reassign variables to different data types. This makes Python very flexible in assigning data types; it differs from other languages that are *statically typed*."
      ]
    },
    {
      "cell_type": "code",
      "metadata": {
        "id": "afyGk56Uyg96"
      },
      "source": [
        "a = 2"
      ],
      "execution_count": null,
      "outputs": []
    },
    {
      "cell_type": "code",
      "metadata": {
        "id": "NWO1QcjYyg97",
        "outputId": "95c95a2f-4e3a-4646-9f7f-3940b1dd95c8"
      },
      "source": [
        "a"
      ],
      "execution_count": null,
      "outputs": [
        {
          "output_type": "execute_result",
          "data": {
            "text/plain": [
              "2"
            ]
          },
          "metadata": {
            "tags": []
          },
          "execution_count": 230
        }
      ]
    },
    {
      "cell_type": "code",
      "metadata": {
        "id": "YmUkGJsAyg99"
      },
      "source": [
        "a = \"Pawri Ho Rahi Hai\""
      ],
      "execution_count": null,
      "outputs": []
    },
    {
      "cell_type": "code",
      "metadata": {
        "id": "VzxbGsg8yg99",
        "outputId": "2590b3a9-a357-41d0-d403-08da0c182053"
      },
      "source": [
        "a"
      ],
      "execution_count": null,
      "outputs": [
        {
          "output_type": "execute_result",
          "data": {
            "text/plain": [
              "'Pawri Ho Rahi Hai'"
            ]
          },
          "metadata": {
            "tags": []
          },
          "execution_count": 232
        }
      ]
    },
    {
      "cell_type": "code",
      "metadata": {
        "id": "cSsZHZjNyg9-"
      },
      "source": [
        "a = [2,3]"
      ],
      "execution_count": null,
      "outputs": []
    },
    {
      "cell_type": "code",
      "metadata": {
        "id": "a-mLJrn-yg9_",
        "outputId": "e57ed5bf-ced5-46ed-992b-2710dfa07fbe"
      },
      "source": [
        "a"
      ],
      "execution_count": null,
      "outputs": [
        {
          "output_type": "execute_result",
          "data": {
            "text/plain": [
              "[2, 3]"
            ]
          },
          "metadata": {
            "tags": []
          },
          "execution_count": 234
        }
      ]
    },
    {
      "cell_type": "markdown",
      "metadata": {
        "id": "IJUMz8wsyg9_"
      },
      "source": [
        "### Pros and Cons of Dynamic Typing\n",
        "#### Pros of Dynamic Typing\n",
        "* very easy to work with\n",
        "* faster development time\n",
        "\n",
        "#### Cons of Dynamic Typing\n",
        "* may result in unexpected bugs!"
      ]
    },
    {
      "cell_type": "markdown",
      "metadata": {
        "id": "1SD_OT61yg-A"
      },
      "source": [
        "## Assigning Variables\n",
        "Variable assignment follows `name = object`, where a single equals sign `=` is an *assignment operator*"
      ]
    },
    {
      "cell_type": "code",
      "metadata": {
        "id": "z-b-DgpLyg-B"
      },
      "source": [
        "a = 5"
      ],
      "execution_count": null,
      "outputs": []
    },
    {
      "cell_type": "code",
      "metadata": {
        "id": "F1HEdqLCyg-B",
        "outputId": "2a1ca3e9-cb32-4342-84cd-7717724bc1a4"
      },
      "source": [
        "a"
      ],
      "execution_count": null,
      "outputs": [
        {
          "output_type": "execute_result",
          "data": {
            "text/plain": [
              "5"
            ]
          },
          "metadata": {
            "tags": []
          },
          "execution_count": 236
        }
      ]
    },
    {
      "cell_type": "code",
      "metadata": {
        "id": "awnvY6_Gyg-C"
      },
      "source": [
        "a = 10"
      ],
      "execution_count": null,
      "outputs": []
    },
    {
      "cell_type": "code",
      "metadata": {
        "id": "k-GCv0jMyg-C",
        "outputId": "3e59167d-ccb2-4743-bdad-34ca2968a179"
      },
      "source": [
        "a"
      ],
      "execution_count": null,
      "outputs": [
        {
          "output_type": "execute_result",
          "data": {
            "text/plain": [
              "10"
            ]
          },
          "metadata": {
            "tags": []
          },
          "execution_count": 238
        }
      ]
    },
    {
      "cell_type": "code",
      "metadata": {
        "id": "8vVAQQ5jyg-D",
        "outputId": "55c7081e-ed68-4efb-8daf-f6d9d1a00a85"
      },
      "source": [
        "a + a"
      ],
      "execution_count": null,
      "outputs": [
        {
          "output_type": "execute_result",
          "data": {
            "text/plain": [
              "20"
            ]
          },
          "metadata": {
            "tags": []
          },
          "execution_count": 239
        }
      ]
    },
    {
      "cell_type": "code",
      "metadata": {
        "id": "vyM3wIdVyg-E"
      },
      "source": [
        "a = a + 10"
      ],
      "execution_count": null,
      "outputs": []
    },
    {
      "cell_type": "code",
      "metadata": {
        "id": "cyuMUaIpyg-E",
        "outputId": "bb193142-5de6-45d3-c1df-c0246cb8414e"
      },
      "source": [
        "a"
      ],
      "execution_count": null,
      "outputs": [
        {
          "output_type": "execute_result",
          "data": {
            "text/plain": [
              "20"
            ]
          },
          "metadata": {
            "tags": []
          },
          "execution_count": 241
        }
      ]
    },
    {
      "cell_type": "code",
      "metadata": {
        "id": "QmbOYaNpyg-F"
      },
      "source": [
        "a += 10  # a = a + 10"
      ],
      "execution_count": null,
      "outputs": []
    },
    {
      "cell_type": "code",
      "metadata": {
        "id": "lLHE1D30yg-F",
        "outputId": "57161be4-9b5c-41f2-abe2-043f1e45feaf"
      },
      "source": [
        "a"
      ],
      "execution_count": null,
      "outputs": [
        {
          "output_type": "execute_result",
          "data": {
            "text/plain": [
              "30"
            ]
          },
          "metadata": {
            "tags": []
          },
          "execution_count": 243
        }
      ]
    },
    {
      "cell_type": "code",
      "metadata": {
        "id": "eZCyjrsjyg-G"
      },
      "source": [
        "a *= 2"
      ],
      "execution_count": null,
      "outputs": []
    },
    {
      "cell_type": "code",
      "metadata": {
        "id": "vhAi-HAvyg-G",
        "outputId": "00d3f3b8-d5c5-4730-d6fb-6228803f5a65"
      },
      "source": [
        "a"
      ],
      "execution_count": null,
      "outputs": [
        {
          "output_type": "execute_result",
          "data": {
            "text/plain": [
              "60"
            ]
          },
          "metadata": {
            "tags": []
          },
          "execution_count": 245
        }
      ]
    },
    {
      "cell_type": "code",
      "metadata": {
        "id": "QfnU2dC8yg-H",
        "outputId": "1df57731-2921-4c45-a730-42fd816e6394"
      },
      "source": [
        "type(a)"
      ],
      "execution_count": null,
      "outputs": [
        {
          "output_type": "execute_result",
          "data": {
            "text/plain": [
              "int"
            ]
          },
          "metadata": {
            "tags": []
          },
          "execution_count": 246
        }
      ]
    },
    {
      "cell_type": "code",
      "metadata": {
        "id": "jki6aiP1yg-H"
      },
      "source": [
        "a = (1,2)"
      ],
      "execution_count": null,
      "outputs": []
    },
    {
      "cell_type": "code",
      "metadata": {
        "id": "FU94yTvWyg-H",
        "outputId": "086099f8-593d-4143-a579-74c6ae421747"
      },
      "source": [
        "type(a)"
      ],
      "execution_count": null,
      "outputs": [
        {
          "output_type": "execute_result",
          "data": {
            "text/plain": [
              "tuple"
            ]
          },
          "metadata": {
            "tags": []
          },
          "execution_count": 248
        }
      ]
    },
    {
      "cell_type": "markdown",
      "metadata": {
        "id": "ffIzItchyg-I"
      },
      "source": [
        "# Numbers In Python"
      ]
    },
    {
      "cell_type": "code",
      "metadata": {
        "id": "MZUYhHoryg-I",
        "outputId": "cf36df6b-b3a9-4b65-9469-da74861ae1d8"
      },
      "source": [
        "a = 2\n",
        "type(a)"
      ],
      "execution_count": null,
      "outputs": [
        {
          "output_type": "execute_result",
          "data": {
            "text/plain": [
              "int"
            ]
          },
          "metadata": {
            "tags": []
          },
          "execution_count": 249
        }
      ]
    },
    {
      "cell_type": "code",
      "metadata": {
        "id": "kFGkTPHIyg-J",
        "outputId": "ae58d46f-33fe-41cb-bdcb-03dcf78af099"
      },
      "source": [
        "a = 2.0\n",
        "type(a)"
      ],
      "execution_count": null,
      "outputs": [
        {
          "output_type": "execute_result",
          "data": {
            "text/plain": [
              "float"
            ]
          },
          "metadata": {
            "tags": []
          },
          "execution_count": 250
        }
      ]
    },
    {
      "cell_type": "code",
      "metadata": {
        "id": "A5xMqWiLyg-J",
        "outputId": "103f8de7-731b-463f-a377-e0e05ea06677"
      },
      "source": [
        "# Addition\n",
        "a = 1 + 2\n",
        "a"
      ],
      "execution_count": null,
      "outputs": [
        {
          "output_type": "execute_result",
          "data": {
            "text/plain": [
              "3"
            ]
          },
          "metadata": {
            "tags": []
          },
          "execution_count": 251
        }
      ]
    },
    {
      "cell_type": "code",
      "metadata": {
        "id": "_jXLKN6Dyg-K"
      },
      "source": [
        "# Subtraction"
      ],
      "execution_count": null,
      "outputs": []
    },
    {
      "cell_type": "code",
      "metadata": {
        "id": "8z5RWzoUyg-K"
      },
      "source": [
        "# Multiplication"
      ],
      "execution_count": null,
      "outputs": []
    },
    {
      "cell_type": "code",
      "metadata": {
        "id": "VCV2EyFHyg-L",
        "outputId": "9535c8af-52ea-43fe-c7c0-6594da261005"
      },
      "source": [
        "# Power\n",
        "a = 2\n",
        "a = a ** 2\n",
        "a"
      ],
      "execution_count": null,
      "outputs": [
        {
          "output_type": "execute_result",
          "data": {
            "text/plain": [
              "4"
            ]
          },
          "metadata": {
            "tags": []
          },
          "execution_count": 254
        }
      ]
    },
    {
      "cell_type": "code",
      "metadata": {
        "id": "xWiumyklyg-L",
        "outputId": "60ab8903-d090-4165-b7c5-548bd12801f6"
      },
      "source": [
        "# Roots\n",
        "a = a ** 0.5\n",
        "a"
      ],
      "execution_count": null,
      "outputs": [
        {
          "output_type": "execute_result",
          "data": {
            "text/plain": [
              "2.0"
            ]
          },
          "metadata": {
            "tags": []
          },
          "execution_count": 255
        }
      ]
    },
    {
      "cell_type": "code",
      "metadata": {
        "id": "DNmeSEtyyg-M",
        "outputId": "3f5351b7-f64d-43cd-fdca-f97518043649"
      },
      "source": [
        "# Division\n",
        "a = 10\n",
        "a = a/2\n",
        "a"
      ],
      "execution_count": null,
      "outputs": [
        {
          "output_type": "execute_result",
          "data": {
            "text/plain": [
              "5.0"
            ]
          },
          "metadata": {
            "tags": []
          },
          "execution_count": 256
        }
      ]
    },
    {
      "cell_type": "code",
      "metadata": {
        "id": "nOubRkt2yg-M",
        "outputId": "372883fa-4bb5-42b1-8456-e279d3de5330"
      },
      "source": [
        "# Floor Division\n",
        "a = 10\n",
        "a = a//3\n",
        "a"
      ],
      "execution_count": null,
      "outputs": [
        {
          "output_type": "execute_result",
          "data": {
            "text/plain": [
              "3"
            ]
          },
          "metadata": {
            "tags": []
          },
          "execution_count": 257
        }
      ]
    },
    {
      "cell_type": "code",
      "metadata": {
        "id": "Fx0LkPKsyg-N",
        "outputId": "349fc3e3-d70d-439b-d4d7-020b5e9259dc"
      },
      "source": [
        "# Modulus Operation\n",
        "a = 10\n",
        "a = a%3\n",
        "a"
      ],
      "execution_count": null,
      "outputs": [
        {
          "output_type": "execute_result",
          "data": {
            "text/plain": [
              "1"
            ]
          },
          "metadata": {
            "tags": []
          },
          "execution_count": 258
        }
      ]
    },
    {
      "cell_type": "code",
      "metadata": {
        "id": "-H8D_BpUyg-N"
      },
      "source": [
        "# Shorthand Notation"
      ],
      "execution_count": null,
      "outputs": []
    },
    {
      "cell_type": "code",
      "metadata": {
        "id": "kpRo_KKcyg-O"
      },
      "source": [
        "a = 'Hello'"
      ],
      "execution_count": null,
      "outputs": []
    },
    {
      "cell_type": "code",
      "metadata": {
        "id": "sBxiw0zxyg-O",
        "outputId": "65ae687f-48af-4842-d68d-ad8f49654fdd"
      },
      "source": [
        "for i in a:\n",
        "    print(i)"
      ],
      "execution_count": null,
      "outputs": [
        {
          "output_type": "stream",
          "text": [
            "H\n",
            "e\n",
            "l\n",
            "l\n",
            "o\n"
          ],
          "name": "stdout"
        }
      ]
    },
    {
      "cell_type": "code",
      "metadata": {
        "id": "8NCL3tDPyg-R",
        "outputId": "3e8aa2d3-6bc6-4dbe-9863-d3e4ed327fac"
      },
      "source": [
        "a = [1,2,3]\n",
        "a"
      ],
      "execution_count": null,
      "outputs": [
        {
          "output_type": "execute_result",
          "data": {
            "text/plain": [
              "[1, 2, 3]"
            ]
          },
          "metadata": {
            "tags": []
          },
          "execution_count": 262
        }
      ]
    },
    {
      "cell_type": "code",
      "metadata": {
        "id": "f__cApKtyg-S",
        "outputId": "0a10e860-d6ca-4f74-dc70-a1aae27fd554"
      },
      "source": [
        "a[0] = 2\n",
        "a"
      ],
      "execution_count": null,
      "outputs": [
        {
          "output_type": "execute_result",
          "data": {
            "text/plain": [
              "[2, 2, 3]"
            ]
          },
          "metadata": {
            "tags": []
          },
          "execution_count": 263
        }
      ]
    },
    {
      "cell_type": "markdown",
      "metadata": {
        "id": "M31eFbEDyg-T"
      },
      "source": [
        "## Some Concepts to Remember\n",
        "### Mutable\n",
        "### Immutable\n",
        "### Sequences\n",
        "### Iterable\n",
        "### Non Iterable"
      ]
    },
    {
      "cell_type": "markdown",
      "metadata": {
        "id": "uy_fg9i2yg-T"
      },
      "source": [
        "# STRINGS"
      ]
    },
    {
      "cell_type": "code",
      "metadata": {
        "id": "JaMb7Pkxyg-U",
        "outputId": "7fb510bd-af46-4874-864e-570af026c8f7"
      },
      "source": [
        "# Single Quotes\n",
        "'Hello'"
      ],
      "execution_count": null,
      "outputs": [
        {
          "output_type": "execute_result",
          "data": {
            "text/plain": [
              "'Hello'"
            ]
          },
          "metadata": {
            "tags": []
          },
          "execution_count": 264
        }
      ]
    },
    {
      "cell_type": "code",
      "metadata": {
        "id": "m3H2R20Vyg-V"
      },
      "source": [
        "# Double Quotes"
      ],
      "execution_count": null,
      "outputs": []
    },
    {
      "cell_type": "code",
      "metadata": {
        "id": "o60WI3RQyg-W",
        "outputId": "59c3958b-645e-42a1-b10e-0e4810faa200"
      },
      "source": [
        "\"Hello\""
      ],
      "execution_count": null,
      "outputs": [
        {
          "output_type": "execute_result",
          "data": {
            "text/plain": [
              "'Hello'"
            ]
          },
          "metadata": {
            "tags": []
          },
          "execution_count": 266
        }
      ]
    },
    {
      "cell_type": "code",
      "metadata": {
        "id": "ypyRC5ikyg-W",
        "outputId": "ef1309f9-5b10-4d32-dcbc-b204398f62af"
      },
      "source": [
        "a = 'Hello'\n",
        "type(a)"
      ],
      "execution_count": null,
      "outputs": [
        {
          "output_type": "execute_result",
          "data": {
            "text/plain": [
              "str"
            ]
          },
          "metadata": {
            "tags": []
          },
          "execution_count": 267
        }
      ]
    },
    {
      "cell_type": "code",
      "metadata": {
        "id": "I24RlRcWyg-X",
        "outputId": "c3fd4975-448f-40ed-e5c4-f7869124be76"
      },
      "source": [
        "c = 'a'\n",
        "type(c)"
      ],
      "execution_count": null,
      "outputs": [
        {
          "output_type": "execute_result",
          "data": {
            "text/plain": [
              "str"
            ]
          },
          "metadata": {
            "tags": []
          },
          "execution_count": 268
        }
      ]
    },
    {
      "cell_type": "code",
      "metadata": {
        "id": "IhsPfSWRyg-X",
        "outputId": "c6e307a7-7f35-4d87-d2a8-eef4cc4eadfb"
      },
      "source": [
        "\"Mike's session\""
      ],
      "execution_count": null,
      "outputs": [
        {
          "output_type": "execute_result",
          "data": {
            "text/plain": [
              "\"Mike's session\""
            ]
          },
          "metadata": {
            "tags": []
          },
          "execution_count": 269
        }
      ]
    },
    {
      "cell_type": "markdown",
      "metadata": {
        "id": "X3-LUxnRyg-Y"
      },
      "source": [
        "## String Indexing"
      ]
    },
    {
      "cell_type": "code",
      "metadata": {
        "id": "O5JjlxRRyg-Y",
        "outputId": "57030f65-812d-4620-da1b-534ed88b578d"
      },
      "source": [
        "a = 'Hello World'\n",
        "a"
      ],
      "execution_count": null,
      "outputs": [
        {
          "output_type": "execute_result",
          "data": {
            "text/plain": [
              "'Hello World'"
            ]
          },
          "metadata": {
            "tags": []
          },
          "execution_count": 270
        }
      ]
    },
    {
      "cell_type": "code",
      "metadata": {
        "id": "Y677nwBUyg-Y",
        "outputId": "49913e4c-4f15-4ee3-ce90-fd5b581dac06"
      },
      "source": [
        "a[0]"
      ],
      "execution_count": null,
      "outputs": [
        {
          "output_type": "execute_result",
          "data": {
            "text/plain": [
              "'H'"
            ]
          },
          "metadata": {
            "tags": []
          },
          "execution_count": 271
        }
      ]
    },
    {
      "cell_type": "code",
      "metadata": {
        "id": "9r7OVoRpyg-Z",
        "outputId": "0f8883f1-5e3f-4e1d-94a3-3850eaa1d5b4"
      },
      "source": [
        "a[3]"
      ],
      "execution_count": null,
      "outputs": [
        {
          "output_type": "execute_result",
          "data": {
            "text/plain": [
              "'l'"
            ]
          },
          "metadata": {
            "tags": []
          },
          "execution_count": 272
        }
      ]
    },
    {
      "cell_type": "code",
      "metadata": {
        "id": "DG-WuKggyg-Z",
        "outputId": "d5fb28fc-ad66-42cb-e1e4-2f689b5a3ff3"
      },
      "source": [
        "a[-1]    #Reverse Indexing"
      ],
      "execution_count": null,
      "outputs": [
        {
          "output_type": "execute_result",
          "data": {
            "text/plain": [
              "'d'"
            ]
          },
          "metadata": {
            "tags": []
          },
          "execution_count": 273
        }
      ]
    },
    {
      "cell_type": "code",
      "metadata": {
        "id": "MVJ3F78vyg-a",
        "outputId": "a67b10f9-159d-45a4-a796-22f91b6f34e4"
      },
      "source": [
        "a[-2]"
      ],
      "execution_count": null,
      "outputs": [
        {
          "output_type": "execute_result",
          "data": {
            "text/plain": [
              "'l'"
            ]
          },
          "metadata": {
            "tags": []
          },
          "execution_count": 274
        }
      ]
    },
    {
      "cell_type": "markdown",
      "metadata": {
        "id": "7cm5Z7wXyg-a"
      },
      "source": [
        "## String Slicing"
      ]
    },
    {
      "cell_type": "code",
      "metadata": {
        "id": "tH_LcKYtyg-a",
        "outputId": "e5ab4185-0b9c-46e2-8d10-dfbbbac4304d"
      },
      "source": [
        "a = \"Hello World\"\n",
        "a"
      ],
      "execution_count": null,
      "outputs": [
        {
          "output_type": "execute_result",
          "data": {
            "text/plain": [
              "'Hello World'"
            ]
          },
          "metadata": {
            "tags": []
          },
          "execution_count": 275
        }
      ]
    },
    {
      "cell_type": "code",
      "metadata": {
        "id": "3fY3S9NLyg-b",
        "outputId": "ae0b50fa-d949-47f4-cd27-e71050135753"
      },
      "source": [
        "a[0:4]"
      ],
      "execution_count": null,
      "outputs": [
        {
          "output_type": "execute_result",
          "data": {
            "text/plain": [
              "'Hell'"
            ]
          },
          "metadata": {
            "tags": []
          },
          "execution_count": 276
        }
      ]
    },
    {
      "cell_type": "code",
      "metadata": {
        "id": "zDaAFmHVyg-b",
        "outputId": "c75e9c00-a31f-4c01-8b29-72040170e2d6"
      },
      "source": [
        "a[0:10:2]"
      ],
      "execution_count": null,
      "outputs": [
        {
          "output_type": "execute_result",
          "data": {
            "text/plain": [
              "'HloWr'"
            ]
          },
          "metadata": {
            "tags": []
          },
          "execution_count": 277
        }
      ]
    },
    {
      "cell_type": "code",
      "metadata": {
        "id": "cy65w_7nyg-b",
        "outputId": "a45a1333-061d-47bb-c9c7-19d66b2b44f2"
      },
      "source": [
        "a[10::-1]"
      ],
      "execution_count": null,
      "outputs": [
        {
          "output_type": "execute_result",
          "data": {
            "text/plain": [
              "'dlroW olleH'"
            ]
          },
          "metadata": {
            "tags": []
          },
          "execution_count": 278
        }
      ]
    },
    {
      "cell_type": "code",
      "metadata": {
        "id": "W-SZRx_Gyg-c",
        "outputId": "fda2893d-4a71-436e-8e09-b41213ca296f"
      },
      "source": [
        "a[:]"
      ],
      "execution_count": null,
      "outputs": [
        {
          "output_type": "execute_result",
          "data": {
            "text/plain": [
              "'Hello World'"
            ]
          },
          "metadata": {
            "tags": []
          },
          "execution_count": 279
        }
      ]
    },
    {
      "cell_type": "code",
      "metadata": {
        "id": "n0ep8zVKyg-c",
        "outputId": "b1b5a12a-0dd6-49c7-b094-1018b793e3fb"
      },
      "source": [
        "a[10:-1:-1]"
      ],
      "execution_count": null,
      "outputs": [
        {
          "output_type": "execute_result",
          "data": {
            "text/plain": [
              "''"
            ]
          },
          "metadata": {
            "tags": []
          },
          "execution_count": 280
        }
      ]
    },
    {
      "cell_type": "code",
      "metadata": {
        "id": "spk2FBgwyg-d",
        "outputId": "dbf4bc11-09e2-4404-8e56-39e2fcb52322"
      },
      "source": [
        "a[::-1]"
      ],
      "execution_count": null,
      "outputs": [
        {
          "output_type": "execute_result",
          "data": {
            "text/plain": [
              "'dlroW olleH'"
            ]
          },
          "metadata": {
            "tags": []
          },
          "execution_count": 281
        }
      ]
    },
    {
      "cell_type": "code",
      "metadata": {
        "id": "kjaK6xkLyg-d",
        "outputId": "8f74d25e-35e1-46d9-f430-86738ab80dbf"
      },
      "source": [
        "a[-1:]"
      ],
      "execution_count": null,
      "outputs": [
        {
          "output_type": "execute_result",
          "data": {
            "text/plain": [
              "'d'"
            ]
          },
          "metadata": {
            "tags": []
          },
          "execution_count": 282
        }
      ]
    },
    {
      "cell_type": "code",
      "metadata": {
        "id": "76QxZ1ahyg-d",
        "outputId": "a33fa879-5827-4ab5-8249-4e596d8705ba"
      },
      "source": [
        "b = ' I am Utkarsh'\n",
        "a+b"
      ],
      "execution_count": null,
      "outputs": [
        {
          "output_type": "execute_result",
          "data": {
            "text/plain": [
              "'Hello World I am Utkarsh'"
            ]
          },
          "metadata": {
            "tags": []
          },
          "execution_count": 283
        }
      ]
    },
    {
      "cell_type": "code",
      "metadata": {
        "id": "XgdDSWuEyg-e",
        "outputId": "b8a9b2b5-0ad6-47ad-fc16-231471c4438a"
      },
      "source": [
        "a * 2"
      ],
      "execution_count": null,
      "outputs": [
        {
          "output_type": "execute_result",
          "data": {
            "text/plain": [
              "'Hello WorldHello World'"
            ]
          },
          "metadata": {
            "tags": []
          },
          "execution_count": 284
        }
      ]
    },
    {
      "cell_type": "markdown",
      "metadata": {
        "id": "t7Ijl4-1yg-e"
      },
      "source": [
        "## String Functions"
      ]
    },
    {
      "cell_type": "code",
      "metadata": {
        "id": "K6S0zqvwyg-e",
        "outputId": "36403425-49b9-4c69-8c40-85f904660231"
      },
      "source": [
        "len(a)"
      ],
      "execution_count": null,
      "outputs": [
        {
          "output_type": "execute_result",
          "data": {
            "text/plain": [
              "11"
            ]
          },
          "metadata": {
            "tags": []
          },
          "execution_count": 285
        }
      ]
    },
    {
      "cell_type": "code",
      "metadata": {
        "id": "doxS-cySyg-e",
        "outputId": "aa6c6fe5-ea65-4939-8828-7b0d94442d61"
      },
      "source": [
        "a.split()"
      ],
      "execution_count": null,
      "outputs": [
        {
          "output_type": "execute_result",
          "data": {
            "text/plain": [
              "['hello', 'world']"
            ]
          },
          "metadata": {
            "tags": []
          },
          "execution_count": 339
        }
      ]
    },
    {
      "cell_type": "code",
      "metadata": {
        "id": "KVp1gRnLyg-f",
        "outputId": "25474fec-5bec-4ae2-f30e-ca10cdbfb15d"
      },
      "source": [
        "a.split('o')"
      ],
      "execution_count": null,
      "outputs": [
        {
          "output_type": "execute_result",
          "data": {
            "text/plain": [
              "['hell', ' w', 'rld']"
            ]
          },
          "metadata": {
            "tags": []
          },
          "execution_count": 338
        }
      ]
    },
    {
      "cell_type": "code",
      "metadata": {
        "id": "0UPoZ_Rgyg-f",
        "outputId": "8a3d3c52-e27b-46bf-d9b1-71254a4836b8"
      },
      "source": [
        "a.lower()"
      ],
      "execution_count": null,
      "outputs": [
        {
          "output_type": "execute_result",
          "data": {
            "text/plain": [
              "'hello world'"
            ]
          },
          "metadata": {
            "tags": []
          },
          "execution_count": 288
        }
      ]
    },
    {
      "cell_type": "code",
      "metadata": {
        "id": "XHvGUAUKyg-f",
        "outputId": "2bc5733c-71dd-4468-a64c-9dfaddd0a5ba"
      },
      "source": [
        "a.upper()"
      ],
      "execution_count": null,
      "outputs": [
        {
          "output_type": "execute_result",
          "data": {
            "text/plain": [
              "'HELLO WORLD'"
            ]
          },
          "metadata": {
            "tags": []
          },
          "execution_count": 289
        }
      ]
    },
    {
      "cell_type": "code",
      "metadata": {
        "id": "O3vhAeckyg-g",
        "outputId": "1e9e70b0-8417-4491-e68d-51bec2fe3887"
      },
      "source": [
        "a"
      ],
      "execution_count": null,
      "outputs": [
        {
          "output_type": "execute_result",
          "data": {
            "text/plain": [
              "'Hello World'"
            ]
          },
          "metadata": {
            "tags": []
          },
          "execution_count": 290
        }
      ]
    },
    {
      "cell_type": "code",
      "metadata": {
        "id": "mTYpRf4iyg-g",
        "outputId": "90fd7048-a397-4f19-d008-3b7b17a7632e"
      },
      "source": [
        "a = a.upper()\n",
        "a"
      ],
      "execution_count": null,
      "outputs": [
        {
          "output_type": "execute_result",
          "data": {
            "text/plain": [
              "'HELLO WORLD'"
            ]
          },
          "metadata": {
            "tags": []
          },
          "execution_count": 291
        }
      ]
    },
    {
      "cell_type": "code",
      "metadata": {
        "id": "1YcLK5-5yg-g",
        "outputId": "d2fc69ee-8ed9-40b3-ae30-8a614ab59124"
      },
      "source": [
        "a = a.lower()\n",
        "a"
      ],
      "execution_count": null,
      "outputs": [
        {
          "output_type": "execute_result",
          "data": {
            "text/plain": [
              "'hello world'"
            ]
          },
          "metadata": {
            "tags": []
          },
          "execution_count": 292
        }
      ]
    },
    {
      "cell_type": "code",
      "metadata": {
        "id": "cqKGstO0yg-h",
        "outputId": "8454086f-4c22-49d0-d441-56aa2e97b8f1"
      },
      "source": [
        "a.capitalize()"
      ],
      "execution_count": null,
      "outputs": [
        {
          "output_type": "execute_result",
          "data": {
            "text/plain": [
              "'Hello world'"
            ]
          },
          "metadata": {
            "tags": []
          },
          "execution_count": 340
        }
      ]
    },
    {
      "cell_type": "code",
      "metadata": {
        "id": "wTQZ-H2lyg-h",
        "outputId": "fed997ff-2c5b-4bf8-82f8-b37643ae93e8"
      },
      "source": [
        "a.count('o')"
      ],
      "execution_count": null,
      "outputs": [
        {
          "output_type": "execute_result",
          "data": {
            "text/plain": [
              "2"
            ]
          },
          "metadata": {
            "tags": []
          },
          "execution_count": 341
        }
      ]
    },
    {
      "cell_type": "code",
      "metadata": {
        "id": "j2lVENVTyg-h",
        "outputId": "96399d4c-01f0-4dd8-8b6a-14c85d9eb99a"
      },
      "source": [
        "a.endswith('a')"
      ],
      "execution_count": null,
      "outputs": [
        {
          "output_type": "execute_result",
          "data": {
            "text/plain": [
              "False"
            ]
          },
          "metadata": {
            "tags": []
          },
          "execution_count": 342
        }
      ]
    },
    {
      "cell_type": "code",
      "metadata": {
        "id": "YwVl0zaHyg-i",
        "outputId": "31995227-7f49-4a65-aba5-4dd46e486e5f"
      },
      "source": [
        "a.endswith('d')"
      ],
      "execution_count": null,
      "outputs": [
        {
          "output_type": "execute_result",
          "data": {
            "text/plain": [
              "True"
            ]
          },
          "metadata": {
            "tags": []
          },
          "execution_count": 343
        }
      ]
    },
    {
      "cell_type": "code",
      "metadata": {
        "id": "kSQxqNq1yg-i",
        "outputId": "c0ff9b6a-2e57-4e7f-d4c7-2811ac5c72c1"
      },
      "source": [
        "a.find('wo')"
      ],
      "execution_count": null,
      "outputs": [
        {
          "output_type": "execute_result",
          "data": {
            "text/plain": [
              "6"
            ]
          },
          "metadata": {
            "tags": []
          },
          "execution_count": 344
        }
      ]
    },
    {
      "cell_type": "code",
      "metadata": {
        "id": "V6M7nU2zyg-i",
        "outputId": "68d74edf-7e9f-456e-f28d-2945b3440bac"
      },
      "source": [
        "a.isalpha()"
      ],
      "execution_count": null,
      "outputs": [
        {
          "output_type": "execute_result",
          "data": {
            "text/plain": [
              "False"
            ]
          },
          "metadata": {
            "tags": []
          },
          "execution_count": 345
        }
      ]
    },
    {
      "cell_type": "code",
      "metadata": {
        "id": "P75-OKlvyg-j",
        "outputId": "af5dc69e-4e33-4f66-9761-b4c52911aee1"
      },
      "source": [
        "b = 'abcd'\n",
        "b.isalpha()"
      ],
      "execution_count": null,
      "outputs": [
        {
          "output_type": "execute_result",
          "data": {
            "text/plain": [
              "True"
            ]
          },
          "metadata": {
            "tags": []
          },
          "execution_count": 346
        }
      ]
    },
    {
      "cell_type": "code",
      "metadata": {
        "id": "AOzABp2Vyg-j",
        "outputId": "f16acb20-7be3-4f7b-d740-a43092c5f53d"
      },
      "source": [
        "c = '123'\n",
        "c.isnumeric()"
      ],
      "execution_count": null,
      "outputs": [
        {
          "output_type": "execute_result",
          "data": {
            "text/plain": [
              "True"
            ]
          },
          "metadata": {
            "tags": []
          },
          "execution_count": 347
        }
      ]
    },
    {
      "cell_type": "code",
      "metadata": {
        "id": "ED189vRKyg-j",
        "outputId": "9d174416-15d0-482f-842c-8ccc172a70cc"
      },
      "source": [
        "a"
      ],
      "execution_count": null,
      "outputs": [
        {
          "output_type": "execute_result",
          "data": {
            "text/plain": [
              "'hello world'"
            ]
          },
          "metadata": {
            "tags": []
          },
          "execution_count": 348
        }
      ]
    },
    {
      "cell_type": "code",
      "metadata": {
        "id": "n2kTPItuyg-k",
        "outputId": "ecc4986f-790f-4c98-cf18-3dd76acac4a6"
      },
      "source": [
        "a.title()"
      ],
      "execution_count": null,
      "outputs": [
        {
          "output_type": "execute_result",
          "data": {
            "text/plain": [
              "'Hello World'"
            ]
          },
          "metadata": {
            "tags": []
          },
          "execution_count": 349
        }
      ]
    },
    {
      "cell_type": "code",
      "metadata": {
        "id": "NH2A3dY_yg-k",
        "outputId": "91fc4b55-a635-4a56-882f-1342f37cadc4"
      },
      "source": [
        "a.replace('world','everyone')"
      ],
      "execution_count": null,
      "outputs": [
        {
          "output_type": "execute_result",
          "data": {
            "text/plain": [
              "'hello everyone'"
            ]
          },
          "metadata": {
            "tags": []
          },
          "execution_count": 350
        }
      ]
    },
    {
      "cell_type": "markdown",
      "metadata": {
        "id": "jxXpYBRXyg-m"
      },
      "source": [
        "# Lists"
      ]
    },
    {
      "cell_type": "code",
      "metadata": {
        "id": "ZSqt0Mfmyg-m",
        "outputId": "c29700f4-aaeb-45bf-c531-675a4d23bdc7"
      },
      "source": [
        "list1 = [1,2,3]\n",
        "list1"
      ],
      "execution_count": null,
      "outputs": [
        {
          "output_type": "execute_result",
          "data": {
            "text/plain": [
              "[1, 2, 3]"
            ]
          },
          "metadata": {
            "tags": []
          },
          "execution_count": 351
        }
      ]
    },
    {
      "cell_type": "code",
      "metadata": {
        "id": "Fz--Tzslyg-n",
        "outputId": "40592fd5-0b3d-4cde-938b-79753f9acfec"
      },
      "source": [
        "list1[0] = 5\n",
        "list1"
      ],
      "execution_count": null,
      "outputs": [
        {
          "output_type": "execute_result",
          "data": {
            "text/plain": [
              "[5, 2, 3]"
            ]
          },
          "metadata": {
            "tags": []
          },
          "execution_count": 357
        }
      ]
    },
    {
      "cell_type": "code",
      "metadata": {
        "id": "MG9OXSBSyg-n",
        "outputId": "fd2f0d9f-943d-4814-80a7-7ba66e18ce3d"
      },
      "source": [
        "list2 = ['a', 'hello', 'world']\n",
        "list2"
      ],
      "execution_count": null,
      "outputs": [
        {
          "output_type": "execute_result",
          "data": {
            "text/plain": [
              "['a', 'hello', 'world']"
            ]
          },
          "metadata": {
            "tags": []
          },
          "execution_count": 352
        }
      ]
    },
    {
      "cell_type": "code",
      "metadata": {
        "id": "egclZdi_yg-o",
        "outputId": "70199308-fe53-4bba-a919-182bfed8ac65"
      },
      "source": [
        "list3 = ['a', 1 ,2, 'abc']\n",
        "list3"
      ],
      "execution_count": null,
      "outputs": [
        {
          "output_type": "execute_result",
          "data": {
            "text/plain": [
              "['a', 1, 2, 'abc']"
            ]
          },
          "metadata": {
            "tags": []
          },
          "execution_count": 353
        }
      ]
    },
    {
      "cell_type": "code",
      "metadata": {
        "id": "-ATimZjjyg-o",
        "outputId": "664462e1-a967-4cab-e6ca-e28e60573b07"
      },
      "source": [
        "list1 + list2"
      ],
      "execution_count": null,
      "outputs": [
        {
          "output_type": "execute_result",
          "data": {
            "text/plain": [
              "[1, 2, 3, 'a', 'hello', 'world']"
            ]
          },
          "metadata": {
            "tags": []
          },
          "execution_count": 354
        }
      ]
    },
    {
      "cell_type": "code",
      "metadata": {
        "id": "Jx7WtPZ5yg-p",
        "outputId": "1d89c98e-979d-41a1-91e0-d47087615108"
      },
      "source": [
        "list1 * 2"
      ],
      "execution_count": null,
      "outputs": [
        {
          "output_type": "execute_result",
          "data": {
            "text/plain": [
              "[1, 2, 3, 1, 2, 3]"
            ]
          },
          "metadata": {
            "tags": []
          },
          "execution_count": 355
        }
      ]
    },
    {
      "cell_type": "code",
      "metadata": {
        "id": "khc98Prhyg-p",
        "outputId": "6d590a6a-f178-4f8e-e1fe-81ed2ba8aefe"
      },
      "source": [
        "list1 + [2]"
      ],
      "execution_count": null,
      "outputs": [
        {
          "output_type": "execute_result",
          "data": {
            "text/plain": [
              "[1, 2, 3, 2]"
            ]
          },
          "metadata": {
            "tags": []
          },
          "execution_count": 309
        }
      ]
    },
    {
      "cell_type": "code",
      "metadata": {
        "id": "UMNAdworyg-p",
        "outputId": "86482fa4-b14b-4fe3-a3a2-e10fe70a6826"
      },
      "source": [
        "list1 = [1,2,3,'abc', {1 : 'abc'}, (1,2)]\n",
        "list1"
      ],
      "execution_count": null,
      "outputs": [
        {
          "output_type": "execute_result",
          "data": {
            "text/plain": [
              "[1, 2, 3, 'abc', {1: 'abc'}, (1, 2)]"
            ]
          },
          "metadata": {
            "tags": []
          },
          "execution_count": 421
        }
      ]
    },
    {
      "cell_type": "code",
      "metadata": {
        "id": "PBNh-eRYyg-q",
        "outputId": "6d05b272-9c8a-45f8-9c28-fa44169a8e44"
      },
      "source": [
        "list1[4][1]"
      ],
      "execution_count": null,
      "outputs": [
        {
          "output_type": "execute_result",
          "data": {
            "text/plain": [
              "'abc'"
            ]
          },
          "metadata": {
            "tags": []
          },
          "execution_count": 423
        }
      ]
    },
    {
      "cell_type": "markdown",
      "metadata": {
        "id": "svo9rS8eyg-q"
      },
      "source": [
        "## Indexing"
      ]
    },
    {
      "cell_type": "code",
      "metadata": {
        "id": "lzT1Knpayg-r",
        "outputId": "6a3186bd-cf73-4bbe-b00d-2287da5f8896"
      },
      "source": [
        "list1 = [1,2,3,4,5]\n",
        "list1"
      ],
      "execution_count": null,
      "outputs": [
        {
          "output_type": "execute_result",
          "data": {
            "text/plain": [
              "[1, 2, 3, 4, 5]"
            ]
          },
          "metadata": {
            "tags": []
          },
          "execution_count": 358
        }
      ]
    },
    {
      "cell_type": "code",
      "metadata": {
        "id": "W5IBzL-lyg-r",
        "outputId": "8300ff90-1124-494a-bf26-fe85cb84a718"
      },
      "source": [
        "list1[0]"
      ],
      "execution_count": null,
      "outputs": [
        {
          "output_type": "execute_result",
          "data": {
            "text/plain": [
              "1"
            ]
          },
          "metadata": {
            "tags": []
          },
          "execution_count": 359
        }
      ]
    },
    {
      "cell_type": "code",
      "metadata": {
        "id": "elk31C-vyg-r",
        "outputId": "4ba6ab05-d7b9-4d22-bfb7-92f6a6b2b119"
      },
      "source": [
        "list1[-1]"
      ],
      "execution_count": null,
      "outputs": [
        {
          "output_type": "execute_result",
          "data": {
            "text/plain": [
              "5"
            ]
          },
          "metadata": {
            "tags": []
          },
          "execution_count": 360
        }
      ]
    },
    {
      "cell_type": "markdown",
      "metadata": {
        "id": "zPZ0GFQCyg-s"
      },
      "source": [
        "## Slicing"
      ]
    },
    {
      "cell_type": "code",
      "metadata": {
        "id": "Mz7EOqlqyg-s",
        "outputId": "5eb25a5c-fcb9-42ef-c6f5-7d4b472f2a1f"
      },
      "source": [
        "list1[0:4]"
      ],
      "execution_count": null,
      "outputs": [
        {
          "output_type": "execute_result",
          "data": {
            "text/plain": [
              "[1, 2, 3, 4]"
            ]
          },
          "metadata": {
            "tags": []
          },
          "execution_count": 361
        }
      ]
    },
    {
      "cell_type": "code",
      "metadata": {
        "id": "CCFx2o5iyg-s",
        "outputId": "12be8bbe-bcfd-49d2-81b1-b87759e71960"
      },
      "source": [
        "list1[:]"
      ],
      "execution_count": null,
      "outputs": [
        {
          "output_type": "execute_result",
          "data": {
            "text/plain": [
              "[1, 2, 3, 4, 5]"
            ]
          },
          "metadata": {
            "tags": []
          },
          "execution_count": 362
        }
      ]
    },
    {
      "cell_type": "code",
      "metadata": {
        "id": "bdx3nyltyg-s",
        "outputId": "10e10449-8597-4a41-a436-1c90d9fff231"
      },
      "source": [
        "list1[::-1]"
      ],
      "execution_count": null,
      "outputs": [
        {
          "output_type": "execute_result",
          "data": {
            "text/plain": [
              "[5, 4, 3, 2, 1]"
            ]
          },
          "metadata": {
            "tags": []
          },
          "execution_count": 363
        }
      ]
    },
    {
      "cell_type": "markdown",
      "metadata": {
        "id": "Ns4FSeIayg-u"
      },
      "source": [
        "## Nested Lists"
      ]
    },
    {
      "cell_type": "code",
      "metadata": {
        "id": "NfnvjnGDyg-u"
      },
      "source": [
        "list1 = [1,2,3]\n",
        "list2 = [4,5,6]\n",
        "list3 = [7,8,9]\n",
        "list4 = [list1, list2, list3]"
      ],
      "execution_count": null,
      "outputs": []
    },
    {
      "cell_type": "code",
      "metadata": {
        "id": "FSBhbP2Lyg-v",
        "outputId": "151e25e4-b9f2-4f19-a7ec-86166091590c"
      },
      "source": [
        "list4"
      ],
      "execution_count": null,
      "outputs": [
        {
          "output_type": "execute_result",
          "data": {
            "text/plain": [
              "[[1, 2, 3], [4, 5, 6], [7, 8, 9]]"
            ]
          },
          "metadata": {
            "tags": []
          },
          "execution_count": 365
        }
      ]
    },
    {
      "cell_type": "code",
      "metadata": {
        "id": "ry7FwduFyg-v",
        "outputId": "0a29afd8-0fab-43cd-ac0a-7741744700b2"
      },
      "source": [
        "list4[0]"
      ],
      "execution_count": null,
      "outputs": [
        {
          "output_type": "execute_result",
          "data": {
            "text/plain": [
              "[1, 2, 3]"
            ]
          },
          "metadata": {
            "tags": []
          },
          "execution_count": 366
        }
      ]
    },
    {
      "cell_type": "code",
      "metadata": {
        "id": "A14yKIh3yg-v",
        "outputId": "3a20dca9-1cac-433e-f9a9-9b86d25b059a"
      },
      "source": [
        "list4[-1]"
      ],
      "execution_count": null,
      "outputs": [
        {
          "output_type": "execute_result",
          "data": {
            "text/plain": [
              "[7, 8, 9]"
            ]
          },
          "metadata": {
            "tags": []
          },
          "execution_count": 367
        }
      ]
    },
    {
      "cell_type": "code",
      "metadata": {
        "id": "-DBaPH5uyg-v",
        "outputId": "a17c3c59-bafb-4587-bc84-c007a0f96812"
      },
      "source": [
        "list4[0][0]"
      ],
      "execution_count": null,
      "outputs": [
        {
          "output_type": "execute_result",
          "data": {
            "text/plain": [
              "1"
            ]
          },
          "metadata": {
            "tags": []
          },
          "execution_count": 368
        }
      ]
    },
    {
      "cell_type": "code",
      "metadata": {
        "id": "2MZ1L89Byg-w",
        "outputId": "262ed01d-888d-4e30-c156-45205a386fa2"
      },
      "source": [
        "list4[2][1]"
      ],
      "execution_count": null,
      "outputs": [
        {
          "output_type": "execute_result",
          "data": {
            "text/plain": [
              "8"
            ]
          },
          "metadata": {
            "tags": []
          },
          "execution_count": 369
        }
      ]
    },
    {
      "cell_type": "code",
      "metadata": {
        "id": "qdYT9ZI3yg-w",
        "outputId": "619df023-7e26-4318-ce5e-46b63b0b3752"
      },
      "source": [
        "list4[0:2]"
      ],
      "execution_count": null,
      "outputs": [
        {
          "output_type": "execute_result",
          "data": {
            "text/plain": [
              "[[1, 2, 3], [4, 5, 6]]"
            ]
          },
          "metadata": {
            "tags": []
          },
          "execution_count": 370
        }
      ]
    },
    {
      "cell_type": "code",
      "metadata": {
        "id": "VKg_rH5Tyg-w",
        "outputId": "60788853-af95-4080-938b-2150f149f684"
      },
      "source": [
        "list5 = [2,3,[6,7]]\n",
        "list5"
      ],
      "execution_count": null,
      "outputs": [
        {
          "output_type": "execute_result",
          "data": {
            "text/plain": [
              "[2, 3, [6, 7]]"
            ]
          },
          "metadata": {
            "tags": []
          },
          "execution_count": 371
        }
      ]
    },
    {
      "cell_type": "code",
      "metadata": {
        "id": "uw0kieXdyg-x",
        "outputId": "5f56bd3e-4f13-4771-f2bd-f4e7256c5c94"
      },
      "source": [
        "list6 = [list1, list5]\n",
        "list6"
      ],
      "execution_count": null,
      "outputs": [
        {
          "output_type": "execute_result",
          "data": {
            "text/plain": [
              "[[1, 2, 3], [2, 3, [6, 7]]]"
            ]
          },
          "metadata": {
            "tags": []
          },
          "execution_count": 372
        }
      ]
    },
    {
      "cell_type": "code",
      "metadata": {
        "id": "61CZGY5Ayg-x",
        "outputId": "b5745481-9ce8-4b6b-9a3a-8d4b6c3cd216"
      },
      "source": [
        "list6[1][2][-1]"
      ],
      "execution_count": null,
      "outputs": [
        {
          "output_type": "execute_result",
          "data": {
            "text/plain": [
              "7"
            ]
          },
          "metadata": {
            "tags": []
          },
          "execution_count": 375
        }
      ]
    },
    {
      "cell_type": "code",
      "metadata": {
        "id": "5g_lvHflyg-x",
        "outputId": "1d630955-281b-4985-eeab-5e813304f6ac"
      },
      "source": [
        "l1 = [1,2,3]\n",
        "l2 = [4,[5,6]]\n",
        "l3 = [7,[8,[9,10]]]\n",
        "l4 = [l1,l2,l3]\n",
        "l4"
      ],
      "execution_count": null,
      "outputs": [
        {
          "output_type": "execute_result",
          "data": {
            "text/plain": [
              "[[1, 2, 3], [4, [5, 6]], [7, [8, [9, 10]]]]"
            ]
          },
          "metadata": {
            "tags": []
          },
          "execution_count": 424
        }
      ]
    },
    {
      "cell_type": "code",
      "metadata": {
        "id": "wZ1pDXbryg-x",
        "outputId": "d6e72798-ed0b-4e5f-b34d-a7ca28cc81a6"
      },
      "source": [
        "l4[-1][-1][-1][-1]"
      ],
      "execution_count": null,
      "outputs": [
        {
          "output_type": "execute_result",
          "data": {
            "text/plain": [
              "10"
            ]
          },
          "metadata": {
            "tags": []
          },
          "execution_count": 431
        }
      ]
    },
    {
      "cell_type": "markdown",
      "metadata": {
        "id": "6dpHoN6Hyg-y"
      },
      "source": [
        "## List Methods"
      ]
    },
    {
      "cell_type": "code",
      "metadata": {
        "id": "UDas8LZ0yg-y"
      },
      "source": [
        ""
      ],
      "execution_count": null,
      "outputs": []
    },
    {
      "cell_type": "code",
      "metadata": {
        "id": "CyieVOroyg-y",
        "outputId": "967a3250-ae02-4b35-f162-30219e30f871"
      },
      "source": [
        "#append\n",
        "l1 = [1,2,3]\n",
        "l1.append(4)\n",
        "l1"
      ],
      "execution_count": null,
      "outputs": [
        {
          "output_type": "execute_result",
          "data": {
            "text/plain": [
              "[1, 2, 3, 4]"
            ]
          },
          "metadata": {
            "tags": []
          },
          "execution_count": 376
        }
      ]
    },
    {
      "cell_type": "code",
      "metadata": {
        "id": "bTbcmuMXyg-y",
        "outputId": "5be61ba7-b77b-42b7-cabd-3bff77897393"
      },
      "source": [
        "#pop\n",
        "a = l1.pop()\n",
        "a"
      ],
      "execution_count": null,
      "outputs": [
        {
          "output_type": "execute_result",
          "data": {
            "text/plain": [
              "3"
            ]
          },
          "metadata": {
            "tags": []
          },
          "execution_count": 378
        }
      ]
    },
    {
      "cell_type": "code",
      "metadata": {
        "id": "UcOT7pvRyg-y",
        "outputId": "bddd5423-b50f-40a6-9071-27ebfd770d95"
      },
      "source": [
        "#sort\n",
        "l1 = [1,3,5,4,2,7,6,0,9]\n",
        "l1.sort()\n",
        "l1"
      ],
      "execution_count": null,
      "outputs": [
        {
          "output_type": "execute_result",
          "data": {
            "text/plain": [
              "[0, 1, 2, 3, 4, 5, 6, 7, 9]"
            ]
          },
          "metadata": {
            "tags": []
          },
          "execution_count": 380
        }
      ]
    },
    {
      "cell_type": "markdown",
      "metadata": {
        "id": "8X7Gky-cyg-z"
      },
      "source": [
        "# Dictionaries"
      ]
    },
    {
      "cell_type": "code",
      "metadata": {
        "id": "yLJPLzrsyg-z",
        "outputId": "6c463604-d457-4ba2-eaec-a6f142cc7f37"
      },
      "source": [
        "d1 = {1 : 'abc', 2 : 'xyz', 3 : 'pqr'}\n",
        "d1"
      ],
      "execution_count": null,
      "outputs": [
        {
          "output_type": "execute_result",
          "data": {
            "text/plain": [
              "{1: 'abc', 2: 'xyz', 3: 'pqr'}"
            ]
          },
          "metadata": {
            "tags": []
          },
          "execution_count": 381
        }
      ]
    },
    {
      "cell_type": "code",
      "metadata": {
        "id": "bpNwlZOzyg-z",
        "outputId": "c5e52267-d388-4943-9a8c-a56189a8ab01"
      },
      "source": [
        "d2 = {'a' : 123 , 'b' : 456, 'c' : [1,2,3]}\n",
        "d2"
      ],
      "execution_count": null,
      "outputs": [
        {
          "output_type": "execute_result",
          "data": {
            "text/plain": [
              "{'a': 123, 'b': 456, 'c': [1, 2, 3]}"
            ]
          },
          "metadata": {
            "tags": []
          },
          "execution_count": 382
        }
      ]
    },
    {
      "cell_type": "code",
      "metadata": {
        "id": "odEWKE4Hyg-z",
        "outputId": "d0ecfa8f-0038-472a-e1e9-6a3eaef0f5c0"
      },
      "source": [
        "d1[1]"
      ],
      "execution_count": null,
      "outputs": [
        {
          "output_type": "execute_result",
          "data": {
            "text/plain": [
              "'abc'"
            ]
          },
          "metadata": {
            "tags": []
          },
          "execution_count": 383
        }
      ]
    },
    {
      "cell_type": "code",
      "metadata": {
        "id": "LBsaSw2syg-0",
        "outputId": "7bed60d6-7f21-4fb6-99dc-b127383cd58b"
      },
      "source": [
        "d2['a']"
      ],
      "execution_count": null,
      "outputs": [
        {
          "output_type": "execute_result",
          "data": {
            "text/plain": [
              "123"
            ]
          },
          "metadata": {
            "tags": []
          },
          "execution_count": 384
        }
      ]
    },
    {
      "cell_type": "code",
      "metadata": {
        "id": "0EU_FE91yg-0",
        "outputId": "e26c9314-e4bc-4376-a9c3-0ed7d9a40c03"
      },
      "source": [
        "d1[1] = 'Hello'\n",
        "d1"
      ],
      "execution_count": null,
      "outputs": [
        {
          "output_type": "execute_result",
          "data": {
            "text/plain": [
              "{1: 'Hello', 2: 'xyz', 3: 'pqr'}"
            ]
          },
          "metadata": {
            "tags": []
          },
          "execution_count": 385
        }
      ]
    },
    {
      "cell_type": "markdown",
      "metadata": {
        "id": "7OZq8Dx2yg-1"
      },
      "source": [
        "## Dictionary Methods"
      ]
    },
    {
      "cell_type": "code",
      "metadata": {
        "id": "qUC5q610yg-1",
        "outputId": "cd4abd53-fd9a-4e8b-f908-51891978f5e1"
      },
      "source": [
        "d1.keys()"
      ],
      "execution_count": null,
      "outputs": [
        {
          "output_type": "execute_result",
          "data": {
            "text/plain": [
              "dict_keys([1, 2, 3])"
            ]
          },
          "metadata": {
            "tags": []
          },
          "execution_count": 386
        }
      ]
    },
    {
      "cell_type": "code",
      "metadata": {
        "id": "95CUPIA6yg-2",
        "outputId": "b105de42-b528-4328-b31c-8d9ee1b52deb"
      },
      "source": [
        "d1.values()"
      ],
      "execution_count": null,
      "outputs": [
        {
          "output_type": "execute_result",
          "data": {
            "text/plain": [
              "dict_values(['Hello', 'xyz', 'pqr'])"
            ]
          },
          "metadata": {
            "tags": []
          },
          "execution_count": 387
        }
      ]
    },
    {
      "cell_type": "code",
      "metadata": {
        "id": "yo60FGRMyg-2",
        "outputId": "8c1ebc8f-6154-4258-a385-4286cd30571f"
      },
      "source": [
        "d1.items()"
      ],
      "execution_count": null,
      "outputs": [
        {
          "output_type": "execute_result",
          "data": {
            "text/plain": [
              "dict_items([(1, 'Hello'), (2, 'xyz'), (3, 'pqr')])"
            ]
          },
          "metadata": {
            "tags": []
          },
          "execution_count": 388
        }
      ]
    },
    {
      "cell_type": "code",
      "metadata": {
        "id": "CNmi3Kmsyg-3",
        "outputId": "7897aec2-9765-4810-b341-66a60dfd7a97"
      },
      "source": [
        "for key in d1.keys():\n",
        "    print(d1[key])"
      ],
      "execution_count": null,
      "outputs": [
        {
          "output_type": "stream",
          "text": [
            "Hello\n",
            "xyz\n",
            "pqr\n"
          ],
          "name": "stdout"
        }
      ]
    },
    {
      "cell_type": "code",
      "metadata": {
        "id": "gcDZFgzByg-3",
        "outputId": "6eee04a9-ec7e-4a8e-eff5-c44ac1dfbdef"
      },
      "source": [
        "for value in d1.values():\n",
        "    print(value)"
      ],
      "execution_count": null,
      "outputs": [
        {
          "output_type": "stream",
          "text": [
            "Hello\n",
            "xyz\n",
            "pqr\n"
          ],
          "name": "stdout"
        }
      ]
    },
    {
      "cell_type": "code",
      "metadata": {
        "id": "LME_wyI0yg-4",
        "outputId": "9ee5377b-b2c0-437d-fc9c-a84db4169276"
      },
      "source": [
        "for key,value in d1.items():\n",
        "    print(key, value)"
      ],
      "execution_count": null,
      "outputs": [
        {
          "output_type": "stream",
          "text": [
            "1 Hello\n",
            "2 xyz\n",
            "3 pqr\n"
          ],
          "name": "stdout"
        }
      ]
    },
    {
      "cell_type": "markdown",
      "metadata": {
        "id": "AZJG_CAvyg-4"
      },
      "source": [
        "# Tuple"
      ]
    },
    {
      "cell_type": "code",
      "metadata": {
        "id": "MYa0alooyg-4",
        "outputId": "e1f3ba66-4cfb-41dc-c2f6-7be2ee56fa1a"
      },
      "source": [
        "t1 = (1,2,3)\n",
        "t1"
      ],
      "execution_count": null,
      "outputs": [
        {
          "output_type": "execute_result",
          "data": {
            "text/plain": [
              "(1, 2, 3)"
            ]
          },
          "metadata": {
            "tags": []
          },
          "execution_count": 392
        }
      ]
    },
    {
      "cell_type": "code",
      "metadata": {
        "id": "6XCAKbePyg-5",
        "outputId": "46f5db44-77f9-45a8-8b3b-c41a33fbcb86"
      },
      "source": [
        "t1[0]=5"
      ],
      "execution_count": null,
      "outputs": [
        {
          "output_type": "error",
          "ename": "TypeError",
          "evalue": "'tuple' object does not support item assignment",
          "traceback": [
            "\u001b[1;31m---------------------------------------------------------------------------\u001b[0m",
            "\u001b[1;31mTypeError\u001b[0m                                 Traceback (most recent call last)",
            "\u001b[1;32m<ipython-input-393-23de7590a725>\u001b[0m in \u001b[0;36m<module>\u001b[1;34m\u001b[0m\n\u001b[1;32m----> 1\u001b[1;33m \u001b[0mt1\u001b[0m\u001b[1;33m[\u001b[0m\u001b[1;36m0\u001b[0m\u001b[1;33m]\u001b[0m\u001b[1;33m=\u001b[0m\u001b[1;36m5\u001b[0m\u001b[1;33m\u001b[0m\u001b[1;33m\u001b[0m\u001b[0m\n\u001b[0m",
            "\u001b[1;31mTypeError\u001b[0m: 'tuple' object does not support item assignment"
          ]
        }
      ]
    },
    {
      "cell_type": "code",
      "metadata": {
        "id": "kNlysfZKyg-5",
        "outputId": "03ab4745-4c16-4d31-c0e6-8d693cf7e4c3"
      },
      "source": [
        "t1[1]"
      ],
      "execution_count": null,
      "outputs": [
        {
          "output_type": "execute_result",
          "data": {
            "text/plain": [
              "2"
            ]
          },
          "metadata": {
            "tags": []
          },
          "execution_count": 394
        }
      ]
    },
    {
      "cell_type": "code",
      "metadata": {
        "id": "I5LeTwOoyg-5",
        "outputId": "f8a33c6d-41c1-43ae-8c40-0496ad2e4236"
      },
      "source": [
        "t1[-1]"
      ],
      "execution_count": null,
      "outputs": [
        {
          "output_type": "execute_result",
          "data": {
            "text/plain": [
              "3"
            ]
          },
          "metadata": {
            "tags": []
          },
          "execution_count": 395
        }
      ]
    },
    {
      "cell_type": "code",
      "metadata": {
        "id": "vGbJpq-Zyg-6",
        "outputId": "b56870b2-0b1a-428b-a436-da694b8ebb2d"
      },
      "source": [
        "t1[1:3]"
      ],
      "execution_count": null,
      "outputs": [
        {
          "output_type": "execute_result",
          "data": {
            "text/plain": [
              "(2, 3)"
            ]
          },
          "metadata": {
            "tags": []
          },
          "execution_count": 396
        }
      ]
    },
    {
      "cell_type": "code",
      "metadata": {
        "id": "ITc8s8GPyg-6",
        "outputId": "141d1661-95c1-495b-cd2c-50e7a68bbe79"
      },
      "source": [
        "t1 = (1,2,3,1,2,'a')\n",
        "t1"
      ],
      "execution_count": null,
      "outputs": [
        {
          "output_type": "execute_result",
          "data": {
            "text/plain": [
              "(1, 2, 3, 1, 2, 'a')"
            ]
          },
          "metadata": {
            "tags": []
          },
          "execution_count": 397
        }
      ]
    },
    {
      "cell_type": "code",
      "metadata": {
        "id": "yQq-jZoByg-7",
        "outputId": "515b4546-90b2-4fbf-c16c-3a928daf0d8c"
      },
      "source": [
        "t1.index(3)"
      ],
      "execution_count": null,
      "outputs": [
        {
          "output_type": "execute_result",
          "data": {
            "text/plain": [
              "2"
            ]
          },
          "metadata": {
            "tags": []
          },
          "execution_count": 398
        }
      ]
    },
    {
      "cell_type": "code",
      "metadata": {
        "id": "g25KhfWsyg-8",
        "outputId": "56921dcb-0a8d-4135-a75a-63d5fbc52d5b"
      },
      "source": [
        "t1.count(1)"
      ],
      "execution_count": null,
      "outputs": [
        {
          "output_type": "execute_result",
          "data": {
            "text/plain": [
              "2"
            ]
          },
          "metadata": {
            "tags": []
          },
          "execution_count": 399
        }
      ]
    },
    {
      "cell_type": "markdown",
      "metadata": {
        "id": "w5Z7Y6RHyg-8"
      },
      "source": [
        "# Sets"
      ]
    },
    {
      "cell_type": "code",
      "metadata": {
        "id": "MXV1FKhvyg-9",
        "outputId": "b787d982-a7c8-4a30-f929-51c20b16f8cb"
      },
      "source": [
        "s1 = set()\n",
        "s1"
      ],
      "execution_count": null,
      "outputs": [
        {
          "output_type": "execute_result",
          "data": {
            "text/plain": [
              "set()"
            ]
          },
          "metadata": {
            "tags": []
          },
          "execution_count": 400
        }
      ]
    },
    {
      "cell_type": "code",
      "metadata": {
        "id": "9A89d4qhyg--",
        "outputId": "e9cbac04-4098-4ad3-d57a-a82816514585"
      },
      "source": [
        "s1.add(1)\n",
        "s1"
      ],
      "execution_count": null,
      "outputs": [
        {
          "output_type": "execute_result",
          "data": {
            "text/plain": [
              "{1}"
            ]
          },
          "metadata": {
            "tags": []
          },
          "execution_count": 401
        }
      ]
    },
    {
      "cell_type": "code",
      "metadata": {
        "id": "H1NUfblhyg--",
        "outputId": "f8372805-0218-45e4-fb55-e9d895ef67a4"
      },
      "source": [
        "s1.add(2)\n",
        "s1"
      ],
      "execution_count": null,
      "outputs": [
        {
          "output_type": "execute_result",
          "data": {
            "text/plain": [
              "{1, 2}"
            ]
          },
          "metadata": {
            "tags": []
          },
          "execution_count": 402
        }
      ]
    },
    {
      "cell_type": "code",
      "metadata": {
        "id": "52gsMhCqyg-_",
        "outputId": "1ce0fa05-3fff-46f8-9995-bc18df1fbc4e"
      },
      "source": [
        "s1.remove(2)"
      ],
      "execution_count": null,
      "outputs": [
        {
          "output_type": "error",
          "ename": "KeyError",
          "evalue": "2",
          "traceback": [
            "\u001b[1;31m---------------------------------------------------------------------------\u001b[0m",
            "\u001b[1;31mKeyError\u001b[0m                                  Traceback (most recent call last)",
            "\u001b[1;32m<ipython-input-405-238519529d2d>\u001b[0m in \u001b[0;36m<module>\u001b[1;34m\u001b[0m\n\u001b[1;32m----> 1\u001b[1;33m \u001b[0ms1\u001b[0m\u001b[1;33m.\u001b[0m\u001b[0mremove\u001b[0m\u001b[1;33m(\u001b[0m\u001b[1;36m2\u001b[0m\u001b[1;33m)\u001b[0m\u001b[1;33m\u001b[0m\u001b[1;33m\u001b[0m\u001b[0m\n\u001b[0m\u001b[0;32m      2\u001b[0m \u001b[0ms1\u001b[0m\u001b[1;33m\u001b[0m\u001b[1;33m\u001b[0m\u001b[0m\n",
            "\u001b[1;31mKeyError\u001b[0m: 2"
          ]
        }
      ]
    },
    {
      "cell_type": "markdown",
      "metadata": {
        "id": "SDfwCKGByg_A"
      },
      "source": [
        "# Booleans"
      ]
    },
    {
      "cell_type": "code",
      "metadata": {
        "id": "L4tpHD5xyg_B"
      },
      "source": [
        "a = True"
      ],
      "execution_count": null,
      "outputs": []
    },
    {
      "cell_type": "code",
      "metadata": {
        "id": "9kDZAqZdyg_B",
        "outputId": "6a37b539-fccb-46ee-dd3c-64432c9759f4"
      },
      "source": [
        "type(a)"
      ],
      "execution_count": null,
      "outputs": [
        {
          "output_type": "execute_result",
          "data": {
            "text/plain": [
              "bool"
            ]
          },
          "metadata": {
            "tags": []
          },
          "execution_count": 410
        }
      ]
    },
    {
      "cell_type": "code",
      "metadata": {
        "id": "FB8rpCzayg_C",
        "outputId": "6d2d1913-8e23-4698-ebeb-e55f0634ded2"
      },
      "source": [
        "a = False\n",
        "type(a)"
      ],
      "execution_count": null,
      "outputs": [
        {
          "output_type": "execute_result",
          "data": {
            "text/plain": [
              "bool"
            ]
          },
          "metadata": {
            "tags": []
          },
          "execution_count": 411
        }
      ]
    },
    {
      "cell_type": "code",
      "metadata": {
        "id": "6Buxew_yyg_D",
        "outputId": "3f66c854-e535-4998-b98d-5fc2059964dd"
      },
      "source": [
        "a = 1 > 2\n",
        "a"
      ],
      "execution_count": null,
      "outputs": [
        {
          "output_type": "execute_result",
          "data": {
            "text/plain": [
              "False"
            ]
          },
          "metadata": {
            "tags": []
          },
          "execution_count": 412
        }
      ]
    },
    {
      "cell_type": "code",
      "metadata": {
        "id": "ERNjQ1Fgyg_D",
        "outputId": "a95f0ba8-22cc-4310-eb15-af37587cb163"
      },
      "source": [
        "a = 3 < 4\n",
        "a"
      ],
      "execution_count": null,
      "outputs": [
        {
          "output_type": "execute_result",
          "data": {
            "text/plain": [
              "True"
            ]
          },
          "metadata": {
            "tags": []
          },
          "execution_count": 413
        }
      ]
    },
    {
      "cell_type": "code",
      "metadata": {
        "id": "FxllO57zyg_E"
      },
      "source": [
        ""
      ],
      "execution_count": null,
      "outputs": []
    }
  ]
}