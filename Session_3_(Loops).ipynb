{
  "nbformat": 4,
  "nbformat_minor": 0,
  "metadata": {
    "kernelspec": {
      "display_name": "Python 3",
      "language": "python",
      "name": "python3"
    },
    "language_info": {
      "codemirror_mode": {
        "name": "ipython",
        "version": 3
      },
      "file_extension": ".py",
      "mimetype": "text/x-python",
      "name": "python",
      "nbconvert_exporter": "python",
      "pygments_lexer": "ipython3",
      "version": "3.7.3"
    },
    "colab": {
      "name": "Session-3 (Loops).ipynb",
      "provenance": [],
      "include_colab_link": true
    }
  },
  "cells": [
    {
      "cell_type": "markdown",
      "metadata": {
        "id": "view-in-github",
        "colab_type": "text"
      },
      "source": [
        "<a href=\"https://colab.research.google.com/github/madhavjk/DataScience-ML_and_DL/blob/main/Session_3_(Loops).ipynb\" target=\"_parent\"><img src=\"https://colab.research.google.com/assets/colab-badge.svg\" alt=\"Open In Colab\"/></a>"
      ]
    },
    {
      "cell_type": "markdown",
      "metadata": {
        "id": "vvt7u70UyjtQ"
      },
      "source": [
        "# For Loops"
      ]
    },
    {
      "cell_type": "code",
      "metadata": {
        "scrolled": true,
        "id": "CRqbRLxFyjtS",
        "outputId": "196e9860-819a-4c34-9a77-c022eb60d2ee"
      },
      "source": [
        "#Initialization, Condition, Increment/decrement         for(i=0,i<5,i++)\n",
        "l1 = [1,2,3,4]\n",
        "for i in l1:\n",
        "    print(i)"
      ],
      "execution_count": null,
      "outputs": [
        {
          "output_type": "stream",
          "text": [
            "1\n",
            "2\n",
            "3\n",
            "4\n"
          ],
          "name": "stdout"
        }
      ]
    },
    {
      "cell_type": "code",
      "metadata": {
        "scrolled": true,
        "id": "ILjzJ7URyjtX",
        "outputId": "1825f056-e9e0-46a8-b405-ed312dff1f84"
      },
      "source": [
        "for i in range(0,len(l1),2):\n",
        "    print(l1[i])"
      ],
      "execution_count": null,
      "outputs": [
        {
          "output_type": "stream",
          "text": [
            "1\n",
            "3\n"
          ],
          "name": "stdout"
        }
      ]
    },
    {
      "cell_type": "code",
      "metadata": {
        "id": "ga8TSEF0yjtY",
        "outputId": "33a9d337-d0a9-4b3e-8a63-d5ebceabfc28"
      },
      "source": [
        "for i in range(0,5,1):\n",
        "    print(i)"
      ],
      "execution_count": null,
      "outputs": [
        {
          "output_type": "stream",
          "text": [
            "0\n",
            "1\n",
            "2\n",
            "3\n",
            "4\n"
          ],
          "name": "stdout"
        }
      ]
    },
    {
      "cell_type": "code",
      "metadata": {
        "id": "lsTpPeDxyjtY",
        "outputId": "3d52c6e1-d214-4a72-d596-970cacf17717"
      },
      "source": [
        "a = range(0,10)\n",
        "print(a)"
      ],
      "execution_count": null,
      "outputs": [
        {
          "output_type": "stream",
          "text": [
            "range(0, 10)\n"
          ],
          "name": "stdout"
        }
      ]
    },
    {
      "cell_type": "code",
      "metadata": {
        "id": "4NlSyhKgyjtZ",
        "outputId": "a9d1d742-2361-4b80-9760-b604f84279dd"
      },
      "source": [
        "for i in range(3,-1,-1):\n",
        "    print(l1[i])"
      ],
      "execution_count": null,
      "outputs": [
        {
          "output_type": "stream",
          "text": [
            "4\n",
            "3\n",
            "2\n",
            "1\n"
          ],
          "name": "stdout"
        }
      ]
    },
    {
      "cell_type": "code",
      "metadata": {
        "id": "osfs3O6syjta",
        "outputId": "0fed6aa7-354a-448e-dbf2-b912494694c8"
      },
      "source": [
        "a = range(0,len(l1))\n",
        "a"
      ],
      "execution_count": null,
      "outputs": [
        {
          "output_type": "execute_result",
          "data": {
            "text/plain": [
              "range(0, 4)"
            ]
          },
          "metadata": {
            "tags": []
          },
          "execution_count": 6
        }
      ]
    },
    {
      "cell_type": "code",
      "metadata": {
        "id": "wo8MA2PEyjtb",
        "outputId": "58900229-aa77-4a19-f978-03ae375d235f"
      },
      "source": [
        "m = '#'\n",
        "for i in range(1,6): print(m*i)"
      ],
      "execution_count": null,
      "outputs": [
        {
          "output_type": "stream",
          "text": [
            "#\n",
            "##\n",
            "###\n",
            "####\n",
            "#####\n"
          ],
          "name": "stdout"
        }
      ]
    },
    {
      "cell_type": "code",
      "metadata": {
        "id": "aKTUMd4zyjtc",
        "outputId": "891efe15-7b30-4dc4-a774-e16ee6a4a12c"
      },
      "source": [
        "for i in range(6):\n",
        "    for j in range(i):\n",
        "        print('*',end = \"\")\n",
        "    print()"
      ],
      "execution_count": null,
      "outputs": [
        {
          "output_type": "stream",
          "text": [
            "\n",
            "*\n",
            "**\n",
            "***\n",
            "****\n",
            "*****\n"
          ],
          "name": "stdout"
        }
      ]
    },
    {
      "cell_type": "code",
      "metadata": {
        "id": "ZEXkU7xQyjtd",
        "outputId": "a523d17f-9073-4316-946f-d89a6fed783e"
      },
      "source": [
        "print('abc')\n",
        "print('xyz')"
      ],
      "execution_count": null,
      "outputs": [
        {
          "output_type": "stream",
          "text": [
            "abc\n",
            "xyz\n"
          ],
          "name": "stdout"
        }
      ]
    },
    {
      "cell_type": "code",
      "metadata": {
        "id": "A2AeUaB1yjte",
        "outputId": "53326aed-2437-4dd9-df96-9ca4d1eeb3af"
      },
      "source": [
        "print('abc', end = \"\")\n",
        "print('xyz')"
      ],
      "execution_count": null,
      "outputs": [
        {
          "output_type": "stream",
          "text": [
            "abcxyz\n"
          ],
          "name": "stdout"
        }
      ]
    },
    {
      "cell_type": "code",
      "metadata": {
        "id": "7ZQJTY9zyjte",
        "outputId": "40cece10-af55-4be2-ec41-fe5484048a7d"
      },
      "source": [
        "print('abc', end = \"  \")\n",
        "print('xyz')"
      ],
      "execution_count": null,
      "outputs": [
        {
          "output_type": "stream",
          "text": [
            "abc  xyz\n"
          ],
          "name": "stdout"
        }
      ]
    },
    {
      "cell_type": "code",
      "metadata": {
        "id": "RSLo3kztyjtf",
        "outputId": "54623457-3abf-4fac-83a6-29c3a7765d82"
      },
      "source": [
        "#Nested Loop\n",
        "for i in range(0,3):\n",
        "    for j in range(0,5):\n",
        "        print(i,j)"
      ],
      "execution_count": null,
      "outputs": [
        {
          "output_type": "stream",
          "text": [
            "0 0\n",
            "0 1\n",
            "0 2\n",
            "0 3\n",
            "0 4\n",
            "1 0\n",
            "1 1\n",
            "1 2\n",
            "1 3\n",
            "1 4\n",
            "2 0\n",
            "2 1\n",
            "2 2\n",
            "2 3\n",
            "2 4\n"
          ],
          "name": "stdout"
        }
      ]
    },
    {
      "cell_type": "code",
      "metadata": {
        "id": "y9WLBprcyjtf",
        "outputId": "fee8e8ea-c2f0-4797-b5e3-c14222fcd91d"
      },
      "source": [
        "for i in range(0,4):\n",
        "    for j in range(0,4-i-1):\n",
        "        print(' ',end = \"\")\n",
        "    for k in range(0,2*i+1):\n",
        "        print('#',end = '')\n",
        "    print()"
      ],
      "execution_count": null,
      "outputs": [
        {
          "output_type": "stream",
          "text": [
            "   #\n",
            "  ###\n",
            " #####\n",
            "#######\n"
          ],
          "name": "stdout"
        }
      ]
    },
    {
      "cell_type": "markdown",
      "metadata": {
        "id": "O7RnnI8qyjtg"
      },
      "source": [
        "# While Loops"
      ]
    },
    {
      "cell_type": "code",
      "metadata": {
        "id": "Rf9Co2BKyjth",
        "outputId": "d0780220-a0c1-4ec2-8aa9-10688bdb67c6"
      },
      "source": [
        "i = 0\n",
        "while i < 5:\n",
        "    print(i)\n",
        "    i += 1"
      ],
      "execution_count": null,
      "outputs": [
        {
          "output_type": "stream",
          "text": [
            "0\n",
            "1\n",
            "2\n",
            "3\n",
            "4\n"
          ],
          "name": "stdout"
        }
      ]
    },
    {
      "cell_type": "code",
      "metadata": {
        "id": "uBXOC6ITyjth",
        "outputId": "7a85bdfb-9db1-45e6-f310-8f5a4e3451b9"
      },
      "source": [
        "i = 1\n",
        "while i < 11:\n",
        "    if i % 2 == 0:\n",
        "        print(\"Even\")\n",
        "    else:\n",
        "        print(\"Odd\")\n",
        "    i += 1"
      ],
      "execution_count": null,
      "outputs": [
        {
          "output_type": "stream",
          "text": [
            "Odd\n",
            "Even\n",
            "Odd\n",
            "Even\n",
            "Odd\n",
            "Even\n",
            "Odd\n",
            "Even\n",
            "Odd\n",
            "Even\n"
          ],
          "name": "stdout"
        }
      ]
    },
    {
      "cell_type": "markdown",
      "metadata": {
        "id": "mR98jD_oyjtl"
      },
      "source": [
        "## break"
      ]
    },
    {
      "cell_type": "code",
      "metadata": {
        "id": "xVPE1-Dqyjtu",
        "outputId": "68441913-fe58-4d21-ac74-ed5d0bb19b52"
      },
      "source": [
        "i = 0\n",
        "while True:\n",
        "    if i == 5:\n",
        "        break\n",
        "    else: print(i)\n",
        "    i += 1\n",
        "    "
      ],
      "execution_count": null,
      "outputs": [
        {
          "output_type": "stream",
          "text": [
            "0\n",
            "1\n",
            "2\n",
            "3\n",
            "4\n"
          ],
          "name": "stdout"
        }
      ]
    },
    {
      "cell_type": "markdown",
      "metadata": {
        "id": "s7G_4Vizyjtv"
      },
      "source": [
        "## continue"
      ]
    },
    {
      "cell_type": "code",
      "metadata": {
        "id": "lfuHIJuIyjtw",
        "outputId": "8c6355b7-8947-4116-c324-d359da111ee6"
      },
      "source": [
        "i = 0\n",
        "while i < 11:\n",
        "    i += 1\n",
        "    if i % 2 == 0:\n",
        "        continue\n",
        "        print(\"Even\")\n",
        "    else:\n",
        "        print(i)\n",
        "        \n"
      ],
      "execution_count": null,
      "outputs": [
        {
          "output_type": "stream",
          "text": [
            "1\n",
            "3\n",
            "5\n",
            "7\n",
            "9\n",
            "11\n"
          ],
          "name": "stdout"
        }
      ]
    },
    {
      "cell_type": "code",
      "metadata": {
        "id": "kNDgNO5Eyjtw",
        "outputId": "f246c8bb-cb20-4c07-f32c-0b7f358cfdfc"
      },
      "source": [
        "i = 0\n",
        "while i < 11:\n",
        "    i += 1\n",
        "    if i % 2 == 0:\n",
        "        pass\n",
        "    else:\n",
        "        print(i)"
      ],
      "execution_count": null,
      "outputs": [
        {
          "output_type": "stream",
          "text": [
            "1\n",
            "3\n",
            "5\n",
            "7\n",
            "9\n",
            "11\n"
          ],
          "name": "stdout"
        }
      ]
    },
    {
      "cell_type": "code",
      "metadata": {
        "id": "Aa_aKdwcyjtx",
        "outputId": "b42a1676-ac67-4049-bf98-3829fb39d771"
      },
      "source": [
        "i = 0\n",
        "while i < 5:\n",
        "    print(i)\n",
        "    i += 1\n",
        "else:\n",
        "    print(\"i is greater then 5\")"
      ],
      "execution_count": null,
      "outputs": [
        {
          "output_type": "stream",
          "text": [
            "0\n",
            "1\n",
            "2\n",
            "3\n",
            "4\n",
            "i is greater then 5\n"
          ],
          "name": "stdout"
        }
      ]
    },
    {
      "cell_type": "code",
      "metadata": {
        "id": "q_jAG0Oqyjty",
        "outputId": "cec7f684-afab-47c0-f50e-085478c67fd1"
      },
      "source": [
        "i = 0\n",
        "while i == 5:\n",
        "    print(i)\n",
        "    i += 1\n",
        "else: print(\" I is 5\")"
      ],
      "execution_count": null,
      "outputs": [
        {
          "output_type": "stream",
          "text": [
            " I is 5\n"
          ],
          "name": "stdout"
        }
      ]
    },
    {
      "cell_type": "code",
      "metadata": {
        "id": "MIVjxfu1yjty",
        "outputId": "2ec8dd73-188d-415a-8f2b-2dcddf9f25f9"
      },
      "source": [
        "for i in range(0,11):\n",
        "    print(i)\n",
        "else: print(\"i is larger than 10\")"
      ],
      "execution_count": null,
      "outputs": [
        {
          "output_type": "stream",
          "text": [
            "0\n",
            "1\n",
            "2\n",
            "3\n",
            "4\n",
            "5\n",
            "6\n",
            "7\n",
            "8\n",
            "9\n",
            "10\n",
            "i is larger than 10\n"
          ],
          "name": "stdout"
        }
      ]
    },
    {
      "cell_type": "code",
      "metadata": {
        "id": "0ZHf9G-1yjtz",
        "outputId": "1edd2cc6-3dac-4861-c053-43c9cf2583ad"
      },
      "source": [
        "n = 23\n",
        "for i in range(2,int(n**0.5)+1):\n",
        "    if n%i == 0:\n",
        "        print(\"Not Prime\")\n",
        "        break\n",
        "else: \n",
        "    print(\"prime\")\n",
        "        "
      ],
      "execution_count": null,
      "outputs": [
        {
          "output_type": "stream",
          "text": [
            "prime\n"
          ],
          "name": "stdout"
        }
      ]
    }
  ]
}