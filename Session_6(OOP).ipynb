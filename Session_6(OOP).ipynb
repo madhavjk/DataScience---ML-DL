{
  "nbformat": 4,
  "nbformat_minor": 0,
  "metadata": {
    "kernelspec": {
      "display_name": "Python 3",
      "language": "python",
      "name": "python3"
    },
    "language_info": {
      "codemirror_mode": {
        "name": "ipython",
        "version": 3
      },
      "file_extension": ".py",
      "mimetype": "text/x-python",
      "name": "python",
      "nbconvert_exporter": "python",
      "pygments_lexer": "ipython3",
      "version": "3.7.3"
    },
    "colab": {
      "name": "Session 6(OOP).ipynb",
      "provenance": [],
      "include_colab_link": true
    }
  },
  "cells": [
    {
      "cell_type": "markdown",
      "metadata": {
        "id": "view-in-github",
        "colab_type": "text"
      },
      "source": [
        "<a href=\"https://colab.research.google.com/github/madhavjk/DataScience-ML_and_DL/blob/main/Session_6(OOP).ipynb\" target=\"_parent\"><img src=\"https://colab.research.google.com/assets/colab-badge.svg\" alt=\"Open In Colab\"/></a>"
      ]
    },
    {
      "cell_type": "markdown",
      "metadata": {
        "id": "Q3c-yAp-ypbY"
      },
      "source": [
        "# OOP in python\n",
        "\n",
        "## Inheritance\n",
        "## Polymorphism\n",
        "## Encapsulation\n",
        "## Abstraction"
      ]
    },
    {
      "cell_type": "code",
      "metadata": {
        "id": "Y9J0ouyqypbd"
      },
      "source": [
        "class Abc:\n",
        "    pass "
      ],
      "execution_count": null,
      "outputs": []
    },
    {
      "cell_type": "code",
      "metadata": {
        "id": "LgRN9-Xpypbh"
      },
      "source": [
        "c1 = Abc()"
      ],
      "execution_count": null,
      "outputs": []
    },
    {
      "cell_type": "code",
      "metadata": {
        "id": "NqPJdBeeypbj",
        "outputId": "16d20a7a-0a1d-4e4a-b8f5-f965569ff5b0"
      },
      "source": [
        "type(c1)"
      ],
      "execution_count": null,
      "outputs": [
        {
          "output_type": "execute_result",
          "data": {
            "text/plain": [
              "__main__.Abc"
            ]
          },
          "metadata": {
            "tags": []
          },
          "execution_count": 3
        }
      ]
    },
    {
      "cell_type": "code",
      "metadata": {
        "id": "YsLTUp4Rypbm"
      },
      "source": [
        "class Student:\n",
        "    def __init__(self, name, age):\n",
        "        self.name = name\n",
        "        self.age = age"
      ],
      "execution_count": null,
      "outputs": []
    },
    {
      "cell_type": "code",
      "metadata": {
        "id": "agw8y7teypbo"
      },
      "source": [
        "s1 = Student(\"John\",30)"
      ],
      "execution_count": null,
      "outputs": []
    },
    {
      "cell_type": "code",
      "metadata": {
        "id": "7hX-bBr0ypbp",
        "outputId": "dde17faf-8c06-4667-c8d3-f009666004d6"
      },
      "source": [
        "print(s1.name)\n",
        "print(s1.age)"
      ],
      "execution_count": null,
      "outputs": [
        {
          "output_type": "stream",
          "text": [
            "John\n",
            "30\n"
          ],
          "name": "stdout"
        }
      ]
    },
    {
      "cell_type": "code",
      "metadata": {
        "id": "fLUXfEL3ypbu"
      },
      "source": [
        "s2 = Student(\"Tommy\",25)\n",
        "s3 = Student(\"Eric\", 30)"
      ],
      "execution_count": null,
      "outputs": []
    },
    {
      "cell_type": "code",
      "metadata": {
        "id": "T1eC0ZsAypbv",
        "outputId": "cd72826d-2754-499d-a37e-36aefb9da242"
      },
      "source": [
        "print(s1.name,s1.age)\n",
        "print(s2.name,s2.age)\n",
        "print(s3.name,s3.age)"
      ],
      "execution_count": null,
      "outputs": [
        {
          "output_type": "stream",
          "text": [
            "John 30\n",
            "Tommy 25\n",
            "Eric 30\n"
          ],
          "name": "stdout"
        }
      ]
    },
    {
      "cell_type": "code",
      "metadata": {
        "id": "G9oP1uwTypbx"
      },
      "source": [
        "class Student:\n",
        "    def __init__(self, name, age):\n",
        "        self.name = name\n",
        "        self.age = age\n",
        "        \n",
        "    def display(self):\n",
        "        print(self.name)\n",
        "        print(self.age)"
      ],
      "execution_count": null,
      "outputs": []
    },
    {
      "cell_type": "code",
      "metadata": {
        "id": "K2WcG0Zdypbz"
      },
      "source": [
        "s1 = Student(\"John\",30)\n",
        "s2 = Student(\"Tommy\",25)\n",
        "s3 = Student(\"Eric\", 30)"
      ],
      "execution_count": null,
      "outputs": []
    },
    {
      "cell_type": "code",
      "metadata": {
        "id": "AOBiPltkypb0",
        "outputId": "51c4b7ca-d903-46fe-e525-87b1718a906f"
      },
      "source": [
        "s1.display()"
      ],
      "execution_count": null,
      "outputs": [
        {
          "output_type": "stream",
          "text": [
            "John\n",
            "30\n"
          ],
          "name": "stdout"
        }
      ]
    },
    {
      "cell_type": "code",
      "metadata": {
        "id": "hurU9CFFypb3",
        "outputId": "bf1410b6-bd89-4a8f-e3aa-add12d40ca0b"
      },
      "source": [
        "s2.display()"
      ],
      "execution_count": null,
      "outputs": [
        {
          "output_type": "stream",
          "text": [
            "Tommy\n",
            "25\n"
          ],
          "name": "stdout"
        }
      ]
    },
    {
      "cell_type": "code",
      "metadata": {
        "id": "ERiHOerrypb5"
      },
      "source": [
        "class Student:\n",
        "    def __init__(self, name, age):\n",
        "        self.name = name\n",
        "        self.age = age\n",
        "        \n",
        "    def get_details(self):\n",
        "        self.name = input(\"Enter name: \")\n",
        "        self.age  = int(input(\"Enter age :\"))\n",
        "    \n",
        "    def display(self):\n",
        "        print(self.name)\n",
        "        print(self.age)"
      ],
      "execution_count": null,
      "outputs": []
    },
    {
      "cell_type": "code",
      "metadata": {
        "id": "y5il_ayxypb8",
        "outputId": "06cc2c52-4eba-4e5a-bb00-c54c6fc0d919"
      },
      "source": [
        "s1 = Student(\"John\",30)\n",
        "s1.display()"
      ],
      "execution_count": null,
      "outputs": [
        {
          "output_type": "stream",
          "text": [
            "John\n",
            "30\n"
          ],
          "name": "stdout"
        }
      ]
    },
    {
      "cell_type": "code",
      "metadata": {
        "id": "eA2gnr0Bypb9",
        "outputId": "0dfbf2c3-7fa7-4662-8f5c-7a4bc1844990"
      },
      "source": [
        "s1.get_details()"
      ],
      "execution_count": null,
      "outputs": [
        {
          "output_type": "stream",
          "text": [
            "Enter name: Tom\n",
            "Enter age :25\n"
          ],
          "name": "stdout"
        }
      ]
    },
    {
      "cell_type": "code",
      "metadata": {
        "id": "vcSZu5b6ypb-",
        "outputId": "79e22252-5d28-4c7b-ba5d-c13ef29a58b4"
      },
      "source": [
        "s1.display()"
      ],
      "execution_count": null,
      "outputs": [
        {
          "output_type": "stream",
          "text": [
            "Tom\n",
            "25\n"
          ],
          "name": "stdout"
        }
      ]
    },
    {
      "cell_type": "code",
      "metadata": {
        "id": "q-b0SGV6ypcA"
      },
      "source": [
        "class Person:\n",
        "     def __init__(self, name, age):\n",
        "        self.name = name\n",
        "        self.age = age\n",
        "    \n",
        "     def display(self):\n",
        "        print(self.name)\n",
        "        print(self.age)"
      ],
      "execution_count": null,
      "outputs": []
    },
    {
      "cell_type": "code",
      "metadata": {
        "id": "DaIP9fLZypcD"
      },
      "source": [
        "class Employee(Person):\n",
        "    def __init__(self,name,age,city):\n",
        "        super().__init__(name,age)\n",
        "        self.city = city\n",
        "        \n",
        "    def display(self):\n",
        "        super().display()\n",
        "        print(self.city)"
      ],
      "execution_count": null,
      "outputs": []
    },
    {
      "cell_type": "code",
      "metadata": {
        "id": "Jsvo5mkdypdC"
      },
      "source": [
        "e1 = Employee(\"John\",30,\"Jaipur\")"
      ],
      "execution_count": null,
      "outputs": []
    },
    {
      "cell_type": "code",
      "metadata": {
        "id": "3mmbeGtyypdD",
        "outputId": "122d3d13-ddce-48ee-bfcc-7933e08b0c28"
      },
      "source": [
        "e1.display()"
      ],
      "execution_count": null,
      "outputs": [
        {
          "output_type": "stream",
          "text": [
            "John\n",
            "30\n",
            "Jaipur\n"
          ],
          "name": "stdout"
        }
      ]
    },
    {
      "cell_type": "code",
      "metadata": {
        "id": "ja7aALH3ypdE",
        "outputId": "ad9b587d-e722-4008-f83a-4ad89da83456"
      },
      "source": [
        "list(filter(lambda x: x%3 ==0, list(range(11))))"
      ],
      "execution_count": null,
      "outputs": [
        {
          "output_type": "execute_result",
          "data": {
            "text/plain": [
              "[0, 3, 6, 9]"
            ]
          },
          "metadata": {
            "tags": []
          },
          "execution_count": 32
        }
      ]
    },
    {
      "cell_type": "code",
      "metadata": {
        "id": "k9DwAN3_ypdF"
      },
      "source": [
        ""
      ],
      "execution_count": null,
      "outputs": []
    }
  ]
}