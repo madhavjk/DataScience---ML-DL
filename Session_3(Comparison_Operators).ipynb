{
  "nbformat": 4,
  "nbformat_minor": 0,
  "metadata": {
    "kernelspec": {
      "display_name": "Python 3",
      "language": "python",
      "name": "python3"
    },
    "language_info": {
      "codemirror_mode": {
        "name": "ipython",
        "version": 3
      },
      "file_extension": ".py",
      "mimetype": "text/x-python",
      "name": "python",
      "nbconvert_exporter": "python",
      "pygments_lexer": "ipython3",
      "version": "3.7.3"
    },
    "colab": {
      "name": "Session-3(Comparison Operators).ipynb",
      "provenance": [],
      "include_colab_link": true
    }
  },
  "cells": [
    {
      "cell_type": "markdown",
      "metadata": {
        "id": "view-in-github",
        "colab_type": "text"
      },
      "source": [
        "<a href=\"https://colab.research.google.com/github/madhavjk/DataScience-ML_and_DL/blob/main/Session_3(Comparison_Operators).ipynb\" target=\"_parent\"><img src=\"https://colab.research.google.com/assets/colab-badge.svg\" alt=\"Open In Colab\"/></a>"
      ]
    },
    {
      "cell_type": "markdown",
      "metadata": {
        "id": "Znf_IozTykWD"
      },
      "source": [
        "# Comparison Operators \n",
        "\n",
        "In this lecture we will be learning about Comparison Operators in Python. These operators will allow us to compare variables and output a Boolean value (True or False). \n",
        "\n",
        "If you have any sort of background in Math, these operators should be very straight forward.\n",
        "\n",
        "First we'll present a table of the comparison operators and then work through some examples:\n",
        "\n",
        "<h2> Table of Comparison Operators </h2><p>  In the table below, a=3 and b=4.</p>\n",
        "\n",
        "<table class=\"table table-bordered\">\n",
        "<tr>\n",
        "<th style=\"width:10%\">Operator</th><th style=\"width:45%\">Description</th><th>Example</th>\n",
        "</tr>\n",
        "<tr>\n",
        "<td>==</td>\n",
        "<td>If the values of two operands are equal, then the condition becomes true.</td>\n",
        "<td> (a == b) is not true.</td>\n",
        "</tr>\n",
        "<tr>\n",
        "<td>!=</td>\n",
        "<td>If values of two operands are not equal, then condition becomes true.</td>\n",
        "<td>(a != b) is true</td>\n",
        "</tr>\n",
        "<tr>\n",
        "<td>&gt;</td>\n",
        "<td>If the value of left operand is greater than the value of right operand, then condition becomes true.</td>\n",
        "<td> (a &gt; b) is not true.</td>\n",
        "</tr>\n",
        "<tr>\n",
        "<td>&lt;</td>\n",
        "<td>If the value of left operand is less than the value of right operand, then condition becomes true.</td>\n",
        "<td> (a &lt; b) is true.</td>\n",
        "</tr>\n",
        "<tr>\n",
        "<td>&gt;=</td>\n",
        "<td>If the value of left operand is greater than or equal to the value of right operand, then condition becomes true.</td>\n",
        "<td> (a &gt;= b) is not true. </td>\n",
        "</tr>\n",
        "<tr>\n",
        "<td>&lt;=</td>\n",
        "<td>If the value of left operand is less than or equal to the value of right operand, then condition becomes true.</td>\n",
        "<td> (a &lt;= b) is true. </td>\n",
        "</tr>\n",
        "</table>"
      ]
    },
    {
      "cell_type": "code",
      "metadata": {
        "id": "9yuRsgvbykWG",
        "outputId": "c7494b2a-cc24-43c0-9d4d-d66cc1379160"
      },
      "source": [
        "2 == 2"
      ],
      "execution_count": null,
      "outputs": [
        {
          "output_type": "execute_result",
          "data": {
            "text/plain": [
              "True"
            ]
          },
          "metadata": {
            "tags": []
          },
          "execution_count": 2
        }
      ]
    },
    {
      "cell_type": "code",
      "metadata": {
        "id": "kM2QDbltykWJ",
        "outputId": "28a5610b-5f2f-4e52-8fa4-494cecbe220e"
      },
      "source": [
        "1 == 0"
      ],
      "execution_count": null,
      "outputs": [
        {
          "output_type": "execute_result",
          "data": {
            "text/plain": [
              "False"
            ]
          },
          "metadata": {
            "tags": []
          },
          "execution_count": 3
        }
      ]
    },
    {
      "cell_type": "markdown",
      "metadata": {
        "id": "uEct9mTkykWJ"
      },
      "source": [
        "Note that <code>==</code> is a <em>comparison</em> operator, while <code>=</code> is an <em>assignment</em> operator."
      ]
    },
    {
      "cell_type": "markdown",
      "metadata": {
        "id": "P5fPNm93ykWL"
      },
      "source": [
        "#### Not Equal"
      ]
    },
    {
      "cell_type": "code",
      "metadata": {
        "id": "BSBXbnJ8ykWN",
        "outputId": "bf5c4deb-0567-4fe5-fc97-dfd31a425791"
      },
      "source": [
        "2 != 1"
      ],
      "execution_count": null,
      "outputs": [
        {
          "output_type": "execute_result",
          "data": {
            "text/plain": [
              "True"
            ]
          },
          "metadata": {
            "tags": []
          },
          "execution_count": 4
        }
      ]
    },
    {
      "cell_type": "code",
      "metadata": {
        "id": "7YX1CbLLykWO",
        "outputId": "7a4b9689-e630-4b05-ef81-084c8735a30c"
      },
      "source": [
        "2 != 2"
      ],
      "execution_count": null,
      "outputs": [
        {
          "output_type": "execute_result",
          "data": {
            "text/plain": [
              "False"
            ]
          },
          "metadata": {
            "tags": []
          },
          "execution_count": 5
        }
      ]
    },
    {
      "cell_type": "markdown",
      "metadata": {
        "id": "_BdLfmgTykWP"
      },
      "source": [
        "#### Greater Than"
      ]
    },
    {
      "cell_type": "code",
      "metadata": {
        "id": "yVLJ7yxnykWQ",
        "outputId": "893bf39d-126b-444e-d5e1-6c24b5f8e2c3"
      },
      "source": [
        "2 > 1"
      ],
      "execution_count": null,
      "outputs": [
        {
          "output_type": "execute_result",
          "data": {
            "text/plain": [
              "True"
            ]
          },
          "metadata": {
            "tags": []
          },
          "execution_count": 6
        }
      ]
    },
    {
      "cell_type": "code",
      "metadata": {
        "id": "PlE83Hh5ykWR",
        "outputId": "89f9c995-e476-41b4-c988-9be2eb4775cd"
      },
      "source": [
        "2 > 4"
      ],
      "execution_count": null,
      "outputs": [
        {
          "output_type": "execute_result",
          "data": {
            "text/plain": [
              "False"
            ]
          },
          "metadata": {
            "tags": []
          },
          "execution_count": 7
        }
      ]
    },
    {
      "cell_type": "markdown",
      "metadata": {
        "id": "BRBIKXDEykWR"
      },
      "source": [
        "#### Less Than"
      ]
    },
    {
      "cell_type": "code",
      "metadata": {
        "id": "vHm9gddZykWS",
        "outputId": "914be9e0-104e-4976-c9e8-d77a7cc70826"
      },
      "source": [
        "2 < 4"
      ],
      "execution_count": null,
      "outputs": [
        {
          "output_type": "execute_result",
          "data": {
            "text/plain": [
              "True"
            ]
          },
          "metadata": {
            "tags": []
          },
          "execution_count": 9
        }
      ]
    },
    {
      "cell_type": "code",
      "metadata": {
        "id": "U8vKNPgOykWT",
        "outputId": "de1aabe8-cf1c-4abb-d676-25aa3e080fc0"
      },
      "source": [
        "a = 2\n",
        "b = 4\n",
        "a > b"
      ],
      "execution_count": null,
      "outputs": [
        {
          "output_type": "execute_result",
          "data": {
            "text/plain": [
              "False"
            ]
          },
          "metadata": {
            "tags": []
          },
          "execution_count": 8
        }
      ]
    },
    {
      "cell_type": "code",
      "metadata": {
        "id": "EB-3xiSjykWT",
        "outputId": "efc73703-5346-4826-952f-a75411b689ed"
      },
      "source": [
        "2 < 1"
      ],
      "execution_count": null,
      "outputs": [
        {
          "output_type": "execute_result",
          "data": {
            "text/plain": [
              "False"
            ]
          },
          "metadata": {
            "tags": []
          },
          "execution_count": 9
        }
      ]
    },
    {
      "cell_type": "markdown",
      "metadata": {
        "id": "Px28WXJuykWU"
      },
      "source": [
        "#### Greater Than or Equal to"
      ]
    },
    {
      "cell_type": "code",
      "metadata": {
        "id": "ygfUhopgykWU",
        "outputId": "fd7f8378-ee9a-43ae-947b-751cccdb3f69"
      },
      "source": [
        "2 >= 2"
      ],
      "execution_count": null,
      "outputs": [
        {
          "output_type": "execute_result",
          "data": {
            "text/plain": [
              "True"
            ]
          },
          "metadata": {
            "tags": []
          },
          "execution_count": 10
        }
      ]
    },
    {
      "cell_type": "code",
      "metadata": {
        "id": "vDlkUQWwykWV",
        "outputId": "76b7f32e-cf8f-46d5-b233-d35b72a4b37f"
      },
      "source": [
        "2 > 2"
      ],
      "execution_count": null,
      "outputs": [
        {
          "output_type": "execute_result",
          "data": {
            "text/plain": [
              "False"
            ]
          },
          "metadata": {
            "tags": []
          },
          "execution_count": 11
        }
      ]
    },
    {
      "cell_type": "code",
      "metadata": {
        "id": "39x_48gzykWV",
        "outputId": "6267bfbc-89c4-40ff-ae18-d9782170f4db"
      },
      "source": [
        "2 >= 1"
      ],
      "execution_count": null,
      "outputs": [
        {
          "output_type": "execute_result",
          "data": {
            "text/plain": [
              "True"
            ]
          },
          "metadata": {
            "tags": []
          },
          "execution_count": 12
        }
      ]
    },
    {
      "cell_type": "markdown",
      "metadata": {
        "id": "GiE6LBlPykWW"
      },
      "source": [
        "#### Less than or Equal to"
      ]
    },
    {
      "cell_type": "code",
      "metadata": {
        "id": "OE2WjpE0ykWW",
        "outputId": "bbd76aa8-284b-4d37-fbaa-6a4ad8105c09"
      },
      "source": [
        "2 <= 2"
      ],
      "execution_count": null,
      "outputs": [
        {
          "output_type": "execute_result",
          "data": {
            "text/plain": [
              "True"
            ]
          },
          "metadata": {
            "tags": []
          },
          "execution_count": 13
        }
      ]
    },
    {
      "cell_type": "code",
      "metadata": {
        "id": "Mg-m56F_ykWW",
        "outputId": "81170726-0378-47bf-c3d9-c26e17af391c"
      },
      "source": [
        "2 <= 4"
      ],
      "execution_count": null,
      "outputs": [
        {
          "output_type": "execute_result",
          "data": {
            "text/plain": [
              "True"
            ]
          },
          "metadata": {
            "tags": []
          },
          "execution_count": 14
        }
      ]
    },
    {
      "cell_type": "code",
      "metadata": {
        "id": "5dhC04ALykWX",
        "outputId": "3f052d8d-3e0f-4489-8c75-0b1e029f8b72"
      },
      "source": [
        "2 < 2"
      ],
      "execution_count": null,
      "outputs": [
        {
          "output_type": "execute_result",
          "data": {
            "text/plain": [
              "False"
            ]
          },
          "metadata": {
            "tags": []
          },
          "execution_count": 15
        }
      ]
    },
    {
      "cell_type": "code",
      "metadata": {
        "id": "gu11mj9rykWX"
      },
      "source": [
        ""
      ],
      "execution_count": null,
      "outputs": []
    }
  ]
}